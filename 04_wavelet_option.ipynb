{
 "cells": [
  {
   "cell_type": "markdown",
   "id": "ac077771",
   "metadata": {},
   "source": [
    "# Latihan-4 Variasi Pilihan Ricker Wavelet"
   ]
  },
  {
   "cell_type": "markdown",
   "id": "6ed7ec35",
   "metadata": {},
   "source": [
    "Latihan ini adalah eksplorasi format wavelet tahap demi tahap dalam library __scipy.signal__ menggunakan fungsi Hilbert transform, sehingga mudah digunakan selama latihan-latihan pemodelan selanjutnya tanpa harus melakukan instalasi dari library lain<br><br>\n",
    "Keterangan mengenai Hilbert transform dalam library scipy.signal dapat ditemukan melalui halaman ini: https://docs.scipy.org/doc/scipy/reference/generated/scipy.signal.hilbert.html\n",
    "<br><br> _citation for this page: \"Adi Widyantoro, 2021, Pertamina Seismic QI Course, Latihan-4 Variasi Pilihan Ricker Wavelet.ipynb, accessed MM DD, YYYY.\"_  \n",
    "<br>\n",
    "<br>\n",
    ">_(update terakhir tanggal 1 Juli 2021 oleh Adi Widyantoro)_"
   ]
  },
  {
   "cell_type": "code",
   "execution_count": null,
   "id": "8cac1d9b",
   "metadata": {},
   "outputs": [],
   "source": [
    "%matplotlib inline\n",
    "%config InlineBackend.figure_format = 'png'\n",
    "import numpy as np\n",
    "import pandas as pd\n",
    "import matplotlib.pyplot as plt\n",
    "from scipy.signal import hilbert, chirp"
   ]
  },
  {
   "cell_type": "markdown",
   "id": "a38ee682",
   "metadata": {},
   "source": [
    "Pendekatan ekspresi Ricker wavelet dengan menggunakan fungsi dengan variasi input frekuensi. Pembahasan mengenai penggunaan pendekatan wavelet ini dapat ditemukan pada tautan: https://subsurfwiki.org/wiki/Ricker_wavelet\n",
    "<br><br>\n",
    "\n",
    "$A = (1-2 \\pi^2 f^2 t^2) e^{-\\pi^2 f^2 t^2}$\n",
    " \n",
    "$A$ adalah amplitude<br>\n",
    "$f$ adalah frequency<br>\n",
    "$t$ adalah time<br>\n",
    "\n",
    "<br>pilihan pendekatan frequency dan sample rate dapat ditentukan sbb:"
   ]
  },
  {
   "cell_type": "code",
   "execution_count": null,
   "id": "34873731",
   "metadata": {},
   "outputs": [],
   "source": [
    "f = 20 # pilihan frekuensi wavelet (~a low wavelength)\n",
    "l = 200 # length\n",
    "dt = 4 # sample rate"
   ]
  },
  {
   "cell_type": "code",
   "execution_count": null,
   "id": "4c18a2ce",
   "metadata": {
    "scrolled": false
   },
   "outputs": [],
   "source": [
    "#t = np.linspace(-l/2, (l-dt)/2, int(l/dt))/1000   # menggunakan no.of samples dan dapat menggunakan end point\n",
    "t = np.arange(-l/2, l/2+dt,dt)/1000  # menggunakan step size, arrangement ini lebih sentral\n",
    "zeroph = (1.0 - 2.0*(np.pi**2)*(f**2)*(t**2)) * np.exp(-(np.pi**2)*(f**2)*(t**2))\n",
    "h = hilbert (zeroph)\n",
    "plt.figure(figsize=(8,4))\n",
    "plt.plot(t,zeroph, 'r', label = 'Zero Phase', lw=2)\n",
    "plt.legend(fontsize=14, frameon=False)\n",
    "plt.grid(color = 'gray', linestyle = ':', linewidth = 0.6)\n",
    "plt.xlim([-0.1, 0.1]), plt.ylim([-0.5, 1])\n",
    "plt.show()"
   ]
  },
  {
   "cell_type": "markdown",
   "id": "037af252",
   "metadata": {},
   "source": [
    "### Wavelet Linear Smoothing"
   ]
  },
  {
   "cell_type": "markdown",
   "id": "9c947200",
   "metadata": {},
   "source": [
    "Scipy library mempunyai beberapa algoritma smoothing yang dpat di-eksplorasi penggunaannya. \n",
    "Salahsatunya adalah fungsi __spline smoothing__ yang dapat digunakan untuk multidimensi x,y"
   ]
  },
  {
   "cell_type": "code",
   "execution_count": null,
   "id": "efbf1480",
   "metadata": {},
   "outputs": [],
   "source": [
    "from scipy.interpolate import splrep, splev\n",
    "spline_factor=0.5\n",
    "plt.figure(figsize=(8,4))\n",
    "splinewave = splev(t,splrep(t,zeroph,s=spline_factor))\n",
    "plt.plot(t,zeroph, 'r', label = 'Zero Phase', lw=2)\n",
    "plt.plot(t,splinewave, 'g', label = 'Spline', lw=2)\n",
    "plt.legend(fontsize=14, frameon=False)\n",
    "plt.grid(color = 'gray', linestyle = ':', linewidth = 0.6)\n",
    "plt.xlim([-0.1, 0.1]), plt.ylim([-0.5, 1])\n",
    "plt.show()"
   ]
  },
  {
   "cell_type": "markdown",
   "id": "65d683ef",
   "metadata": {},
   "source": [
    "Fungsi lain yang tersedia dalam scipy library adalah __Savitsky_Golai__ (Convolutional) smoothing yang relatif lebih subtle dan mempertahankan bentuk waveform"
   ]
  },
  {
   "cell_type": "code",
   "execution_count": null,
   "id": "bb9c8b4a",
   "metadata": {},
   "outputs": [],
   "source": [
    "from scipy.signal import savgol_filter\n",
    "window = 11 # pilihan window length harus ganjil\n",
    "order = 2 # pilihan order harus lebih kecil dari pilihan window di atas, bisa genap\n",
    "sgwave = savgol_filter(zeroph, window, order)\n",
    "plt.figure(figsize=(8,4))\n",
    "plt.plot(t,zeroph, 'r', label = 'Zero Phase', lw=2)\n",
    "plt.plot(t,sgwave, 'g', label = 'Sav_Gol', linewidth=2)\n",
    "plt.legend(fontsize=14, frameon=False)\n",
    "plt.grid(color = 'gray', linestyle = ':', linewidth = 0.6)\n",
    "plt.xlim([-0.1, 0.1]), plt.ylim([-0.5, 1])\n",
    "plt.show()"
   ]
  },
  {
   "cell_type": "markdown",
   "id": "0cb78798",
   "metadata": {},
   "source": [
    "### Rotasi Fasa"
   ]
  },
  {
   "cell_type": "markdown",
   "id": "53401372",
   "metadata": {},
   "source": [
    "Rotasi fasa wavelet jika diperlukan"
   ]
  },
  {
   "cell_type": "code",
   "execution_count": null,
   "id": "55bca0d0",
   "metadata": {},
   "outputs": [],
   "source": [
    "rotdeg=-90 # pilihan rotasi fasa jika diperlukan"
   ]
  },
  {
   "cell_type": "code",
   "execution_count": null,
   "id": "ae6a6ebe",
   "metadata": {
    "scrolled": false
   },
   "outputs": [],
   "source": [
    "theta = rotdeg*np.pi/180\n",
    "rotph = np.cos(theta)*h.real-np.sin(theta)*h.imag\n",
    "plt.figure(figsize=(8,4))\n",
    "plt.plot(t,zeroph, 'r', label = 'Zero Phase', lw=4)\n",
    "plt.plot(t,rotph, 'b', label= 'Rotated %s deg' %rotdeg, lw=4)\n",
    "plt.legend(fontsize=14, frameon=False)\n",
    "plt.grid(color = 'gray', linestyle = ':', linewidth = 0.6)\n",
    "plt.xlim([-0.1, 0.1]), plt.ylim([-1, 1])\n",
    "plt.show()"
   ]
  },
  {
   "cell_type": "markdown",
   "id": "4cf0eafb",
   "metadata": {},
   "source": [
    "### Visualisasi Wavelet"
   ]
  },
  {
   "cell_type": "code",
   "execution_count": null,
   "id": "8032dff1",
   "metadata": {},
   "outputs": [],
   "source": [
    "f, ax = plt.subplots(1,2, figsize=(10,4), sharey=True)\n",
    "for axes in ax:\n",
    "    axes.set_xlim([-0.075, 0.075])\n",
    "    axes.set_ylim([-1, 1])\n",
    "    axes.grid(color = 'gray', linestyle = ':', linewidth = 0.6)\n",
    "ax[0].plot(t,zeroph, 'k', lw=2)\n",
    "ax[0].legend(['Zero Phase'],loc='lower right', borderpad=1, frameon=False, prop={'size':12})\n",
    "ax[0].fill_between(t,zeroph,0,zeroph>0.0,interpolate=True,color='blue', alpha = 0.4)\n",
    "ax[0].fill_between(t,zeroph,0,zeroph<0.0,interpolate=True,color='red', alpha = 0.4)\n",
    "ax[1].plot(t,rotph, 'k',lw=2)\n",
    "ax[1].legend(['Rotated %s deg' %rotdeg],loc='lower right', borderpad=1, frameon=False, prop={'size':12})\n",
    "ax[1].fill_between(t,rotph,0,rotph>0.0,interpolate=True,color='blue', alpha = 0.4)\n",
    "ax[1].fill_between(t,rotph,0,rotph<0.0,interpolate=True,color='red', alpha = 0.4)\n",
    "f.tight_layout()"
   ]
  },
  {
   "cell_type": "markdown",
   "id": "93437c20",
   "metadata": {},
   "source": [
    "    berikut diskusi signal phase dan frequency yang dapat dipelajari dan dibahas di kelas, \n",
    "    reproduksi dari halaman berikut:https://docs.scipy.org/doc/scipy/reference/generated/scipy.signal.hilbert.html"
   ]
  },
  {
   "cell_type": "code",
   "execution_count": null,
   "id": "6470bfa3",
   "metadata": {
    "scrolled": false
   },
   "outputs": [],
   "source": [
    "exec(open('f04runhilbert.py').read())\n",
    "#plt.savefig(\"04_wavelet.png\", dpi=200)"
   ]
  },
  {
   "cell_type": "markdown",
   "id": "fdb1daf2",
   "metadata": {},
   "source": [
    "Exercise:\n",
    "urutan array setup untuk plot Time-Frequency di atas adalah sebagai berikut:<br>\n",
    "        \n",
    "        duration=1\n",
    "        freq_low=10\n",
    "        freq_high=100\n",
    "        fs=500\n",
    "        samples= int(fs.duration)\n",
    "        t=np.arange(samples) / fs\n",
    "        signal = chirp(t, freq_low, t[-2], freq_high)\n",
    "        signal *= (1.0 + 0.5 * np.sin(2.0*np.pi*3.0*t) )\n",
    "        h_signal = hilbert(signal)\n",
    "        amp_env = np.abs(h_signal)\n",
    "        inst_ph = np.unwrap(np.angle(h_signal))\n",
    "        inst_freq = (np.diff(inst_ph) / (2.0*np.pi) * fs)"
   ]
  },
  {
   "cell_type": "markdown",
   "id": "98188b33",
   "metadata": {},
   "source": [
    "<h1><center>-Akhir Program Latihan-4-<center></h1>"
   ]
  }
 ],
 "metadata": {
  "kernelspec": {
   "display_name": "Python 3",
   "language": "python",
   "name": "python3"
  },
  "language_info": {
   "codemirror_mode": {
    "name": "ipython",
    "version": 3
   },
   "file_extension": ".py",
   "mimetype": "text/x-python",
   "name": "python",
   "nbconvert_exporter": "python",
   "pygments_lexer": "ipython3",
   "version": "3.9.5"
  }
 },
 "nbformat": 4,
 "nbformat_minor": 5
}
