{
 "cells": [
  {
   "cell_type": "markdown",
   "id": "04355d85",
   "metadata": {},
   "source": [
    "# Latihan-9a Simple 1D Model"
   ]
  },
  {
   "cell_type": "markdown",
   "id": "60e249c2",
   "metadata": {},
   "source": [
    "Latihan ini untuk pemodelan half space atau disebut juga blocky model, atau interface model yang terdiri dari 2-3 block layers digunakan untuk menganalisis respon amplitudo terhadap interface antara top dan bottom layers\n",
    "<br><br> _citation for this page: \"Adi Widyantoro, 2021, Pertamina Seismic QI Course, Latihan-9 Simple 1D model.ipynb\"_  \n",
    "<br>\n",
    ">(update terakhir tanggal 1 Juli 2021 oleh Adi Widyantoro)\n",
    "<hr>"
   ]
  },
  {
   "cell_type": "markdown",
   "id": "f104f7b6",
   "metadata": {},
   "source": [
    "__Tahap-1__ \n",
    "<br> Program setup dan display sama seperti latihan sebelumnya. Gunakan hasil dari Latihan-3 data _logs_blocked_ untuk latihan selanjutnya\n",
    "<br> \n",
    "        \n",
    "        special notes_: brugeslibrary adalah kumpulan pre-defined functions oleh Agile Geoscience bruges:\n",
    "        https://github.com/agile-geoscience/bruges\n",
    "        \n",
    "        The bruges library's credits go to contributors: Evan Bianco, Ben Bougher, Matt Hall, Alessandro Amato del Monte, \n",
    "        Wes Hamlyn, Sean Ross-Ross"
   ]
  },
  {
   "cell_type": "code",
   "execution_count": null,
   "id": "4557b311",
   "metadata": {
    "scrolled": true
   },
   "outputs": [],
   "source": [
    "%matplotlib inline\n",
    "%config InlineBackend.figure_format = 'png'\n",
    "import numpy as np\n",
    "import matplotlib.pyplot as plt\n",
    "import matplotlib as mpl\n",
    "import pandas as pd\n",
    "from matplotlib import cm, pyplot\n",
    "from scipy.optimize import curve_fit\n",
    "from scipy.signal import hilbert\n",
    "from f07reflect import fullzoep, ei_norm\n",
    "from f07gassmann import fluidsub\n",
    "from brugeslibrary import vels, stiffsand, softsand, hertzmindlin, contactcement, vrh\n",
    "mpl.style.use('default') # default, seaborn"
   ]
  },
  {
   "cell_type": "markdown",
   "id": "dce34de5",
   "metadata": {},
   "source": [
    "__Tahap-2__ \n",
    "<br> Mendapatkan nilai rata-rata untuk masing-masing interval<br>\n",
    "nilai top pick untuk 5(lima) layers dari Latihan-3 sebelumnya adalah sbb:"
   ]
  },
  {
   "cell_type": "code",
   "execution_count": null,
   "id": "a3e6a909",
   "metadata": {},
   "outputs": [],
   "source": [
    "adi2=pd.read_csv('adi02block.csv')\n",
    "z=adi2.Depth\n",
    "\n",
    "top_plot=1650\n",
    "pick1=1680\n",
    "pick2=1720\n",
    "pick3=1740\n",
    "pick4=1770\n",
    "base_plot=1800"
   ]
  },
  {
   "cell_type": "markdown",
   "id": "cdd71163",
   "metadata": {},
   "source": [
    "menghitung interval property arrays dari 5-layers, dan visualisasi asumsi litofasies dan properti elastiknya. Menggunakan file lain di luar halaman ini yang bernama _09visual_adi02blk.py_ "
   ]
  },
  {
   "cell_type": "code",
   "execution_count": null,
   "id": "4160a66b",
   "metadata": {
    "scrolled": false
   },
   "outputs": [],
   "source": [
    "exec(open('f09visual_adi02blk.py').read())"
   ]
  },
  {
   "cell_type": "markdown",
   "id": "7d0de66b",
   "metadata": {},
   "source": [
    "Checkshot data memberikan hubungan Time-Depth sbb __TWT(ms) = 0.6395 * Depth(m) + 383.52__. Sehingga semua properti dapat dikonversi dalam domain waktu"
   ]
  },
  {
   "cell_type": "code",
   "execution_count": null,
   "id": "bdfe58bc",
   "metadata": {
    "scrolled": true
   },
   "outputs": [],
   "source": [
    "adi2.head(5);"
   ]
  },
  {
   "cell_type": "markdown",
   "id": "5499f48d",
   "metadata": {},
   "source": [
    "__Tahap-3__ \n",
    "<br> Membuat model dari nilai rata-rata untuk masing-masing interval<br><br>\n",
    "Copy array dari hasil Latihan-8 untuk simplifikasi sbb:\n",
    "\n",
    "        thickness =[30, 40, 20, 30, 30]\n",
    "        layer1_elog =[3.3, 1.85, 2.42]\n",
    "        layer2_elog =[3.28, 1.77, 2.44]\n",
    "        layer3_elog =[3.08, 1.72, 2.25]\n",
    "        layer4_elog =[3.41, 1.96, 2.32]\n",
    "        layer5_elog =[3.48, 1.85, 2.48]\n",
    "        vplyr=[3.3, 3.28, 3.08, 3.41, 3.48]\n",
    "        vslyr=[1.85, 1.77, 1.72, 1.96, 1.85]\n",
    "        rholyr=[2.42, 2.44, 2.25, 2.32, 2.48]\n",
    "        vshlyr=[0.58, 0.71, 0.23, 0.34, 0.76]\n",
    "        phitlyr=[0.12, 0.12, 0.21, 0.16, 0.11]\n",
    "        swtlyr=[0.95, 0.98, 0.75, 0.84, 1.0]"
   ]
  },
  {
   "cell_type": "code",
   "execution_count": null,
   "id": "aefbc8eb",
   "metadata": {},
   "outputs": [],
   "source": [
    "#input : copy yang diperlukan saja\n",
    "thickness =[30, 40, 20, 30, 30]\n",
    "vplyr_i=[3.3, 3.28, 3.08, 3.41, 3.48]\n",
    "vslyr_i=[1.85, 1.77, 1.72, 1.96, 1.85]\n",
    "rholyr_i=[2.42, 2.44, 2.25, 2.32, 2.48]\n",
    "\n",
    "#simplifikasi blook layers di atas, agar prosesnya mudah diubah dan dibahas dalam kelas\n",
    "def make_log(log, thickness):\n",
    "    out = []\n",
    "    for thick, x in zip(thickness, log):\n",
    "        out += thick * [x]\n",
    "    time = np.arange(0, sum(thickness))\n",
    "    return np.array(out), time\n",
    "vplyr, time = make_log(vplyr_i, thickness)\n",
    "vslyr, _ = make_log(vslyr_i, thickness)\n",
    "rholyr, _ = make_log(rholyr_i, thickness)\n",
    "vpvs = vplyr/vslyr\n",
    "# acoustic impedance\n",
    "ip = vplyr * rholyr\n",
    "ip_lower = ip[1:]\n",
    "ip_upper = ip[:-1]\n",
    "rc = (ip_lower - ip_upper) / (ip_lower + ip_upper)\n",
    "\"\"\"\n",
    "default wavelet yang digunakan adalah Ricker central frequency 20Hz, 200samples\n",
    "eksplorasi pilihan rotasi wavelet dengan mengubah ph=0 menjadi rotasi yang diinginkan misalnya ph=-90deg\n",
    "\"\"\"\n",
    "f, l, dt, ph = 20, 200, 2, 0\n",
    "t = np.arange(-l/2, l/2, dt)/1000\n",
    "zerophase = (1.0 - 2.0*(np.pi**2)*(f**2)*(t**2)) * np.exp(-(np.pi**2)*(f**2)*(t**2))\n",
    "h = hilbert (zerophase)\n",
    "theta = ph*np.pi/180\n",
    "wavelet = np.cos(theta)*h.real-np.sin(theta)*h.imag\n",
    "# convolution\n",
    "syn = np.convolve(rc, wavelet, mode='same')\n",
    "print(\"Selalu QC no of samples berikut:\", len(syn))"
   ]
  },
  {
   "cell_type": "code",
   "execution_count": null,
   "id": "eadf1a78",
   "metadata": {},
   "outputs": [],
   "source": [
    "def rcshuey(vp1, vs1, rho1, vp2, vs2, rho2, theta):\n",
    "    a = np.radians(theta)\n",
    "    dvp = vp2-vp1\n",
    "    dvs = vs2-vs1\n",
    "    drho = rho2-rho1\n",
    "    vp  = np.mean([vp1,vp2])\n",
    "    vs  = np.mean([vs1,vs2])\n",
    "    rho = np.mean([rho1,rho2])\n",
    "    I = 0.5*(dvp/vp + drho/rho)\n",
    "    G = 0.5*(dvp/vp) - 2*(vs**2/vp**2)*(drho/rho+2*(dvs/vs))\n",
    "    F = 0.5*(dvp/vp)\n",
    "    R = I + G*np.sin(a)**2 + F*(np.tan(a)**2-np.sin(a)**2)\n",
    "    return R"
   ]
  },
  {
   "cell_type": "code",
   "execution_count": null,
   "id": "69787173",
   "metadata": {
    "scrolled": false
   },
   "outputs": [],
   "source": [
    "vplo = vplyr[1:]; vslo = vslyr[1:];rholo = rholyr[1:]\n",
    "vpup = vplyr[:-1]; vsup = vslyr[:-1]; rhoup = rholyr[:-1]\n",
    "angles = 40\n",
    "traces = np.linspace(0, angles, angles)\n",
    "rcavo=[]; synavo = []\n",
    "for i in range(angles):\n",
    "    rcavo = rcshuey(vpup, vsup, rhoup, vplo, vslo, rholo, theta=i)\n",
    "    syn = np.convolve(wavelet, rcavo, mode='same') \n",
    "    synavo.append(syn)\n",
    "\n",
    "print(\"Selalu QC no of samples berikut:\", len(synavo[0]))"
   ]
  },
  {
   "cell_type": "code",
   "execution_count": null,
   "id": "f3e0aa78",
   "metadata": {
    "scrolled": false
   },
   "outputs": [],
   "source": [
    "#plot\n",
    "fig, axs = plt.subplots(ncols=6, figsize=(10, 5), sharey=True)\n",
    "ax0 = axs[0]; ax0.plot(vplyr, time, 'k'); ax0.invert_yaxis()\n",
    "ax0.set_xlabel('Vp',color='k', fontsize=12) \n",
    "ax1 = axs[1]; ax1.plot(vslyr, time, 'k')\n",
    "ax1.set_xlabel('Vs',color='k', fontsize=12) \n",
    "ax2 = axs[2]; ax2.plot(rholyr, time, 'k')\n",
    "ax2.set_xlabel('Rho',color='k', fontsize=12) \n",
    "ax3 = axs[3]; ax3.plot(synavo[5], time[:-1], 'k')\n",
    "ax3.fill_betweenx(time[:-1], 0, synavo[5], \n",
    "                  where=(synavo[5]>0),color='b', alpha=0.6)\n",
    "ax3.fill_betweenx(time[:-1], 0, synavo[5], \n",
    "                  where=(synavo[5]<0),color='r', alpha=0.6)\n",
    "ax3.set_xlabel('Near=5deg',color='k', fontsize=12) \n",
    "ax4 = axs[4]; ax4.plot(synavo[15],time[:-1],'k')\n",
    "ax4.plot(synavo[5], time[:-1], 'k', lw=1.5, linestyle=\":\")\n",
    "ax4.fill_betweenx(time[:-1], 0, synavo[15], \n",
    "                  where=(synavo[15]>0),color='b', alpha=0.6)\n",
    "ax4.fill_betweenx(time[:-1], 0, synavo[15], \n",
    "                  where=(synavo[15]<0),color='r', alpha=0.6)\n",
    "ax4.set_xlabel('Mid=15deg',color='k', fontsize=12) \n",
    "ax5 = axs[5]; ax5.plot(synavo[35],time[:-1],'k')\n",
    "ax5.plot(synavo[5], time[:-1], 'k', lw=1.5, linestyle=\":\")\n",
    "ax5.fill_betweenx(time[:-1], 0, synavo[35], \n",
    "                  where=(synavo[35]>0),color='b', alpha=0.6)\n",
    "ax5.fill_betweenx(time[:-1], 0, synavo[35], \n",
    "                  where=(synavo[35]<0),color='r', alpha=0.6)\n",
    "ax5.set_xlabel('Far=35deg',color='k', fontsize=12) \n",
    "top=thickness[0]+thickness[1]\n",
    "base=thickness[0]+thickness[1]+thickness[2]\n",
    "for aa in axs:\n",
    "    aa.xaxis.set_label_position('top')\n",
    "    aa.axhline(y=top, linewidth=1, color='r')\n",
    "    aa.axhline(y=base, linewidth=1, color='b')\n",
    "for bb in [ax3, ax4, ax5]:\n",
    "    bb.set_xlim(-0.25,0.25)\n",
    "plt.show()"
   ]
  },
  {
   "cell_type": "markdown",
   "id": "b8a74e0e",
   "metadata": {},
   "source": [
    "__Tahap-4__ \n",
    "<br> Variasi porositas, saturasi dan Vsh"
   ]
  },
  {
   "cell_type": "markdown",
   "id": "6a8d344f",
   "metadata": {},
   "source": [
    "### Porosity, Saturation and Vsh"
   ]
  },
  {
   "cell_type": "code",
   "execution_count": null,
   "id": "36380bbc",
   "metadata": {},
   "outputs": [],
   "source": [
    "vshlyr_i=[0.58, 0.71, 0.23, 0.34, 0.76]\n",
    "phitlyr_i=[0.12, 0.12, 0.21, 0.16, 0.11]\n",
    "swtlyr_i=[0.95, 0.98, 0.75, 0.84, 1.0]\n",
    "vshlyr, _ = make_log(vshlyr_i, thickness)\n",
    "phitlyr, _ = make_log(phitlyr_i, thickness)\n",
    "swtlyr, _ = make_log(swtlyr_i, thickness)\n",
    "#plot\n",
    "f, axes = plt.subplots(ncols=3, figsize=(6, 5), sharey=True)\n",
    "ax0 = axes[0]; ax0.plot(vplyr, time, 'k'); ax0.invert_yaxis()\n",
    "ax0.set_xlabel('Vp',color='k', fontsize=12) \n",
    "ax1 = axes[1]; ax1.plot(vshlyr, time, 'k')\n",
    "ax1.set_xlabel('Vsh',color='k', fontsize=12) \n",
    "ax2 = axes[2]; ax2.plot(phitlyr, time, 'k')\n",
    "ax2.set_xlabel('Phit',color='k', fontsize=12)\n",
    "top=thickness[0]+thickness[1]\n",
    "base=thickness[0]+thickness[1]+thickness[2]\n",
    "for aa in axes:\n",
    "    aa.xaxis.set_label_position('top')\n",
    "    aa.axhline(y=top, linewidth=1, color='r')\n",
    "    aa.axhline(y=base, linewidth=1, color='b')\n",
    "plt.show()"
   ]
  },
  {
   "cell_type": "markdown",
   "id": "c28c639e",
   "metadata": {},
   "source": [
    "### Velocity-Property Relations"
   ]
  },
  {
   "cell_type": "markdown",
   "id": "6181f48e",
   "metadata": {},
   "source": [
    "pemodelan variasi reservoir properties dilandasi dengan model fisika batuan yang sesuai dengan kondisi data. Gunakan pilihan yang ada seperti yang dijelaskan dalam kursus sebelumnya, e.g.: Fundamental Rock Physics dan Fundamental QI"
   ]
  },
  {
   "cell_type": "markdown",
   "id": "3832af7c",
   "metadata": {},
   "source": [
    "            Bruges functions:\n",
    "            hertzmindlin(K0, G0, phic=0.4, Cn=8.6, sigma=10, f=1)\n",
    "            stiffsand(K0, G0, phi, phic=0.4, Cn=8.6, sigma=10 Peff, f=1)\n",
    "            softsand(K0, G0, phi, phic=0.4, Cn=8.6, sigma=10 Peff, f=1)\n",
    "            vels(K_DRY,G_DRY,K0=Kma,D0=Rhoma,Kf=Kfl,Df=rhofluid,phi)\n",
    "            vrh(volumes,k,mu)"
   ]
  },
  {
   "cell_type": "code",
   "execution_count": null,
   "id": "f014b852",
   "metadata": {},
   "outputs": [],
   "source": [
    "rho_qz=2.65;  k_qz=37;  mu_qz=44    # mineral properties, quartz (i.e., sands)\n",
    "rho_sh=2.81;  k_sh=15;  mu_sh=5     # mineral properties, clay (i.e., shales)\n",
    "rho_b=1.09;   k_b=2.8               # fluid properties, brine\n",
    "rho_o=0.78;   k_o=0.94              # fluid properties, oil\n",
    "rho_g=0.25;   k_g=0.06              # fluid properties, gas"
   ]
  },
  {
   "cell_type": "code",
   "execution_count": null,
   "id": "524ef926",
   "metadata": {},
   "outputs": [],
   "source": [
    "\"\"\" input rock physics models\"\"\"\n",
    "vsh=vshlyr\n",
    "vsd=1-vsh\n",
    "phi=phitlyr\n",
    "sw=swtlyr\n",
    "kvoigt=(vsh*k_sh) + (vsd*k_qz)\n",
    "kreuss=1/(vsh/k_sh + vsd/k_qz)\n",
    "kvrh=0.5*(kvoigt+kreuss)\n",
    "K0 = kvrh\n",
    "muvoigt=(vsh*mu_sh) + (vsd*mu_qz)\n",
    "mureuss=1/(vsh/mu_sh + vsd/mu_qz)\n",
    "muvrh=0.5*(muvoigt+mureuss)\n",
    "G0 = muvrh\n",
    "D0 = vsh*(rho_sh)+(1-vsh)*rho_qz \n",
    "Df = sw*rho_b+(1-sw)*rho_o\n",
    "Kf = 1/((1-sw)/k_o + sw/k_b)\n",
    "M0=K0+(4/3)*G0\n",
    "Vp0=np.sqrt(M0/D0)\n",
    "Vpf=np.sqrt(Kf/Df)"
   ]
  },
  {
   "cell_type": "markdown",
   "id": "7d8fd7ee",
   "metadata": {},
   "source": [
    "### Model Rock Physics"
   ]
  },
  {
   "cell_type": "markdown",
   "id": "d309fdce",
   "metadata": {},
   "source": [
    "Beberapa model variasi contact model berdasarkan Hertz-mindlin dapat digunakan. Seperti model _stiff sand, soft sand, contact cement_ dan _critical porosity_ atau model lain. Model rock physics ini dibahas dalam kelas Fundamental Rock Physics dan Fundamental QI\n",
    "\n",
    "<br> Model variasi velocity dan porosity yang digunakan di bawah misalnya Raymer, et.al (1980) juga dapat dieksplorasi untuk fitting data trend. Hubungan Raymer diberikan sebagai berikut:\n",
    "<br>\n",
    "   \n",
    "<font size=4>$V = (1-\\phi)^2.V_0 + \\phi.V_{fl}$</font>, untuk $\\phi$ < 37%\n",
    "<br>\n",
    "\n",
    "<font size=5>$\\frac{1}{\\rho.V^2} = \\frac{\\phi}{\\rho_{fl}.V_{fl}^2} + \\frac{1-\\phi}{\\rho_{ma}.V_{ma}^2} $</font>, untuk $\\phi$ > 47%\n",
    "<br><br>\n",
    "untuk intermediate porosities:\n",
    "<br>\n",
    "\n",
    "<font size=5>$\\frac{1}{V} = \\frac{(0.47-\\phi)}{0.10}.\\frac{1}{V_{37}} + \\frac{(\\phi-0.37)}{0.10}.\\frac{1}{V_{47}}$ </font>\n",
    "<br><br>\n",
    "\n",
    "dimana $V_{37}$ dihitung dari hubungan low porosity pada $\\phi$=0.37, dan $V_{47}$ dihitung dari hubungan high porosity pada $\\phi$=0.47\n",
    "\n",
    "\n",
    "    Catatan: model rock physics Raymer, hanya contoh penjelasan ilustrasi di bawah. \n",
    "    Gunakan model rock physics lain yang sesuai dengan tren dan variasi data yang ada"
   ]
  },
  {
   "cell_type": "markdown",
   "id": "c57b9d42",
   "metadata": {},
   "source": [
    "------------------------------------------------------------------------"
   ]
  },
  {
   "cell_type": "markdown",
   "id": "c983b881",
   "metadata": {},
   "source": [
    "## Pemodelan Perubahan Porositas"
   ]
  },
  {
   "cell_type": "code",
   "execution_count": null,
   "id": "b64cdee6",
   "metadata": {},
   "outputs": [],
   "source": [
    "# velocity - Porosity\n",
    "\"\"\"soft sand model\"\"\"\n",
    "soft=softsand(K0, G0, phi, phic=0.3, Cn=5, sigma=4, f=1)\n",
    "Kdrysoft=soft[0]; Gdrysoft=soft[1]\n",
    "velsoft=vels(Kdrysoft,Gdrysoft,K0,D0,Kf,Df,phi)\n",
    "vpsoft=0.001*velsoft[0];vssoft=0.001*velsoft[1]\n",
    "rhosoft=velsoft[2];Ksoft=velsoft[3]\n",
    "# print(len(vplyr),len(vpsoft))\n",
    "\"\"\" Raymer et.al Vp-porosity model for Phi <0.37 \"\"\"\n",
    "vpray=(((1-phitlyr)**2)*Vp0)+(phitlyr*Vpf)"
   ]
  },
  {
   "cell_type": "markdown",
   "id": "ddaff258",
   "metadata": {},
   "source": [
    "Variasi model pengurangan velocity karena meningkatnya porositas dan clay content juga telah dimodelkan oleh Han, menggunakan sampel shaley sand, pada kondisi variasi pressure secara umum direprentasikan dalam hubungan linier (Mavko et.al., The Rock Physics Handbook, 2nd ed.):\n",
    "   \n",
    "<font size=4>$V = a - b\\phi - c V_{cl}$</font> <br>\n",
    "\n",
    "|Clean Sand|||||\n",
    "|:----|----|----|---:|:--:|\n",
    "|Water Sat|Vp_a|Vp_b|Vs_a|Vs_b|\n",
    "|40MPa|6.08|8.06|4.06|6.28|\n",
    "\n",
    "|Shaley Sand|||||||\n",
    "|:----|----|----|----|----|---:|:--:|\n",
    "|Water Sat|Vp_a|Vp_b|Vp_c|Vs_a|Vs_b|Vs_c|\n",
    "|:----|----|----|----|----|---:|:--:|\n",
    "|40Mpa|5.59|6.93|2.18|3.52|4.91|1.89|\n",
    "|30Mpa|5.55|6.96|2.18|3.47|4.84|1.87|\n",
    "|20Mpa|5.49|6.94|2.17|3.39|4.73|1.81|\n",
    "|10MPa|5.39|7.08|2.13|3.39|4.73|1.74|\n",
    "|5MPa |5.26|7.08|2.02|3.29|4.77|1.64|    \n",
    "\n",
    "|Dry  |Vp_a|Vp_b|Vp_c|Vp_a|Vp_b|Vp_c|\n",
    "|:----|----|----|----|----|---:|:--:|\n",
    "|40MPa|5.41|6.35|2.87|3.57|4.57|1.83|"
   ]
  },
  {
   "cell_type": "code",
   "execution_count": null,
   "id": "49aecfa0",
   "metadata": {},
   "outputs": [],
   "source": [
    "# -------fitting (not good! as per July 1, 2021)----------\n",
    "def func(X, a, b, c):\n",
    "    x,y = X\n",
    "    return a - b*x - c*y\n",
    "x = phitlyr\n",
    "y = vshlyr\n",
    "a, b, c = 5.49, 6.94, 2.17\n",
    "z = func((x,y), a, b, c)*1 + np.random.random(150)\n",
    "# initial guesses for a,b,c:\n",
    "g0 = 5.49, 6.94, 2.17\n",
    "print (curve_fit(func, (x,y), z, g0))"
   ]
  },
  {
   "cell_type": "code",
   "execution_count": null,
   "id": "68dd6169",
   "metadata": {
    "scrolled": false
   },
   "outputs": [],
   "source": [
    "# velocity - Clay\n",
    "\"\"\"Han's model\"\"\"\n",
    "vshcha=0.52 # fit to data. Original vsh is 0.23\n",
    "Vp40Mpa=5.59-6.93*phi-2.18*vshcha; Vp30Mpa=5.55-6.96*phi-2.18*vshcha\n",
    "Vp20Mpa=5.49-6.94*phi-2.17*vshcha; Vp10Mpa=5.39-7.08*phi-2.13*vshcha\n",
    "Vp5Mpa =5.26-7.08*phi-2.02*vshcha; Vpfit=5.43-5.10*phi-1.89*vshcha\n",
    "f, axs=plt.subplots(ncols=2, figsize=(9,4))\n",
    "ax1=axs[0]\n",
    "ax1.scatter(phitlyr, vplyr, s=40, facecolors='gray', edgecolors='k', label=\"data\")\n",
    "ax1.plot(phitlyr,Vp40Mpa, 'r', lw=1, label=\"40Mpa\", alpha=0.8)\n",
    "ax1.plot(phitlyr,Vp30Mpa, 'k', lw=0.5, label=\"30Mpa\", alpha=0.6)\n",
    "ax1.plot(phitlyr,Vp20Mpa, 'k', lw=0.5, label=\"20Mpa\", alpha=0.4)\n",
    "ax1.plot(phitlyr,Vp10Mpa, 'k', lw=0.5, label=\"10Mpa\", alpha=0.2)\n",
    "ax1.plot(phitlyr,Vp5Mpa, 'k', lw=0.5, label=\"5Mpa\", alpha=0.1)\n",
    "Vsh40=5.59-6.93*phi-2.18*0.5; Vsh50=5.59-6.93*phi-2.18*0.55 \n",
    "Vsh60=5.59-6.93*phi-2.18*0.6; Vsh70=5.59-6.93*phi-2.18*0.65\n",
    "ax2=axs[1]\n",
    "ax2.scatter(phitlyr, vplyr, s=40, facecolors='gray', edgecolors='k', label=\"data\")\n",
    "ax2.plot(phitlyr,Vsh40, 'k', lw=1, label=\"Vsh=0.5\", alpha=0.1)\n",
    "ax2.plot(phitlyr,Vsh50, 'k', lw=1, label=\"Vsh=0.55\", alpha=0.3)\n",
    "ax2.plot(phitlyr,Vsh60, 'k', lw=1, label=\"Vsh=0.6\", alpha=0.5)\n",
    "ax2.plot(phitlyr,Vsh70, 'k', lw=1, label=\"Vsh=0.65\", alpha=0.7)\n",
    "for aa in axs:\n",
    "    aa.set_xlabel(\"phit\", size=14); aa.set_ylabel(\"vp\", size=14)\n",
    "    aa.set_ylim([2.5,4])\n",
    "    aa.grid(linestyle=\":\", color=\"gray\", alpha=0.4)\n",
    "    aa.legend(loc=\"lower left\", frameon=False, fontsize=8)\n",
    "plt.show()"
   ]
  },
  {
   "cell_type": "markdown",
   "id": "5db94d7a",
   "metadata": {},
   "source": [
    "### Han's Fitting model menggunakan hubungan high pressure 40MPa\n",
    "<br>\n",
    "$Vp=5.59-6.93*phi-2.18*Vsh$, dengan variasi Vsh= 0.5, 0.55, 0.60, 0.65\n",
    "<br>\n",
    "$Vs=3.52-4.91*phi-1.89*Vsh$, variasi Vs tidak dimodelkan, diasumsikan konsisten dengan Vp\n",
    "<br>\n",
    "Rho mengikuti perubahan Vp, linear atau Gardner's based relation\n",
    "<br><br>\n",
    "hubungan di atas juga menunjukkan retardasi porositas akibat meningkatnya Vsh ke arah kiri bawah. Hubungan Vsh dan Phit pada data Han berbanding terbalik dan dapat juga di modelkan untuk data ini\n",
    "<br><br>\n",
    "\n",
    "        aplikasi: jika layer-3 channel bervariasi porositasnya menjadi mengecil dan berubah menjadi \n",
    "        stiffening shaley sand dengan Vsh. Maka Vp akan berubah menjadi stiffening Vp_new dan Vs_new \n",
    "        dengan faktor di atas, Rho diasumsikan mengikuti Gardner atau linier."
   ]
  },
  {
   "cell_type": "code",
   "execution_count": null,
   "id": "a4b4ec1c",
   "metadata": {},
   "outputs": [],
   "source": [
    "def han(x, a, b):\n",
    "    return a*x + b\n",
    "fit,_=curve_fit(han,phitlyr,vshlyr)\n",
    "print(fit)"
   ]
  },
  {
   "cell_type": "code",
   "execution_count": null,
   "id": "a40aba31",
   "metadata": {},
   "outputs": [],
   "source": [
    "plt.subplots(figsize=(4,4))\n",
    "plt.scatter(phitlyr, vshlyr, s=40, facecolors='gray', edgecolors='k', label=\"data\")\n",
    "plt.plot(phitlyr, (fit[0]*phitlyr)+fit[1], 'r', linestyle=\"--\", lw=2)\n",
    "plt.xlabel(\"phit\", size=14); plt.ylabel(\"vsh\", size=14)\n",
    "plt.ylim([0.1,0.8]); plt.xlim([0.05,0.25])\n",
    "plt.grid(linestyle=\":\", color=\"gray\", alpha=0.4)\n",
    "plt.legend(loc=\"lower left\", frameon=False, fontsize=8)\n",
    "plt.show()"
   ]
  },
  {
   "cell_type": "code",
   "execution_count": null,
   "id": "dc5b0542",
   "metadata": {},
   "outputs": [],
   "source": [
    "#--------------Replace Porosity di Layer-3 by 10%-------------\n",
    "phit_i= 0.21\n",
    "phit10less=0.9*0.21\n",
    "vsh10less=fit[0]*phit10less + fit[1]\n",
    "print(phit10less, round(vsh10less,3))  # hasilnya ==> phit=0.189 dan vsh =0.275\n",
    "vp10less=5.59-6.93*phit10less-2.18*vsh10less\n",
    "vs10less=3.52-4.91*phit10less-1.89*vsh10less\n",
    "rho10less=1.63*vp10less**0.3\n",
    "print(round(vp10less,3), round(vs10less,3), round(rho10less,3))  # hasilnya ==> vp=3.682, vs =2.073, rho=2.41\n",
    "\n",
    "#----------new set of layer-3, menjadi sbb-----------\n",
    "vshlyr10less=[0.58, 0.71, 0.275, 0.34, 0.76] # replace 0.23 menjadi 0.275\n",
    "phitlyr10less=[0.12, 0.12, 0.189, 0.16, 0.11] # replace 0.21 menjadi 0.189 (menurun 10%)\n",
    "vplyr10less=[3.3, 3.28, 3.682, 3.41, 3.48] # replace 3.08 menjadi 3.682 dengan model Han 40MPa\n",
    "vslyr10less=[1.85, 1.77, 2.073, 1.96, 1.85] # replace 1.72 menjadi 2.073 dengan model Han 40MPa\n",
    "rholyr10less=[2.42, 2.44, 2.41, 2.32, 2.48] # replace 2.25 menjadi 2.41 dengan asumsi Gardner-Sd rho=1.63Vp**0.30\n",
    "vplyr10ph, time = make_log(vplyr10less, thickness)\n",
    "vslyr10ph, _ = make_log(vslyr10less, thickness)\n",
    "rholyr10ph, _ = make_log(rholyr10less, thickness)\n",
    "vshlyr10ph, _ = make_log(vshlyr10less, thickness)\n",
    "phitlyr10ph, _ = make_log(phitlyr10less, thickness)\n",
    "vplo10ph = vplyr10ph[1:]; vslo10ph = vslyr10ph[1:]; rholo10ph = rholyr10ph[1:]\n",
    "vpup10ph = vplyr10ph[:-1]; vsup10ph = vslyr10ph[:-1]; rhoup10ph = rholyr10ph[:-1]\n",
    "angles = 40\n",
    "traces = np.linspace(0, angles, angles)\n",
    "rcavo10ph=[]; synavo10ph = []\n",
    "for i in range(angles):\n",
    "    rcavo10ph = rcshuey(vpup10ph, vsup10ph, rhoup10ph, vplo10ph, vslo10ph, rholo10ph, theta=i)\n",
    "    syn10ph = np.convolve(wavelet, rcavo10ph, mode='same') \n",
    "    synavo10ph.append(syn10ph)\n",
    "print(\"Selalu QC no of samples berikut :\", len(synavo10ph[0]))"
   ]
  },
  {
   "cell_type": "code",
   "execution_count": null,
   "id": "7937fed0",
   "metadata": {},
   "outputs": [],
   "source": [
    "#-------------visualisasi canvas-------------------------------\n",
    "fig, axs2 = plt.subplots(ncols=6, figsize=(10, 5), sharey=True)        # frame dari plot, note=6 kolom, size=10x5\n",
    "\n",
    "ax0 = axs2[0]; ax0.plot(vplyr, time, 'k', lw=2, zorder=5);             # plot kolom-1\n",
    "ax0.plot(vplyr10ph, time, 'r', lw=1, zorder=1); \n",
    "ax0.fill_betweenx(time, vplyr10ph, vplyr, color='r', alpha=0.2)\n",
    "ax0.invert_yaxis(); ax0.set_xlabel('Vp',color='k', fontsize=12)\n",
    "\n",
    "ax1 = axs2[1]; ax1.plot(vslyr, time, 'k', lw=2, zorder=5);             # plot kolom-2 \n",
    "ax1.plot(vslyr10ph, time, 'r', lw=1, zorder=1)\n",
    "ax1.fill_betweenx(time, vslyr10ph, vslyr, color='r', alpha=0.2)\n",
    "ax1.set_xlabel('Vs',color='k', fontsize=12)\n",
    "\n",
    "ax2 = axs2[2]; ax2.plot(rholyr, time, 'k', lw=2, zorder=5);            # plot kolom-3\n",
    "ax2.plot(rholyr10ph, time, 'r', lw=1, zorder=1)\n",
    "ax2.fill_betweenx(time, rholyr10ph, rholyr, color='r', alpha=0.2)\n",
    "ax2.set_xlabel('Rho',color='k', fontsize=12) \n",
    "\n",
    "ax3 = axs2[3]; ax3.plot(synavo10ph[5], time[:-1], 'k')              # plot kolom-4\n",
    "ax3.plot(synavo[5], time[:-1], 'k', lw=1.5, linestyle=\"--\")\n",
    "ax3.fill_betweenx(time[:-1], 0, synavo10ph[5], \n",
    "                  where=(synavo10ph[5]>0),color='b', alpha=0.6)\n",
    "ax3.fill_betweenx(time[:-1], 0, synavo10ph[5], \n",
    "                  where=(synavo10ph[5]<0),color='r', alpha=0.6)\n",
    "ax3.set_xlabel('Near=5deg',color='k', fontsize=12) \n",
    "\n",
    "ax4 = axs2[4]; ax4.plot(synavo10ph[15],time[:-1],'k')              # plot kolom-5\n",
    "ax4.plot(synavo[15], time[:-1], 'k', lw=1.5, linestyle=\"--\")\n",
    "ax4.fill_betweenx(time[:-1], 0, synavo10ph[15], \n",
    "                  where=(synavo10ph[15]>0),color='b', alpha=0.6)\n",
    "ax4.fill_betweenx(time[:-1], 0, synavo10ph[15], \n",
    "                  where=(synavo10ph[15]<0),color='r', alpha=0.6)\n",
    "ax4.set_xlabel('Mid=15deg',color='k', fontsize=12) \n",
    "\n",
    "ax5 = axs2[5]; ax5.plot(synavo10ph[35],time[:-1],'k')                 # plot kolom-6\n",
    "ax5.plot(synavo[35], time[:-1], 'k', lw=1.5, linestyle=\"--\")\n",
    "ax5.fill_betweenx(time[:-1], 0, synavo10ph[35], \n",
    "                  where=(synavo10ph[35]>0),color='b', alpha=0.6)\n",
    "ax5.fill_betweenx(time[:-1], 0, synavo10ph[35], \n",
    "                  where=(synavo10ph[35]<0),color='r', alpha=0.6)\n",
    "ax5.set_xlabel('Far=35deg',color='k', fontsize=12) \n",
    "top=thickness[0]+thickness[1]\n",
    "base=thickness[0]+thickness[1]+thickness[2]\n",
    "for aa in axs2:\n",
    "    aa.xaxis.set_label_position('top')\n",
    "    aa.axhline(y=top, linewidth=1, color='r')\n",
    "    aa.axhline(y=base, linewidth=1, color='b')\n",
    "for bb in [ax3, ax4, ax5]:\n",
    "    bb.set_xlim(-0.25,0.25)\n",
    "\n",
    "plt.show()"
   ]
  },
  {
   "cell_type": "code",
   "execution_count": null,
   "id": "ca473fc4",
   "metadata": {},
   "outputs": [],
   "source": [
    "#plot new por\n",
    "f, axes = plt.subplots(ncols=3, figsize=(6, 5), sharey=True)\n",
    "\n",
    "ax0 = axes[0]; ax0.invert_yaxis()\n",
    "ax0.plot(vplyr, time, 'k', zorder=1); ax0.plot(vplyr10ph, time, 'r', zorder=5)\n",
    "ax0.fill_betweenx(time, vplyr10ph, vplyr, color='r', alpha=0.2)\n",
    "ax0.set_xlabel('Vp',color='k', fontsize=12)\n",
    "\n",
    "ax1 = axes[1]; ax1.plot(vshlyr, time, 'k', zorder=1)\n",
    "ax1.plot(vshlyr10ph, time, 'r', zorder=1)\n",
    "ax1.fill_betweenx(time, vshlyr10ph, vshlyr, color='r', alpha=0.2)\n",
    "ax1.set_xlabel('Vsh',color='k', fontsize=12)\n",
    "\n",
    "ax2 = axes[2]; ax2.plot(phitlyr, time, 'k', zorder=1)\n",
    "ax2.plot(phitlyr10ph, time, 'r', zorder=1)\n",
    "ax2.set_xlabel('Phit',color='k', fontsize=12)\n",
    "ax2.fill_betweenx(time, phitlyr10ph, phitlyr, color='r', alpha=0.2)\n",
    "\n",
    "top=thickness[0]+thickness[1]\n",
    "base=thickness[0]+thickness[1]+thickness[2]\n",
    "for aa in axes:\n",
    "    aa.xaxis.set_label_position('top')\n",
    "    aa.axhline(y=top, linewidth=1, color='r')\n",
    "    aa.axhline(y=base, linewidth=1, color='b')\n",
    "plt.show()"
   ]
  },
  {
   "cell_type": "markdown",
   "id": "3a2d0801",
   "metadata": {},
   "source": [
    "### Vp Porosity Raymer dan Soft Sand trend"
   ]
  },
  {
   "cell_type": "code",
   "execution_count": null,
   "id": "b1e2548a",
   "metadata": {},
   "outputs": [],
   "source": [
    "Vma=Vp0; Vf=Vpf\n",
    "def fit(x,a,b):\n",
    "    return a*x+b\n",
    "raw,_ = curve_fit(fit, phitlyr, vplyr)\n",
    "print(\"raw:\", raw)\n",
    "sof,_ = curve_fit(fit, phitlyr, vpsoft)\n",
    "print(\"soft:\",sof)"
   ]
  },
  {
   "cell_type": "code",
   "execution_count": null,
   "id": "9057b8d7",
   "metadata": {},
   "outputs": [],
   "source": [
    "plt.subplots(figsize=(4,4))\n",
    "plt.scatter(phitlyr, vplyr, s=40, facecolors='k', edgecolors='k', label=\"blocked data\")\n",
    "plt.scatter(phitlyr, vpsoft, s=40, facecolors='none', edgecolors='g', label=\"Soft Sand\")\n",
    "plt.scatter(phitlyr, vpray, s=40, facecolors='none', edgecolors='b', label=\"Raymer\")\n",
    "plt.plot(phitlyr,(raw[1]+(raw[0]*phitlyr)), 'k', linestyle=\":\")\n",
    "plt.plot(phitlyr,(sof[1]+(sof[0]*phitlyr)), 'g', linestyle=\":\")\n",
    "plt.xlabel(\"phit\", size=14); plt.ylabel(\"vp\", size=14)\n",
    "plt.ylim([2.0,4])\n",
    "plt.grid(linestyle=\":\", color=\"gray\", alpha=0.4)\n",
    "plt.legend(loc=\"upper left\", frameon=False, fontsize=6)\n",
    "plt.show()"
   ]
  },
  {
   "cell_type": "markdown",
   "id": "dc1230a6",
   "metadata": {},
   "source": [
    "__Tahap-5__ \n",
    "<br> Variasi saturasi"
   ]
  },
  {
   "cell_type": "markdown",
   "id": "9ce62e3e",
   "metadata": {},
   "source": [
    "## Pemodelan Perubahan Saturasi"
   ]
  },
  {
   "cell_type": "code",
   "execution_count": null,
   "id": "0be2fec1",
   "metadata": {},
   "outputs": [],
   "source": [
    "# -------layer-3 cha vp, vs, rho\n",
    "vpcha=3.08; vscha=1.72; rhocha=2.25\n",
    "phitcha=0.21; vshcha=0.23; swtcha=0.75\n",
    "\n",
    "#-----------FRM dengan 80% oil sat-----------------\n",
    "sofrm=0.8 # ubah untuk saturasi lainnya\n",
    "rhofl_in = swtcha*rho_b+(1-swtcha)*rho_o\n",
    "rhofl_out = sofrm*rho_o+(1-sofrm)*rho_b\n",
    "kfl_in = 1/((1-swtcha)/k_o + swtcha/k_b)\n",
    "kma_in = (vshcha*k_sh) + ((1-vshcha)*k_qz)\n",
    "kfl_out = 1/((1-sofrm)/k_b + sofrm/k_o)\n",
    "frmo=fluidsub(vpcha, vscha, rhocha, phitcha, rhofl_in, rhofl_out, kma_in, kfl_in, kfl_out)\n",
    "pctVpo=((frmo[0]-vpcha)/(vpcha))*100\n",
    "pctVso=((frmo[1]-vscha)/(vscha))*100\n",
    "pctRhoo=((frmo[2]-rhocha)/(rhocha))*100\n",
    "\n",
    "print(\"vp 80% oil:\",round((frmo[0]),3))\n",
    "print(\"vs 80% oil:\",round((frmo[1]),3))\n",
    "print(\"rho 80% oil:\",round((frmo[2]),3))\n",
    "print(\"-------------\")\n",
    "print(\"% change vp:\",round(pctVpo,2))\n",
    "print(\"% change vs:\",round(pctVso,2))\n",
    "print(\"% change rho:\",round(pctRhoo,2))"
   ]
  },
  {
   "cell_type": "code",
   "execution_count": null,
   "id": "765451b0",
   "metadata": {
    "scrolled": false
   },
   "outputs": [],
   "source": [
    "#input : copy yang diperlukan saja\n",
    "thickness_adi =[30, 40, 20, 30, 30] # thickness harus sama dengan initial untuk bisa dibandingkan\n",
    "vplyr_adi=[3.3, 3.28, 1.959, 3.41, 3.48] #replaced vpoil=1.959 dg angka di atas\n",
    "vslyr_adi=[1.85, 1.77, 1.734, 1.96, 1.85] # replaced vs=1.734\n",
    "rholyr_adi=[2.42, 2.44, 2.214, 2.32, 2.48] #replaced rho=2.214\n",
    "\n",
    "def makenewlog(newlog, thickness_adi):\n",
    "    out = []\n",
    "    for thick, x in zip(thickness_adi, newlog):\n",
    "        out += thick * [x]\n",
    "    timeadi = np.arange(0, sum(thickness_adi))\n",
    "    return np.array(out), timeadi\n",
    "vplyradi, timeadi = makenewlog(vplyr_adi, thickness_adi)\n",
    "vslyradi, _ = makenewlog(vslyr_adi, thickness_adi)\n",
    "rholyradi, _ = makenewlog(rholyr_adi, thickness_adi)\n",
    "\n",
    "# AVO reflectivity\n",
    "vploadi = vplyradi[1:]; vsloadi = vslyradi[1:]; rholoadi = rholyradi[1:]\n",
    "vpupadi = vplyradi[:-1]; vsupadi = vslyradi[:-1]; rhoupadi = rholyradi[:-1]\n",
    "anglesadi = 40\n",
    "tracesadi = np.linspace(0, anglesadi, anglesadi)\n",
    "rcavoadi=[]; synavoadi = []\n",
    "for i in range(anglesadi):\n",
    "    rcavoadi = rcshuey(vpupadi, vsupadi, rhoupadi, vploadi, vsloadi, rholoadi, theta=i)\n",
    "    synadi = np.convolve(wavelet, rcavoadi, mode='same') \n",
    "    synavoadi.append(synadi)"
   ]
  },
  {
   "cell_type": "code",
   "execution_count": null,
   "id": "1824eb46",
   "metadata": {},
   "outputs": [],
   "source": [
    "print(\"-----------warning------------\")\n",
    "print(\"QC x-axis initial:\", len(synavo[0]))\n",
    "print(\"QC x-axis new:\", len(synavoadi[0]))\n",
    "print(\"QC time axis initial:\", len(time))\n",
    "print(\"QC time axis new:\", len(timeadi))\n",
    "print(\"----jika tidak konsisten jumlahnya, maka ulangi salah satu proses di atas-----\")"
   ]
  },
  {
   "cell_type": "code",
   "execution_count": null,
   "id": "b9fb7c21",
   "metadata": {},
   "outputs": [],
   "source": [
    "#-------------visualisasi canvas-------------------------------\n",
    "fig, axs2 = plt.subplots(ncols=6, figsize=(10, 5), sharey=True)        # frame dari plot, note=6 kolom, size=10x5\n",
    "\n",
    "ax0 = axs2[0]; ax0.plot(vplyr, time, 'k', lw=2, zorder=5);             # plot kolom-1\n",
    "ax0.plot(vplyradi, timeadi, 'r', lw=1, zorder=1); \n",
    "ax0.fill_betweenx(time, vplyradi, vplyr, color='r', alpha=0.2)\n",
    "ax0.invert_yaxis(); ax0.set_xlabel('Vp',color='k', fontsize=12)\n",
    "\n",
    "ax1 = axs2[1]; ax1.plot(vslyr, time, 'k', lw=2, zorder=5);             # plot kolom-2 \n",
    "ax1.plot(vslyradi, timeadi, 'r', lw=1, zorder=1)\n",
    "ax1.fill_betweenx(time, vslyradi, vslyr, color='r', alpha=0.2)\n",
    "ax1.set_xlabel('Vs',color='k', fontsize=12)\n",
    "\n",
    "ax2 = axs2[2]; ax2.plot(rholyr, time, 'k', lw=2, zorder=5);            # plot kolom-3\n",
    "ax2.plot(rholyradi, timeadi, 'r', lw=1, zorder=1)\n",
    "ax2.fill_betweenx(time, rholyradi, rholyr, color='r', alpha=0.2)\n",
    "ax2.set_xlabel('Rho',color='k', fontsize=12) \n",
    "\n",
    "ax3 = axs2[3]; ax3.plot(synavoadi[5], timeadi[:-1], 'k')              # plot kolom-4\n",
    "ax3.plot(synavo[5], time[:-1], 'k', lw=1.5, linestyle=\"--\")\n",
    "ax3.fill_betweenx(time[:-1], 0, synavoadi[5], \n",
    "                  where=(synavoadi[5]>0),color='b', alpha=0.6)\n",
    "ax3.fill_betweenx(time[:-1], 0, synavoadi[5], \n",
    "                  where=(synavoadi[5]<0),color='r', alpha=0.6)\n",
    "ax3.set_xlabel('Near=5deg',color='k', fontsize=12) \n",
    "\n",
    "ax4 = axs2[4]; ax4.plot(synavoadi[15],timeadi[:-1],'k')              # plot kolom-5\n",
    "ax4.plot(synavo[15], time[:-1], 'k', lw=1.5, linestyle=\"--\")\n",
    "ax4.fill_betweenx(time[:-1], 0, synavoadi[15], \n",
    "                  where=(synavoadi[15]>0),color='b', alpha=0.6)\n",
    "ax4.fill_betweenx(time[:-1], 0, synavoadi[15], \n",
    "                  where=(synavoadi[15]<0),color='r', alpha=0.6)\n",
    "ax4.set_xlabel('Mid=15deg',color='k', fontsize=12) \n",
    "\n",
    "ax5 = axs2[5]; ax5.plot(synavoadi[35],timeadi[:-1],'k')                 # plot kolom-6\n",
    "ax5.plot(synavo[35], time[:-1], 'k', lw=1.5, linestyle=\"--\")\n",
    "ax5.fill_betweenx(time[:-1], 0, synavoadi[35], \n",
    "                  where=(synavoadi[35]>0),color='b', alpha=0.6)\n",
    "ax5.fill_betweenx(time[:-1], 0, synavoadi[35], \n",
    "                  where=(synavoadi[35]<0),color='r', alpha=0.6)\n",
    "ax5.set_xlabel('Far=35deg',color='k', fontsize=12) \n",
    "top=thickness[0]+thickness[1]\n",
    "base=thickness[0]+thickness[1]+thickness[2]\n",
    "for aa in axs2:\n",
    "    aa.xaxis.set_label_position('top')\n",
    "    aa.axhline(y=top, linewidth=1, color='r')\n",
    "    aa.axhline(y=base, linewidth=1, color='b')\n",
    "for bb in [ax3, ax4, ax5]:\n",
    "    bb.set_xlim(-0.25,0.25)\n",
    "\n",
    "plt.show()"
   ]
  },
  {
   "cell_type": "markdown",
   "id": "69cd9621",
   "metadata": {},
   "source": [
    "Pekerjaan di kelas, ubah beberapa parameter seperti porositas, saturasi, vsh, elastic logs, wavelet phase dsb"
   ]
  },
  {
   "cell_type": "markdown",
   "id": "c8ccaf88",
   "metadata": {},
   "source": [
    "### HOMEWORK FOR FUN ...!!"
   ]
  },
  {
   "cell_type": "markdown",
   "id": "aeb7fc69",
   "metadata": {},
   "source": [
    "Buat visualisasi partial stack dengan coupling effect: perubahan thickness layer-3 menjadi (h=10m) dan gas saturasi (sg=5% ) mixing fluid (brine+gas) secara uniform (Reuss)...best of luck!!\n",
    "            \n",
    "            rho_qz=2.65;  k_qz=37;  mu_qz=44    # mineral properties, quartz (i.e., sands)\n",
    "            rho_sh=2.81;  k_sh=15;  mu_sh=5     # mineral properties, clay (i.e., shales)\n",
    "            rho_b=1.09;   k_b=2.8               # fluid properties, brine\n",
    "            rho_o=0.78;   k_o=0.94              # fluid properties, oil\n",
    "            rho_g=0.25;   k_g=0.06              # fluid properties, gas\n",
    "            \n",
    "Laporkan juga berapa persen perubahan Vp, Vs, Rho jika diFRM dengan 5% saturasi gas (~non-commercial accumulation)"
   ]
  },
  {
   "cell_type": "markdown",
   "id": "0a815122",
   "metadata": {},
   "source": [
    "# <h1><center>-Akhir Program Latihan-9a-<center></h1>"
   ]
  }
 ],
 "metadata": {
  "kernelspec": {
   "display_name": "Python 3",
   "language": "python",
   "name": "python3"
  },
  "language_info": {
   "codemirror_mode": {
    "name": "ipython",
    "version": 3
   },
   "file_extension": ".py",
   "mimetype": "text/x-python",
   "name": "python",
   "nbconvert_exporter": "python",
   "pygments_lexer": "ipython3",
   "version": "3.9.5"
  }
 },
 "nbformat": 4,
 "nbformat_minor": 5
}
