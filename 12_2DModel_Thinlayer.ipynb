{
 "cells": [
  {
   "cell_type": "markdown",
   "id": "27ca2906",
   "metadata": {},
   "source": [
    "# Latihan-12 ThinChannel"
   ]
  },
  {
   "cell_type": "markdown",
   "id": "f2b95b74",
   "metadata": {},
   "source": [
    "Latihan ini untuk pemodelan 2D model untuk visualisasi perubahan ketebalan geometri seperti channel-like feature\n",
    "<br><br> _citation for this page: \"Adi Widyantoro, 2021, Pertamina Seismic QI Course, Latihan-10 2D Kue Lapis, accessed MM DD, YYYY.\"_  \n",
    "<br>\n",
    ">(update terakhir tanggal 1 Juli 2021 oleh Adi Widyantoro)\n",
    "<hr>"
   ]
  },
  {
   "cell_type": "code",
   "execution_count": null,
   "id": "3bf9de30",
   "metadata": {},
   "outputs": [],
   "source": [
    "%matplotlib inline\n",
    "%config InlineBackend.figure_format = 'png'\n",
    "import numpy as np\n",
    "import matplotlib.pyplot as plt\n",
    "import matplotlib as mpl\n",
    "import pandas as pd\n",
    "import math\n",
    "from scipy.signal import hilbert\n",
    "import scipy as sp\n",
    "import scipy.ndimage as snd\n",
    "import copy\n",
    "from matplotlib import cm\n",
    "from f10kuelapis import *\n",
    "mpl.style.use('seaborn') # default, seaborn"
   ]
  },
  {
   "cell_type": "code",
   "execution_count": null,
   "id": "13ecb10b",
   "metadata": {
    "scrolled": false
   },
   "outputs": [],
   "source": [
    "#---------------- tweaks dari wedge model menjadi simple channel-like feature-------------------\n",
    "n_samples, n_traces = [500, 1000]\n",
    "rock_names = ['shale1', 'sand', 'shale2']\n",
    "rock_gridl = np.zeros((n_samples, n_traces))\n",
    "rock_gridr = np.zeros((n_samples, n_traces))\n",
    "def make_wedge(n_samples, n_traces, h1, h2, start_wedge, cut_half):\n",
    "    for j in np.arange(n_traces): \n",
    "        for i in np.arange(n_samples):      \n",
    "            if i <= h1:      \n",
    "                rock_gridl[i][j] = 1    \n",
    "            if i > h1:         \n",
    "                rock_gridl[i][j] = 3    \n",
    "                if j > start_wedge and j <=cut_half : \n",
    "                    if i - h1 < j-start_wedge and i - h1 > j - cut_half :\n",
    "                        rock_gridl[i][j] = 2\n",
    "                        if j >= h2:\n",
    "                            if i > h1+(h2-start_wedge) :\n",
    "                                rock_gridl[i][j] = 3\n",
    "    rock_gridr=np.fliplr(rock_gridl)\n",
    "    rock_grid=rock_gridl+rock_gridr\n",
    "    return rock_grid\n",
    "h1 = 200\n",
    "h2 = 100 # paling tipis 30unit utk bisa terlihat\n",
    "start_wedge = 20\n",
    "cut_half = 499\n",
    "rock_grid = make_wedge(n_samples, n_traces, h1, h2, start_wedge, cut_half)\n",
    "plt.figure(figsize=(10,8))\n",
    "im=plt.imshow(rock_grid, cmap='Spectral', aspect=1)\n",
    "plt.colorbar(im,fraction=0.02, pad=0.02)\n",
    "plt.title('Empty Vessel', fontsize=16)\n",
    "plt.show()"
   ]
  },
  {
   "cell_type": "code",
   "execution_count": null,
   "id": "d084e72a",
   "metadata": {},
   "outputs": [],
   "source": [
    "print(rock_grid)"
   ]
  },
  {
   "cell_type": "code",
   "execution_count": null,
   "id": "20ecc49d",
   "metadata": {},
   "outputs": [],
   "source": [
    "#------model acoustic impedance-------------\n",
    "ip = np.array([24000, 8000, 20000])\n",
    "model = np.copy(rock_grid)\n",
    "model[rock_grid == 2] = ip[0]\n",
    "model[rock_grid == 4] = ip[1]\n",
    "model[rock_grid == 6] = ip[2]\n",
    "plt.figure(figsize=(10,8))\n",
    "im=plt.imshow(model, cmap='rainbow', aspect=1)\n",
    "plt.colorbar(im,fraction=0.02, pad=0.02)\n",
    "plt.title('Acoustic Impedance', fontsize=16)\n",
    "plt.show()"
   ]
  },
  {
   "cell_type": "code",
   "execution_count": null,
   "id": "a33bb8b9",
   "metadata": {},
   "outputs": [],
   "source": [
    "upper = model[:-1][:]\n",
    "lower = model[1:][:]\n",
    "rc = (lower - upper) / (lower + upper)\n",
    "maxrc = abs(np.amax(rc))\n",
    "plt.figure(figsize=(10,8))\n",
    "im=plt.imshow(rc, cmap='bwr', aspect=1)\n",
    "plt.colorbar(im,fraction=0.02, pad=0.01)\n",
    "plt.title('Reflectivity (Zero Incident)', fontsize=16)\n",
    "plt.grid(False)\n",
    "plt.show()"
   ]
  },
  {
   "cell_type": "code",
   "execution_count": null,
   "id": "12240fb3",
   "metadata": {},
   "outputs": [],
   "source": [
    "def ricker(f, l, dt, wphase):\n",
    "    t = np.linspace(-l/2, (l-dt)/2, int(l/dt))/1000\n",
    "    zeroph = (1.0 - 2.0*(np.pi**2)*(f**2)*(t**2)) * np.exp(-(np.pi**2)*(f**2)*(t**2))\n",
    "    h = hilbert(zeroph)\n",
    "    rotdeg = wphase\n",
    "    theta = rotdeg*np.pi/180\n",
    "    y = np.cos(theta)*h.real-np.sin(theta)*h.imag\n",
    "    return t, y\n",
    "t,wavelet=ricker(20,120,0.4,0)\n",
    "plt.figure(figsize=(4,2))\n",
    "plt.plot(t,wavelet, 'k', lw=1)\n",
    "plt.fill_between(t,wavelet,where=(wavelet>0),facecolor='b', alpha=0.3)\n",
    "plt.fill_between(t,wavelet,where=(wavelet<=0),facecolor='r', alpha=0.3)\n",
    "plt.grid(color = 'gray', linestyle = ':', linewidth = 0.6)\n",
    "plt.xlim([-0.1, 0.1]), plt.ylim([-0.5, 1]); plt.axis('off')\n",
    "plt.show()"
   ]
  },
  {
   "cell_type": "code",
   "execution_count": null,
   "id": "c2777113",
   "metadata": {},
   "outputs": [],
   "source": [
    "synth = np.apply_along_axis(lambda t: np.convolve(t, wavelet, mode='full'), axis=0, arr=rc)\n",
    "plt.figure(figsize=(20,8))\n",
    "im=plt.imshow(synth, cmap=\"bwr\", aspect=1)\n",
    "plt.colorbar(im,fraction=0.02, pad=0.05)\n",
    "plt.xlim([0, 1000])\n",
    "plt.grid(False)\n",
    "plt.show()"
   ]
  },
  {
   "cell_type": "markdown",
   "id": "ae76bee1",
   "metadata": {},
   "source": [
    "#  <h1><center>-Akhir Program Latihan-12-<center></h1>"
   ]
  }
 ],
 "metadata": {
  "kernelspec": {
   "display_name": "Python 3",
   "language": "python",
   "name": "python3"
  },
  "language_info": {
   "codemirror_mode": {
    "name": "ipython",
    "version": 3
   },
   "file_extension": ".py",
   "mimetype": "text/x-python",
   "name": "python",
   "nbconvert_exporter": "python",
   "pygments_lexer": "ipython3",
   "version": "3.9.5"
  }
 },
 "nbformat": 4,
 "nbformat_minor": 5
}
