{
 "cells": [
  {
   "cell_type": "markdown",
   "id": "04355d85",
   "metadata": {},
   "source": [
    "# Latihan-7 Half Space in 2D -Tuning"
   ]
  },
  {
   "cell_type": "markdown",
   "id": "60e249c2",
   "metadata": {},
   "source": [
    "Latihan ini untuk pemodelan half space atau disebut juga blocky model, atau interface model yang terdiri dari 2-3 block layers dengan variasi ketebalan untuk memodelkan respon amplitudo terhadap interface antara layers\n",
    "<br><br> _citation for this page: \"Adi Widyantoro, 2021, Pertamina Seismic QI Course, Latihan-7 Half Space in 2D - Tuning.ipynb, accessed MM DD, YYYY.\"_  \n",
    "<br>\n",
    ">(update terakhir tanggal 1 Juli 2021 oleh Adi Widyantoro)\n",
    "<hr>"
   ]
  },
  {
   "cell_type": "markdown",
   "id": "f104f7b6",
   "metadata": {},
   "source": [
    "__Tahap-1__ \n",
    "<br> Program setup dan display sama seperti latihan sebelumnya. Gunakan hasil dari Latihan-2 data untuk latihan selanjutnya\n",
    "<br> \n",
    "\n",
    "        special notes_: brugeslibrary adalah kumpulan pre-defined functions oleh Agile Geoscience bruges:\n",
    "        https://github.com/agile-geoscience/bruges\n",
    "        \n",
    "        the library's credits go to bruges contributors: Evan Bianco, Ben Bougher, Matt Hall, Alessandro Amato del Monte, \n",
    "        Wes Hamlyn, Sean Ross-Ross\n",
    "        \n",
    "        tuning wedge reflectivity codes have been inspired by John Masapanta Pozo and his git's repo:\n",
    "        https://github.com/JohnMasapantaPozo/Geophysics-Exercises"
   ]
  },
  {
   "cell_type": "code",
   "execution_count": null,
   "id": "4557b311",
   "metadata": {
    "scrolled": true
   },
   "outputs": [],
   "source": [
    "%matplotlib inline\n",
    "%config InlineBackend.figure_format = 'png'\n",
    "import numpy as np\n",
    "import matplotlib.pyplot as plt\n",
    "import matplotlib as mpl\n",
    "import pandas as pd\n",
    "import math\n",
    "from scipy.signal import hilbert\n",
    "from brugeslibrary import shuey\n",
    "from matplotlib.ticker import AutoMinorLocator, FormatStrFormatter"
   ]
  },
  {
   "cell_type": "markdown",
   "id": "dce34de5",
   "metadata": {},
   "source": [
    "__Tahap-2__ \n",
    "<br> Menentukan reflection coefficient dari dua interfaces menggunakan Zero Incident, Near dan Far (Shuey)"
   ]
  },
  {
   "cell_type": "code",
   "execution_count": null,
   "id": "4c6db83b",
   "metadata": {},
   "outputs": [],
   "source": [
    "shale = np.array([3.310,1.730,2.51])\n",
    "brine = np.array([3.050,2.150,2.25])\n",
    "# Shale\n",
    "vp1=shale[0]; vs1=shale[1]; rho1=shale[2]; ip1=vp1*rho1\n",
    "# Sand\n",
    "vp2=brine[0]; vs2=brine[1]; rho2=brine[2]; ip2=vp2*rho2\n",
    "\n",
    "# zero incident Reflection Coefficients\n",
    "rc1=(ip2-ip1)/(ip2+ip1)\n",
    "rc2=-rc1\n",
    "\n",
    "# RC dengan Shuey, near angle=5 (NEAR)\n",
    "theta1=0\n",
    "rc1n=shuey(vp1, vs1, rho1, vp2, vs2, rho2, theta1,terms=False,return_gradient=False)\n",
    "rc2n=-rc1n\n",
    "\n",
    "# RC dengan Shuey, near angle=35 (FAR)\n",
    "theta1=35\n",
    "rc1f=shuey(vp1, vs1, rho1, vp2, vs2, rho2, theta1,terms=False,return_gradient=False)\n",
    "rc2f=-rc1f\n",
    "\n",
    "print(rc1, rc2, rc1n, rc2n, rc1f, rc2f, sep=\"|\")"
   ]
  },
  {
   "cell_type": "markdown",
   "id": "a98f0ff0",
   "metadata": {},
   "source": [
    "__Tahap-3__ \n",
    "<br> Definisi Depth dan Time untuk model lapisan yang akan dikonvolusikan dengan wavelet. Untuk latihan ini akan diasumsikan __Time = 0.64* Depth__  diambil dari pendekatan depth-time sumur adi02\n",
    "\n",
    "<br>kemudian penempatan reflection coefficients dalam interval unit dengan membagi unit no of samples menjadi fraksi top dan bottom, misalnya sepertiga pertama 0.3* nosamples untuk top dan dua pertiga lainnya 0.6 * nosamples"
   ]
  },
  {
   "cell_type": "code",
   "execution_count": null,
   "id": "a39e667b",
   "metadata": {},
   "outputs": [],
   "source": [
    "\"\"\"\n",
    "toptime dan basetime interval harus di-desain dengan teliti sehingga  \n",
    "panjang samples atau jumlah samples konsisten dengan wavelet\n",
    "\"\"\"\n",
    "\n",
    "depthmin = 1650; depthmax = 1962\n",
    "toptime = 0.64*depthmin/1000; basetime = 0.64*depthmax/1000; timeint = 0.002\n",
    "deltat = round((basetime-toptime),3)\n",
    "print(toptime, basetime, deltat)"
   ]
  },
  {
   "cell_type": "code",
   "execution_count": null,
   "id": "dffc7dd2",
   "metadata": {},
   "outputs": [],
   "source": [
    "#--------pastikan nosamples konsisten dengan len(wavelet)-------------\n",
    "nosamples = int((deltat/timeint))\n",
    "interface1 = int(0.3*nosamples)\n",
    "interface2 = int(0.6*nosamples) \n",
    "print(nosamples, interface1, interface2)"
   ]
  },
  {
   "cell_type": "markdown",
   "id": "712b6116",
   "metadata": {},
   "source": [
    "#### reflection cofficient untuk zero incident, Near dan Far"
   ]
  },
  {
   "cell_type": "code",
   "execution_count": null,
   "id": "f4bae8b7",
   "metadata": {},
   "outputs": [],
   "source": [
    "\"\"\"\n",
    "default wavelet yang digunakan adalah Ricker central frequency 20Hz, 200samples\n",
    "eksplorasi pilihan rotasi wavelet dengan mengubah ph=0 menjadi rotasi yang diinginkan misalnya ph=-90deg\n",
    "\"\"\"\n",
    "f, l, dt, ph = 25, 200, 2, 0\n",
    "t = np.arange(-l/2, l/2, dt)/1000\n",
    "# t = np.linspace(-l/2, (l-dt)/2, int(l/dt))/1000\n",
    "zerophase = (1.0 - 2.0*(np.pi**2)*(f**2)*(t**2)) * np.exp(-(np.pi**2)*(f**2)*(t**2))\n",
    "h = hilbert (zerophase)\n",
    "theta = ph*np.pi/180\n",
    "wavelet = np.cos(theta)*h.real-np.sin(theta)*h.imag\n",
    "plt.subplots(figsize=(2,2))\n",
    "plt.plot(t,wavelet,'k', lw=0.5); plt.axhline(0, color='k', lw=0.5)\n",
    "plt.fill_between(t,wavelet,0, where=wavelet>=0, color='b', alpha=0.4, lw=0); \n",
    "plt.fill_between(t,wavelet,0, where=wavelet<0, color='r', alpha=0.4, lw=0); \n",
    "plt.grid(True,linestyle=':'); plt.xlim(-0.04,0.04)\n",
    "plt.show()\n",
    "\n",
    "# pastikan jumlah samples konsisten dengan interval time dan reflectivities di atas\n",
    "print(len(wavelet))"
   ]
  },
  {
   "cell_type": "code",
   "execution_count": null,
   "id": "38f81d36",
   "metadata": {
    "scrolled": false
   },
   "outputs": [],
   "source": [
    "\"\"\" ZERO INCIDENT \"\"\"\n",
    "noffset = 40\n",
    "traces = np.linspace(1, noffset, noffset)\n",
    "rc = []; waveform = []\n",
    "for i in range(noffset):\n",
    "    rctime = np.zeros(nosamples)                \n",
    "    rctime[interface1] = rc1\n",
    "    rctime[interface1+i] = rc2  # fixed top interface (flat interface)                    \n",
    "    syn = np.convolve(wavelet, rctime, mode='same') \n",
    "    waveform.append(syn)\n",
    "    rc.append(rctime)\n",
    "\n",
    "print(len(waveform), len(rctime))\n",
    "waveform[i].min()"
   ]
  },
  {
   "cell_type": "code",
   "execution_count": null,
   "id": "6b25e95f",
   "metadata": {
    "scrolled": false
   },
   "outputs": [],
   "source": [
    "\"\"\" NEAR REFLECTIVITY \"\"\"\n",
    "rcn = []                                             \n",
    "waveformn = []                                      \n",
    "for i in range(noffset):\n",
    "    rctimen = np.zeros(nosamples)                \n",
    "    rctimen[interface1] = rc1n\n",
    "    rctimen[interface1+i] = rc2n  # fixed top interface (flat interface)                    \n",
    "    synn = np.convolve(wavelet, rctimen, mode='same') \n",
    "    waveformn.append(synn)\n",
    "    rcn.append(rctimen)\n",
    "\n",
    "print(len(waveformn))\n",
    "waveformn[i].min()"
   ]
  },
  {
   "cell_type": "code",
   "execution_count": null,
   "id": "deeab230",
   "metadata": {
    "scrolled": false
   },
   "outputs": [],
   "source": [
    "\"\"\" FAR REFLECTIVITY \"\"\"\n",
    "rcf = []                                             \n",
    "waveformf = []                                      \n",
    "for i in range(noffset):\n",
    "    rctimef = np.zeros(nosamples)                \n",
    "    rctimef[interface1] = rc1f\n",
    "    rctimef[interface1+i] = rc2f  # fixed top interface (flat interface)                    \n",
    "    synf = np.convolve(wavelet, rctimef, mode='same') \n",
    "    waveformf.append(synf)\n",
    "    rcf.append(rctimef)\n",
    "\n",
    "print(len(waveformf))\n",
    "waveformf[i].min()"
   ]
  },
  {
   "cell_type": "code",
   "execution_count": null,
   "id": "649a2d50",
   "metadata": {},
   "outputs": [],
   "source": [
    "tscale = np.arange(toptime, basetime, timeint) \n",
    "f=plt.subplots(figsize=(16, 5), facecolor=\"white\")\n",
    "mpl.style.use('seaborn')\n",
    "ax1 = plt.subplot2grid((1,2), (0,0), colspan=1)\n",
    "ax2 = plt.subplot2grid((1,2), (0,1), colspan=1)\n",
    "for j in range(noffset):\n",
    "    tracen = waveformn[j]*8+traces[j]\n",
    "    ax1.plot(tracen, tscale, color=\"k\", lw=0.4)\n",
    "    ax1.fill_between(tracen, traces[i], tscale, where=(tracen>0), color = \"b\", alpha=0.5, linewidth=0 )\n",
    "    ax1.set_yticklabels(''); ax1.set_xlabel('Near', size = 14)\n",
    "for k in range(noffset):\n",
    "    tracef = waveformf[k]*8+traces[k]\n",
    "    ax2.plot(tracef, tscale, color=\"k\", lw=0.4)\n",
    "    ax2.fill_between(tracef, traces[k], tscale, color = \"b\", alpha=0.5, linewidth=0)\n",
    "    ax2.set_yticklabels(''); ax2.set_xlabel('Far', size = 14)\n",
    "for aa in [ax1, ax2]:\n",
    "    aa.set_ylim([toptime,basetime])\n",
    "    aa.invert_yaxis(); aa.yaxis.tick_left()\n",
    "    aa.xaxis.set_label_position('top')\n",
    "    aa.minorticks_on()\n",
    "    aa.grid(False)\n",
    "\n",
    "plt.show()"
   ]
  },
  {
   "cell_type": "code",
   "execution_count": null,
   "id": "6acc24b5",
   "metadata": {},
   "outputs": [],
   "source": [
    "f=plt.subplots(figsize=(16, 5), facecolor=\"white\")\n",
    "mpl.style.use('seaborn')\n",
    "ax1 = plt.subplot2grid((1,2), (0,0), colspan=1)\n",
    "ax2 = plt.subplot2grid((1,2), (0,1), colspan=1)\n",
    "waven = np.asarray(waveformn).T\n",
    "ax1.imshow(waven, aspect=\"auto\", cmap=\"bwr_r\")\n",
    "ax1.set_xlabel('Near', size = 14)\n",
    "ax1.set_yticks([])\n",
    "wavef = np.asarray(waveformf).T\n",
    "ax2.imshow(wavef, aspect=\"auto\", cmap=\"bwr_r\")\n",
    "ax2.set_xlabel('Far', size = 14)\n",
    "for aa in [ax1, ax2]:\n",
    "    aa.xaxis.set_label_position('top')\n",
    "    aa.minorticks_on()\n",
    "    plt.setp(aa.xaxis.get_majorticklabels(), rotation=0, fontsize=10)\n",
    "    aa.tick_params(axis='x', size=4)\n",
    "    aa.grid(False)   \n",
    "\n",
    "t1=round(toptime,2); t2=round(basetime,2)\n",
    "y = np.arange(t1,t2,timeint)\n",
    "ny = y.shape[0]\n",
    "no_labels = 8\n",
    "step_y = int(ny/(no_labels - 1))\n",
    "y_positions = np.arange(0,ny,step_y)\n",
    "y_labels = y[::step_y].round(2)\n",
    "plt.yticks(y_positions, y_labels)\n",
    "\n",
    "plt.show()"
   ]
  },
  {
   "cell_type": "code",
   "execution_count": null,
   "id": "993fbfc4",
   "metadata": {},
   "outputs": [],
   "source": [
    "plt.subplots(figsize=(6, 5))\n",
    "mpl.style.use('seaborn')\n",
    "ampn=waven[interface1,:]\n",
    "ampf= wavef[interface1,:]\n",
    "plt.plot(ampn, 'k', label=\"near\", lw=4); plt.plot(ampf,'gray', linestyle=\"--\", label=\"far\", lw=4)\n",
    "plt.gca().invert_yaxis(); plt.legend(frameon=False, fontsize=16, loc=\"lower right\")\n",
    "plt.show()\n",
    "\n",
    "print(f\"near:%f\"% ampn.min(), f\"far:%f\"% ampf.min())"
   ]
  },
  {
   "cell_type": "code",
   "execution_count": null,
   "id": "d65fe286",
   "metadata": {},
   "outputs": [],
   "source": [
    "tuples = list(zip(ampn,traces))\n",
    "df1=pd.DataFrame(tuples, columns=['ampn','traces'])\n",
    "# df1.head(10)\n",
    "df1[df1['ampn'] == df1['ampn'].min() ]"
   ]
  },
  {
   "cell_type": "code",
   "execution_count": null,
   "id": "d67b1852",
   "metadata": {},
   "outputs": [],
   "source": [
    "f, ax=plt.subplots(figsize=(16,2))\n",
    "ax.tick_params(axis='x', which='both', bottom=True, labelbottom=True)\n",
    "ax.xaxis.set_minor_locator(AutoMinorLocator(8)); plt.grid(which='minor')\n",
    "ax.xaxis.set_minor_formatter(FormatStrFormatter(\"%.3f\"))\n",
    "plt.setp(ax.xaxis.get_minorticklabels(), rotation=90); plt.setp(ax.xaxis.get_majorticklabels(), rotation=90)\n",
    "ax.plot(tscale, waveform[8],'k',lw=2);plt.show()"
   ]
  },
  {
   "cell_type": "code",
   "execution_count": null,
   "id": "4eedd2e6",
   "metadata": {},
   "outputs": [],
   "source": [
    "tuples2 = list(zip(waveform[8],tscale))\n",
    "df2=pd.DataFrame(tuples2, columns=['tune','twt'])\n",
    "top=df2[df2['tune'] == df2['tune'].min()]; base=df2[df2['tune'] == df2['tune'].max()]\n",
    "top, base"
   ]
  },
  {
   "cell_type": "code",
   "execution_count": null,
   "id": "4221b521",
   "metadata": {},
   "outputs": [],
   "source": [
    "period=(1134-1118)\n",
    "velocity=vp2*1000 # velocity layer-2 dalam m/s\n",
    "tuning = velocity*(period/(2.31*2000)) #T/2.31 Kalweit & Wood approach (Simm and Bacon, Seismic Amplitude, 2014)\n",
    "print(round(tuning,2),f\"m\")"
   ]
  },
  {
   "cell_type": "markdown",
   "id": "f4e16cf9",
   "metadata": {},
   "source": [
    "Tuning atau wedge modeling dapat juga dilakukan dengan 2D model.\n",
    "\n",
    "<br>step-by-step tuning di atas dapat di-compile menjadi satu fungsi. Lakukan eksplorasi lebih lanjut jika tertarik untuk mendalaminya. _Stay creative !_"
   ]
  },
  {
   "cell_type": "markdown",
   "id": "0d422ef5",
   "metadata": {},
   "source": [
    "<h1><center>-Akhir Program Latihan-6-<center></h1>"
   ]
  }
 ],
 "metadata": {
  "kernelspec": {
   "display_name": "Python 3",
   "language": "python",
   "name": "python3"
  },
  "language_info": {
   "codemirror_mode": {
    "name": "ipython",
    "version": 3
   },
   "file_extension": ".py",
   "mimetype": "text/x-python",
   "name": "python",
   "nbconvert_exporter": "python",
   "pygments_lexer": "ipython3",
   "version": "3.9.5"
  }
 },
 "nbformat": 4,
 "nbformat_minor": 5
}
