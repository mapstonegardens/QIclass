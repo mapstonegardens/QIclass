{
 "metadata": {
  "name": "",
  "signature": "sha256:d967a66a1f288fffc052f5132598385329c8072db922891ac9391da6a73a6b89"
 },
 "nbformat": 3,
 "nbformat_minor": 0,
 "worksheets": [
  {
   "cells": [
    {
     "cell_type": "heading",
     "level": 2,
     "metadata": {},
     "source": [
      "Estimating density from porosity and water saturation through Wyllie density equation"
     ]
    },
    {
     "cell_type": "markdown",
     "metadata": {},
     "source": [
      "By : Leonard Lisapaly - Indonesian Rock Physics Society, Indonesian Geophysicists Association"
     ]
    },
    {
     "cell_type": "heading",
     "level": 3,
     "metadata": {},
     "source": [
      "Introduction"
     ]
    },
    {
     "cell_type": "markdown",
     "metadata": {},
     "source": [
      "Rock physics has many equations that relate the rock properties (density, Vp, and Vs) with reservoir properties (porosity, water saturation, and volume of clay). Wyllie density equation, for example, describes the density as a function of porosity and water saturation. Given the porosity $\\phi$ and water saturation $S_{w}$, the density $\\rho$ can be written as:\n",
      "\n",
      "$\\rho = (1-\\phi)\\rho_{ma} + \\phi\\left[S_{w}\\rho_{w} + (1-S_{w})\\rho_{hc}\\right]$\n",
      "\n",
      "where \n",
      "$\\rho_{ma}$ = matrix density, $\\rho_{w}$ = water density, and $\\rho_{hc}$ = hydrocarbon (oil or gas) density\n",
      "\n",
      "The second term in the equation, $\\phi\\left[S_{w}\\rho_{w} + (1-S_{w})\\rho_{hc}\\right]$ is also recognized as density of fluid $\\rho_{fl}$. Therefore, Wyllie density equation can be also simplified to:\n",
      "\n",
      "$\\rho = (1-\\phi)\\rho_{ma} + \\phi\\rho_{fl}$\n",
      "\n",
      "The exercise here will show you how to calculate the density from different inputs. Plotting the result from input arrays will be also shown. For preparation, we will now load the numerical library, plotting library, and Wyllie density function. This is described in the cell below. The file containing the function (rockphysics.py) is stored in the repository and should be put in the same folder containing this exercise (exercise_wyllie_density.ipynb)."
     ]
    },
    {
     "cell_type": "code",
     "collapsed": false,
     "input": [
      "import numpy as np\n",
      "import matplotlib.pyplot as plt\n",
      "%matplotlib inline\n",
      "from rockphysics import wylliedens"
     ],
     "language": "python",
     "metadata": {},
     "outputs": [],
     "prompt_number": 2
    },
    {
     "cell_type": "markdown",
     "metadata": {},
     "source": [
      "We want to know what is the density of an oil sand reservoir if we know that the porosity $\\phi$ is 0.33 and the water saturation $S_{w}$ is 0.8, given that the matrix density $\\rho_{ma}$ is 2.65 g/cc, the density of water $\\rho_{w}$ is 1.09 g/cc, and the density of oil $\\rho_{oil}$ is 0.78 g/cc. To do this, we prepare the code below and execute it. Note that we do the density calculation simply by calling the loaded Wyllie density function. The 'print' command is to show the calculation result."
     ]
    },
    {
     "cell_type": "code",
     "collapsed": false,
     "input": [
      "por = 0.3\n",
      "sw = 0.8\n",
      "rhoma = 2.65\n",
      "rhow = 1.09\n",
      "rhooil = 0.78\n",
      "rho = wylliedens(por,sw,rhoma,rhow,rhooil)\n",
      "print 'Rho = ',rho"
     ],
     "language": "python",
     "metadata": {},
     "outputs": [
      {
       "output_type": "stream",
       "stream": "stdout",
       "text": [
        "Rho =  2.1634\n"
       ]
      }
     ],
     "prompt_number": 3
    },
    {
     "cell_type": "markdown",
     "metadata": {},
     "source": [
      "What will be the density if the water saturation $S_{w}$ is 0.2 (meaning oil sand)? We just replace the water saturation $S_{w}$ by 0.2 and rerun the code."
     ]
    },
    {
     "cell_type": "code",
     "collapsed": false,
     "input": [
      "sw = 0.2\n",
      "rho = wylliedens(por,sw,rhoma,rhow,rhooil)\n",
      "print 'Rho = ',rho"
     ],
     "language": "python",
     "metadata": {},
     "outputs": [
      {
       "output_type": "stream",
       "stream": "stdout",
       "text": [
        "Rho =  2.1076\n"
       ]
      }
     ],
     "prompt_number": 4
    },
    {
     "cell_type": "markdown",
     "metadata": {},
     "source": [
      "We see now that density of the sand is reduced as the effect of the existence of oil in the sand reservoir.\n",
      "\n",
      "What will be the density the sand is gas sand reservoir where the density of gas $\\rho_{gas}$ is 0.001 g/cc and the water saturation $S_{w}$ is 0.2? It is easy!"
     ]
    },
    {
     "cell_type": "code",
     "collapsed": false,
     "input": [
      "sw = 0.2\n",
      "rhogas = 0.001\n",
      "rho = wylliedens(por,sw,rhoma,rhow,rhogas)\n",
      "print 'Rho = ',rho"
     ],
     "language": "python",
     "metadata": {},
     "outputs": [
      {
       "output_type": "stream",
       "stream": "stdout",
       "text": [
        "Rho =  1.92064\n"
       ]
      }
     ],
     "prompt_number": 5
    },
    {
     "cell_type": "markdown",
     "metadata": {},
     "source": [
      "We can see that the density decreases significantly when the sand reservoir is filled with gas.\n",
      "\n",
      "We will now continue to a better exercise where we define the water saturation $S_{w}$ as an array ranging from 0 to 1 with increment of 0.1. Therefore, we will have 11 samples in the water saturation array. Assume that we want to compare the density curves of oil and gas cases by plotting them as function of water saturation for a certain value of porosity in the same diagram. We keep other parameters the same. The oil case will be shown in green diamonds connected by green line, while the gas case will be shown in red squares connected by red line. The code is completely written in the cell below."
     ]
    },
    {
     "cell_type": "code",
     "collapsed": false,
     "input": [
      "por = 0.3\n",
      "sw = np.linspace(0,1,11)\n",
      "rhoma = 2.65\n",
      "rhow = 1.09\n",
      "rhoil = 0.78\n",
      "rhogas = 0.001\n",
      "rhoo1 = wylliedens(por,sw,rhoma,rhow,rhooil)\n",
      "rhog1 = wylliedens(por,sw,rhoma,rhow,rhogas)\n",
      "\n",
      "fig = plt.figure()\n",
      "fig.set_size_inches(8,6)\n",
      "plt.plot(sw,rhoo1,'gd-',sw,rhog1,'rs-')\n",
      "plt.xlabel('Water saturation')\n",
      "plt.ylabel('Density (g/cc)')\n",
      "plt.axis([0,1,1.7,2.7])\n",
      "plt.show()"
     ],
     "language": "python",
     "metadata": {},
     "outputs": [
      {
       "metadata": {},
       "output_type": "display_data",
       "png": "[encoded data removed]",
       "text": [
        "<matplotlib.figure.Figure at 0x34e4850>"
       ]
      }
     ],
     "prompt_number": 6
    },
    {
     "cell_type": "markdown",
     "metadata": {},
     "source": [
      "Let us now compare the density of oil and gas for two different porosities, 10% and 30%. The complete code is written in the cell below."
     ]
    },
    {
     "cell_type": "code",
     "collapsed": false,
     "input": [
      "por1 = 0.3\n",
      "por2 = 0.1\n",
      "sw = np.linspace(0,1,11)\n",
      "rhoma = 2.65\n",
      "rhow = 1.09\n",
      "rhoil = 0.78\n",
      "rhogas = 0.001\n",
      "rhoo1 = wylliedens(por1,sw,rhoma,rhow,rhooil)\n",
      "rhog1 = wylliedens(por1,sw,rhoma,rhow,rhogas)\n",
      "rhoo2 = wylliedens(por2,sw,rhoma,rhow,rhooil)\n",
      "rhog2 = wylliedens(por2,sw,rhoma,rhow,rhogas)\n",
      "\n",
      "fig = plt.figure()\n",
      "fig.set_size_inches(8,6)\n",
      "plt.plot(sw,rhoo1,'gd-',sw,rhog1,'rs-',sw,rhoo2,'bd-',sw,rhog2,'ms-')\n",
      "plt.xlabel('Water saturation')\n",
      "plt.ylabel('Density (g/cc)')\n",
      "plt.axis([0,1,1.7,2.7])\n",
      "plt.show()"
     ],
     "language": "python",
     "metadata": {},
     "outputs": [
      {
       "metadata": {},
       "output_type": "display_data",
       "png": "[encoded data removed]",
       "text": [
        "<matplotlib.figure.Figure at 0x367e410>"
       ]
      }
     ],
     "prompt_number": 7
    },
    {
     "cell_type": "markdown",
     "metadata": {},
     "source": [
      "What can we learn from this exercise?\n",
      "\n",
      "- When the porosity increases, the density decreases\n",
      "- When the porosity decreases, the density increases\n",
      "- When the water saturation increases, the density increases\n",
      "- When the water saturation decreases, the density decreases\n",
      "- When the porosity decreases, the difference between oil and gas densities decreases\n",
      "- Gas is more sensitive to the change of water saturation\n",
      "\n",
      "To close this exercise, another way to display the results is shown below where the data are shown as scattered points and legend for the data is shown in the bottom right corner. The water saturation increment has been reduced to 0.05 to yield water saturation array of 21 samples."
     ]
    },
    {
     "cell_type": "code",
     "collapsed": false,
     "input": [
      "por1 = 0.3\n",
      "por2 = 0.1\n",
      "sw = np.linspace(0,1,21)\n",
      "rhoma = 2.65\n",
      "rhow = 1.09\n",
      "rhoil = 0.78\n",
      "rhogas = 0.001\n",
      "rhoo1 = wylliedens(por1,sw,rhoma,rhow,rhooil)\n",
      "rhog1 = wylliedens(por1,sw,rhoma,rhow,rhogas)\n",
      "rhoo2 = wylliedens(por2,sw,rhoma,rhow,rhooil)\n",
      "rhog2 = wylliedens(por2,sw,rhoma,rhow,rhogas)\n",
      "fig = plt.figure()\n",
      "fig.set_size_inches(8,6)\n",
      "\n",
      "c1 = plt.scatter(sw,rhoo1,color='g',marker='d',hold='on')\n",
      "c2 = plt.scatter(sw,rhog1,color='r',marker='s')\n",
      "c3 = plt.scatter(sw,rhoo2,color='b',marker='d')\n",
      "c4 = plt.scatter(sw,rhog2,color='m',marker='s',hold='off')\n",
      "plt.legend((c1,c2,c3,c4),('Oil por=0.3','Gas por=0.3','Oil por=0.1','Gas por=0.1'),\n",
      "           scatterpoints=8,loc='lower right',ncol=4,fontsize=8)\n",
      "plt.xlabel('Water saturation')\n",
      "plt.ylabel('Density (g/cc)')\n",
      "plt.axis([0,1,1.7,2.7])\n",
      "plt.show()"
     ],
     "language": "python",
     "metadata": {},
     "outputs": [
      {
       "metadata": {},
       "output_type": "display_data",
       "png": "[encoded data removed]",
       "text": [
        "<matplotlib.figure.Figure at 0x35b7250>"
       ]
      }
     ],
     "prompt_number": 11
    },
    {
     "cell_type": "code",
     "collapsed": false,
     "input": [],
     "language": "python",
     "metadata": {},
     "outputs": [],
     "prompt_number": 8
    }
   ],
   "metadata": {}
  }
 ]
}