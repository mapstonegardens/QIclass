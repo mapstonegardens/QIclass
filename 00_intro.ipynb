{
 "cells": [
  {
   "cell_type": "markdown",
   "id": "49d3df2b",
   "metadata": {},
   "source": [
    "# 00 Testing"
   ]
  },
  {
   "cell_type": "markdown",
   "id": "2354fad9",
   "metadata": {},
   "source": [
    "### menggunakan pre-defined libraries"
   ]
  },
  {
   "cell_type": "code",
   "execution_count": null,
   "id": "68ced7e5",
   "metadata": {},
   "outputs": [],
   "source": [
    "%matplotlib inline\n",
    "%config InlineBackend.figure_format = 'retina'\n",
    "import numpy as np\n",
    "import matplotlib.pyplot as plt\n",
    "import pandas as pd\n",
    "import matplotlib as mpl\n",
    "from f0intro import crossplot"
   ]
  },
  {
   "cell_type": "markdown",
   "id": "425e41b1",
   "metadata": {},
   "source": [
    "### menggunakan input eksternal, memanggil file"
   ]
  },
  {
   "cell_type": "code",
   "execution_count": null,
   "id": "a15e96ec",
   "metadata": {},
   "outputs": [],
   "source": [
    "adi2=pd.read_csv('adi02logs.csv')"
   ]
  },
  {
   "cell_type": "code",
   "execution_count": null,
   "id": "2e96d3d8",
   "metadata": {},
   "outputs": [],
   "source": [
    "adi2.head(4)"
   ]
  },
  {
   "cell_type": "markdown",
   "id": "eccb688e",
   "metadata": {},
   "source": [
    "### melakukan internal operasi atau memanggil fungsi operator"
   ]
  },
  {
   "cell_type": "code",
   "execution_count": null,
   "id": "16eebaf3",
   "metadata": {},
   "outputs": [],
   "source": [
    "jumlah_sampel = 50\n",
    "velocity = 5.6\n",
    "porosity = 0.15\n",
    "crossplot (jumlah_sampel, velocity, porosity)"
   ]
  },
  {
   "cell_type": "markdown",
   "id": "4f63c721",
   "metadata": {},
   "source": [
    "### testing selesai..............."
   ]
  },
  {
   "cell_type": "code",
   "execution_count": null,
   "id": "158d7bc7",
   "metadata": {},
   "outputs": [],
   "source": []
  }
 ],
 "metadata": {
  "kernelspec": {
   "display_name": "Python 3",
   "language": "python",
   "name": "python3"
  },
  "language_info": {
   "codemirror_mode": {
    "name": "ipython",
    "version": 3
   },
   "file_extension": ".py",
   "mimetype": "text/x-python",
   "name": "python",
   "nbconvert_exporter": "python",
   "pygments_lexer": "ipython3",
   "version": "3.9.5"
  }
 },
 "nbformat": 4,
 "nbformat_minor": 5
}
