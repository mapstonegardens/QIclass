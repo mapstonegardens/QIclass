{
 "cells": [
  {
   "cell_type": "markdown",
   "id": "04355d85",
   "metadata": {},
   "source": [
    "# Latihan-9b Simple perturbation principles"
   ]
  },
  {
   "cell_type": "markdown",
   "id": "60e249c2",
   "metadata": {},
   "source": [
    "Latihan ini untuk pemodelan half space atau disebut juga blocky model, atau interface model yang terdiri dari 2-3 block layers digunakan untuk menganalisis respon amplitudo terhadap interface antara top dan bottom layers\n",
    "<br><br> _citation for this page: \"Adi Widyantoro, 2021, Pertamina Seismic QI Course, Latihan-9b Simple Perturbation.ipynb\"_  \n",
    "<br>\n",
    ">(update terakhir tanggal 1 Juli 2021 oleh Adi Widyantoro)\n",
    "<hr>"
   ]
  },
  {
   "cell_type": "markdown",
   "id": "f104f7b6",
   "metadata": {},
   "source": [
    "__Tahap-1__ \n",
    "<br> Program setup dan display sama seperti latihan sebelumnya. Gunakan hasil dari Latihan-3 data _logs_blocked_ untuk latihan selanjutnya\n",
    "<br> \n",
    "        \n",
    "        special notes_: brugeslibrary adalah kumpulan pre-defined functions oleh Agile Geoscience bruges:\n",
    "        https://github.com/agile-geoscience/bruges\n",
    "        \n",
    "        The bruges library's credits go to contributors: Evan Bianco, Ben Bougher, Matt Hall, Alessandro Amato del Monte, \n",
    "        Wes Hamlyn, Sean Ross-Ross"
   ]
  },
  {
   "cell_type": "code",
   "execution_count": null,
   "id": "4557b311",
   "metadata": {
    "scrolled": true
   },
   "outputs": [],
   "source": [
    "%matplotlib inline\n",
    "%config InlineBackend.figure_format = 'png'\n",
    "import numpy as np\n",
    "import matplotlib.pyplot as plt\n",
    "import matplotlib as mpl\n",
    "import pandas as pd\n",
    "from matplotlib import cm, pyplot\n",
    "from scipy.optimize import curve_fit\n",
    "from scipy.signal import hilbert\n",
    "from f10kuelapis import *\n",
    "mpl.style.use('seaborn') # default, seaborn"
   ]
  },
  {
   "cell_type": "code",
   "execution_count": null,
   "id": "5a1f704a",
   "metadata": {
    "scrolled": false
   },
   "outputs": [],
   "source": [
    "disp = np.zeros((60,100), dtype=int) \n",
    "disp[0:20,:] = 1\n",
    "disp[20:40,:] = 2\n",
    "disp[40:,:] = 3\n",
    "plt.subplots(figsize=(12,8))\n",
    "plt.imshow(disp, aspect=1, cmap='Dark2')\n",
    "# plt.grid(False)\n",
    "plt.show()"
   ]
  },
  {
   "cell_type": "code",
   "execution_count": null,
   "id": "7467065a",
   "metadata": {
    "scrolled": false
   },
   "outputs": [],
   "source": [
    "box = np.zeros((60,10), dtype=int) \n",
    "box[0:20,:] = 1\n",
    "box[20:40,:] = 2\n",
    "box[40:,:] = 3"
   ]
  },
  {
   "cell_type": "code",
   "execution_count": null,
   "id": "01d7b94e",
   "metadata": {},
   "outputs": [],
   "source": [
    "t,wavelet=ricker(20,200,2,0)\n",
    "print(len(wavelet))\n",
    "isi=np.array(([3.30, 2.42, 1.85],[3.08, 2.25, 1.72],[3.48, 2.48, 1.85]))"
   ]
  },
  {
   "cell_type": "code",
   "execution_count": null,
   "id": "e800325b",
   "metadata": {
    "scrolled": false
   },
   "outputs": [],
   "source": [
    "exec(open('f09dispallstacks.py').read())"
   ]
  },
  {
   "cell_type": "code",
   "execution_count": null,
   "id": "0fc91292",
   "metadata": {},
   "outputs": [],
   "source": [
    "amplmin_in=[syn0[:-1].min(),syn5[:-1].min(),syn10[:-1].min(),syn15[:-1].min(),syn20[:-1].min(),syn25[:-1].min(),\n",
    "         syn30[:-1].min(),syn35[:-1].min(),syn40[:-1].min(),syn45[:-1].min()]\n",
    "amplmax_in=[syn0[1:].max(),syn5[1:].max(),syn10[1:].max(),syn15[1:].max(),syn20[1:].max(),syn25[1:].max(),\n",
    "         syn30[1:].max(),syn35[1:].max(),syn40[1:].max(),syn45[1:].max()]\n",
    "plt.subplots(figsize=(12,2)); plt.plot(amplmin_in, 'r'); plt.plot(amplmax_in, 'b');\n",
    "plt.axis('on'); plt.show()"
   ]
  },
  {
   "cell_type": "markdown",
   "id": "d2d7c5f5",
   "metadata": {},
   "source": [
    "-------------------------------------------------"
   ]
  },
  {
   "cell_type": "markdown",
   "id": "d4a7d948",
   "metadata": {},
   "source": [
    "### Hubungan Velocity-Pressure secara umum"
   ]
  },
  {
   "cell_type": "markdown",
   "id": "a09c3926",
   "metadata": {},
   "source": [
    "Hubungan pressure-velocity sangat bersifat empiris dan harus selalu dikalibrasi dengan data lokal. Tidak banyak pengembangan hubungan Vel-Press yang dapat ditemui pada publikasi, pengantar pembahasan hubungan ini secara baik dapat ditemui pada buku Vernik, Seismic Petrophysics in Quantitative Interpertation, SEG, 2016\n",
    "\n",
    "<br>Beberapa hubungan yang dibahas dalam buku tersebut, dan dapat didiskusikan lebih mendalam misalnya:<br>\n",
    "\n",
    "Eberhart-Phillips (1989) berdasarkan multivariate Han, et.al.(1986):\n",
    "<br>\n",
    "<font size=4>$V_p = 5.77-6.94\\phi-1.73V_{cl}^{\\frac{1}{2}}+0.446[P_{eff}-exp(16.7.P_{eff})]$</font>\n",
    "<br><br> mean effective stress dalam kBar<br>\n",
    "<font size=4>$V_s = 3.70-4.94\\phi-1.57V_{cl}^{\\frac{1}{2}}+0.361[P_{eff}-exp(16.7.P_{eff})]$</font>\n",
    "<br>\n",
    "\n",
    "\n",
    "Vernik menurunkan hubungan empiris dengan shale velocity, perubahan velocity akibat variasi vertical effective stress untuk bedding-normal yang konsisten dengan shale compaction behaviour, diekspresikan sbb:\n",
    "<font size=4>$V_p(0^o) = V_{pm}(1-\\phi_c.exp(-\\frac{\\sigma_v}{C_m}))^{(d-fV_{cl})}$</font>\n",
    "<br>\n",
    "<font size=4>$V_{pm} = a-bv_{cl}+cv_{cl}^2$</font>\n",
    "<br><br>\n",
    "a=5.69km/s, b=3.56, c=1.42, d=2.302, f=0.646, $C_m$=27.5MPa(4000psi), $\\phi_c$=40%"
   ]
  },
  {
   "cell_type": "code",
   "execution_count": null,
   "id": "1f3a99f3",
   "metadata": {
    "scrolled": false
   },
   "outputs": [],
   "source": [
    "initial=[3.08, 2.25, 1.72]\n",
    "vp1=3.08; vs1=2.25; rho1=1.72\n",
    "#-----------Eberhart--------\n",
    "peff = np.linspace(.05,.20,10)\n",
    "phi0=0.21; vcl0=0.23\n",
    "vp20=[]; vs20=[]\n",
    "for i in range(len(peff)):  \n",
    "    vp0=5.77-6.94*phi0-1.73*(vcl0**0.5)+0.446*(peff[i]-(np.exp(-16.7*peff[i])))\n",
    "    vp20.append(vp0) \n",
    "    vs0=3.70-4.94*phi0-1.57*(vcl0**0.5)+0.361*(peff[i]-(np.exp(-16.7*peff[i])))\n",
    "    vs20.append(vs0) \n",
    "vp21=[]; vs21=[]\n",
    "phi1=0.98*phi0\n",
    "for i in range(len(peff)):  \n",
    "    vp1=5.77-6.94*phi1-1.73*(vcl0**0.5)+0.446*(peff[i]-(np.exp(-16.7*peff[i])))\n",
    "    vp21.append(vp1) \n",
    "    vs1=3.70-4.94*phi1-1.57*(vcl0**0.5)+0.361*(peff[i]-(np.exp(-16.7*peff[i])))\n",
    "    vs21.append(vs1) \n",
    "vp22=[]; vs22=[]\n",
    "phi2=1.02*phi0\n",
    "for i in range(len(peff)):  \n",
    "    vp2=5.77-6.94*phi2-1.73*(vcl0**0.5)+0.446*(peff[i]-(np.exp(-16.7*peff[i])))\n",
    "    vp22.append(vp2) \n",
    "    vs2=3.70-4.94*phi2-1.57*(vcl0**0.5)+0.361*(peff[i]-(np.exp(-16.7*peff[i])))\n",
    "    vs22.append(vs2) \n",
    "vp23=[]; vs23=[]\n",
    "vcl1=0.85*vcl0\n",
    "for i in range(len(peff)):  \n",
    "    vp3=5.77-6.94*phi0-1.73*(vcl1**0.5)+0.446*(peff[i]-(np.exp(-16.7*peff[i])))\n",
    "    vp23.append(vp3) \n",
    "    vs3=3.70-4.94*phi0-1.57*(vcl1**0.5)+0.361*(peff[i]-(np.exp(-16.7*peff[i])))\n",
    "    vs23.append(vs3) \n",
    "vp24=[]; vs24=[]\n",
    "vcl2=0.95*vcl0\n",
    "for i in range(len(peff)):  \n",
    "    vp4=5.77-6.94*phi0-1.73*(vcl2**0.5)+0.446*(peff[i]-(np.exp(-16.7*peff[i])))\n",
    "    vp24.append(vp4) \n",
    "    vs4=3.70-4.94*phi0-1.57*(vcl2**0.5)+0.361*(peff[i]-(np.exp(-16.7*peff[i])))\n",
    "    vs24.append(vs4)\n",
    "vp25=[]; vs25=[]\n",
    "vcl3=1.05*vcl0\n",
    "for i in range(len(peff)):  \n",
    "    vp5=5.77-6.94*phi0-1.73*(vcl3**0.5)+0.446*(peff[i]-(np.exp(-16.7*peff[i])))\n",
    "    vp25.append(vp5) \n",
    "    vs5=3.70-4.94*phi0-1.57*(vcl3**0.5)+0.361*(peff[i]-(np.exp(-16.7*peff[i])))\n",
    "    vs25.append(vs5)    \n",
    "f, axs=plt.subplots(ncols=1, figsize=(6,6), sharey=True)\n",
    "plt.plot(vp20,peff,'ko', mew=6, zorder=5); \n",
    "plt.plot(vp20,peff,'C0', lw=6, alpha=0.6, zorder=1)\n",
    "plt.plot(vp21,peff,'C0', lw=6, alpha=.2)\n",
    "plt.plot(vp22,peff,'C0', lw=6, alpha=1, label='Phi')\n",
    "plt.plot(vp23,peff,'C1',lw=6, linestyle=\"--\", alpha=0.2, label='Clay')\n",
    "plt.plot(vp24,peff,'C1', lw=6, linestyle=\"--\", alpha=0.6)\n",
    "plt.plot(vp25,peff,'C1', lw=6, linestyle=\"--\", alpha=1)\n",
    "plt.xlabel('Vpep in km/s', size=16); plt.ylabel('Peff in kBar', size=16)\n",
    "plt.grid(linestyle=\":\", color='gray'); plt.legend(frameon=False,loc=\"upper left\", fontsize=12)\n",
    "plt.show()"
   ]
  },
  {
   "cell_type": "markdown",
   "id": "e16e14f7",
   "metadata": {},
   "source": [
    "increasing effective pressure bisa karena meningkatnya overurden atau pore pressure mengecil (depletion). Injection menyebabkan pore pressure meningkat atau effective pressure berkurang\n",
    "\n",
    "<br> jika diambil salah satu model di atas misalnya, at: vcl=0.21, phi=0.23, Initial Peff tidak diketahui tetapi lebih kecil dari 6 MPa menurut hubungan di atas. Jika Peff increase menjadi misalnya 0.10 kBar atau 10MPa, maka elastic logs model menjadi Vp=3.44, Vs=1.88, rho=1.63*Vp^0.3=2.36 (Gardner)"
   ]
  },
  {
   "cell_type": "code",
   "execution_count": null,
   "id": "8f207749",
   "metadata": {},
   "outputs": [],
   "source": [
    "peff[3],vp20[3],vs20[3]"
   ]
  },
  {
   "cell_type": "code",
   "execution_count": null,
   "id": "65a92de9",
   "metadata": {},
   "outputs": [],
   "source": [
    "isi_10MPa=np.array(([3.30, 2.42, 1.85],[3.44, 1.88, 2.36],[3.48, 2.48, 1.85]))"
   ]
  },
  {
   "cell_type": "code",
   "execution_count": null,
   "id": "a9a382a7",
   "metadata": {},
   "outputs": [],
   "source": [
    "exec(open('f09displallstacks_10Mpa.py').read())"
   ]
  },
  {
   "cell_type": "code",
   "execution_count": null,
   "id": "1ec8a5e5",
   "metadata": {},
   "outputs": [],
   "source": [
    "amplmin_in=[syn0[:-1].min(),syn5[:-1].min(),syn10[:-1].min(),syn15[:-1].min(),syn20[:-1].min(),syn25[:-1].min(),\n",
    "         syn30[:-1].min(),syn35[:-1].min(),syn40[:-1].min(),syn45[:-1].min()]\n",
    "amplmax_in=[syn0[1:].max(),syn5[1:].max(),syn10[1:].max(),syn15[1:].max(),syn20[1:].max(),syn25[1:].max(),\n",
    "         syn30[1:].max(),syn35[1:].max(),syn40[1:].max(),syn45[1:].max()]\n",
    "plt.subplots(figsize=(12,2)); plt.plot(amplmin_in, 'r'); plt.plot(amplmax_in, 'b');\n",
    "plt.axis('on'); plt.show()"
   ]
  },
  {
   "cell_type": "markdown",
   "id": "6a4ac6a5",
   "metadata": {},
   "source": [
    "<h1><center>-Akhir Program Latihan-9b-<center></h1>"
   ]
  }
 ],
 "metadata": {
  "kernelspec": {
   "display_name": "Python 3",
   "language": "python",
   "name": "python3"
  },
  "language_info": {
   "codemirror_mode": {
    "name": "ipython",
    "version": 3
   },
   "file_extension": ".py",
   "mimetype": "text/x-python",
   "name": "python",
   "nbconvert_exporter": "python",
   "pygments_lexer": "ipython3",
   "version": "3.9.5"
  }
 },
 "nbformat": 4,
 "nbformat_minor": 5
}
