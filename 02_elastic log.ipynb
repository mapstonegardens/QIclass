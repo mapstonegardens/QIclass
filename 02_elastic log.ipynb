{
 "cells": [
  {
   "cell_type": "markdown",
   "id": "da77ddeb",
   "metadata": {},
   "source": [
    "# Latihan-2 Elastic Logs Setup"
   ]
  },
  {
   "cell_type": "markdown",
   "id": "f255a347",
   "metadata": {},
   "source": [
    "Latihan ini fokus terhadap data log elastik, pembuatan litofasies sederhana melalui cutoff, pembuatan atribut log elastik seperti impedansi akustik dan rasio vp/vs yang berguna untuk analisis selanjutnya. Fokus berikutnya adalah melakukan blocking, averaging dan crossplot berdasarkan zonasi litofasies\n",
    "<br><br> _citation for this page: \"Adi Widyantoro, 2021, Pertamina Seismic QI Course, Latihan-2 Elastic Logs Setup.ipynb, accessed MM DD, YYYY.\"_  \n",
    "<br>\n",
    ">(update terakhir tanggal 1 Juli 2021 oleh Adi Widyantoro)\n",
    "<hr>"
   ]
  },
  {
   "cell_type": "markdown",
   "id": "5404d584",
   "metadata": {},
   "source": [
    "__Tahap-1__ \n",
    "<br> Tetap menggunakan pre-built libraries dasar seperti numpy, matplotlib dan pandas. Sehingga kita tidak perlu membuat semua fungsi yang kita perlukan dari awal/scratch\n",
    "<br> \n",
    "        \n",
    "        special notes_: brugeslibrary adalah kumpulan pre-defined functions oleh Agile Geoscience bruges:\n",
    "        https://github.com/agile-geoscience/bruges\n",
    "        \n",
    "        the library's credits go to bruges contributors: Evan Bianco, Ben Bougher, Matt Hall, Alessandro Amato del Monte, \n",
    "        Wes Hamlyn, Sean Ross-Ross"
   ]
  },
  {
   "cell_type": "code",
   "execution_count": null,
   "id": "109aafac",
   "metadata": {},
   "outputs": [],
   "source": [
    "%matplotlib inline\n",
    "%config InlineBackend.figure_format = 'png'\n",
    "import numpy as np\n",
    "import matplotlib.pyplot as plt\n",
    "import pandas as pd\n",
    "from f02qctop import well_sect\n",
    "from brugeslibrary import backus, moving_average, moving_avg_fft"
   ]
  },
  {
   "cell_type": "markdown",
   "id": "8c93a0d6",
   "metadata": {},
   "source": [
    "__Tahap-2__\n",
    "<br>Menggunakan file lokal atau yang tersimpan online untuk analisis. File path untuk lokal perlu diperhatikan dan diperbaiki jika perlu, menggunakan full path e.g. \"C:/Users/Guest/Documents/python/well02logs.csv\". <br>Kemudian fungsi selanjutnya melakukan modifikasi header, pengaturan kolom, dan operasi lain, jika memang diperlukan agar mudah dibaca sebagai input analisis berikutnya\n",
    "<br><br>_catatan_: library pandas (pd) dapat menggunakan tipe file lain seperti excel dengan command pd.read_excel('well02logs.xlsx'). Kemudian atribut fungsi reading file tersebut dapat dipelajari pada website pandas"
   ]
  },
  {
   "cell_type": "code",
   "execution_count": null,
   "id": "42ba5741",
   "metadata": {
    "scrolled": true
   },
   "outputs": [],
   "source": [
    "# adi2=pd.read_csv('/content/adi02logs.csv') #jika menggunakan google colab' local\n",
    "adi02=pd.read_csv('adi02logs.csv', warn_bad_lines=True, index_col=0)\n",
    "adi02.rename(columns={'Depth_m':'Depth', 'Vp_km/s':'Vp', 'Vs_km/s':'Vs','GammaRay_api':'GR',\n",
    "                      'Density_g/cc':'Rho','Caliper_m':'Cal','Swt_v/v':'Swt','Phit_v/v':'Phit', \n",
    "                      'Vsh_v/v':'Vsh'}, inplace=True)"
   ]
  },
  {
   "cell_type": "markdown",
   "id": "5dcad311",
   "metadata": {},
   "source": [
    "__Tahap-3__\n",
    "<br>\n",
    "Menambahkan marker dari tabel untuk pembuatan zonasi. Karena jumlahnya yang sedikit, maka penambhaan marker dpat juga menggunakan array secara manual"
   ]
  },
  {
   "cell_type": "code",
   "execution_count": null,
   "id": "a3d9adaa",
   "metadata": {
    "scrolled": false
   },
   "outputs": [],
   "source": [
    "# adi02tops=pd.read_csv('/content/adi02markers.csv') #jika menggunakan google colab' local\n",
    "adi02tops=pd.read_csv('adi02markers.csv')\n",
    "adi02tops.rename(columns={'Tops':'marker','Depth_m':'markerdep'}, inplace=True)\n",
    "marker=np.array(adi02tops['marker'])\n",
    "markerdep=np.array(adi02tops['markerdep'])\n",
    "print(adi02tops, \" \", sep='\\n')\n",
    "printmarker=marker.transpose()\n",
    "printmarkerdep=markerdep.transpose()\n",
    "print ('markers:', printmarker)"
   ]
  },
  {
   "cell_type": "markdown",
   "id": "11050068",
   "metadata": {},
   "source": [
    "__Tahap-4__\n",
    "<br>\n",
    "Menampilkan tops dengan membuat fungsi plotting well section yang dapat digunakan agar fokus terhadap interval of interest saja.\n",
    "<br><br>\n",
    "Ubah ekstensi interval of interest sesuai instruksi pada saat kursus, dengan mengubah nilai _top_plot_, _base_plot_\n",
    "<br><br> _catatan_: jika mengalami masalah dalam menjalankan command line di bawah dapat dilakukan dengan menggunakan cmd line sbb: exec(open('02_qctop.py').read())"
   ]
  },
  {
   "cell_type": "code",
   "execution_count": null,
   "id": "74ad00a2",
   "metadata": {
    "scrolled": false
   },
   "outputs": [],
   "source": [
    "datawell=adi02\n",
    "top_plot=1650\n",
    "base_plot=1900\n",
    "marker=marker\n",
    "markerdepth=markerdep\n",
    "well_sect(datawell,top_plot,base_plot,marker,markerdepth)"
   ]
  },
  {
   "cell_type": "markdown",
   "id": "1a37ad7d",
   "metadata": {},
   "source": [
    "__Tahap-5__\n",
    "<br>\n",
    "Membuat zonasi litofasies, berdasarkan marker, cutoff vsh, porositas, saturasi. <br>\n",
    "Misalnya:\n",
    "\n",
    "|Code |Description| Flag         \n",
    "|:-   |---------: | :-:\n",
    "|oil  |oil sand   | 1\n",
    "|ssd  |shaley sand| 2\n",
    "|sh   |shales     | 3\n",
    "|bri  |brine sand | 4\n",
    "|coal |coal       | 5"
   ]
  },
  {
   "cell_type": "code",
   "execution_count": null,
   "id": "9116bada",
   "metadata": {},
   "outputs": [],
   "source": [
    "pd.options.mode.chained_assignment = None\n",
    "top_plot=1650\n",
    "base_plot=1800\n",
    "logs=adi02[(adi02.index >= top_plot) & (adi02.index <= base_plot)]\n",
    "sand=0.3\n",
    "shale=0.7\n",
    "pay=0.85\n",
    "coal =1.75\n",
    "oil=((logs.Vsh <= sand) & (logs.Swt <= pay))\n",
    "ssd=((logs.Vsh < shale) & (logs.Vsh > sand))\n",
    "sh=((logs.Vsh >= shale))\n",
    "brine=((logs.Vsh <= sand) & (logs.Swt > pay))\n",
    "coal=((logs.Vsh <= sand) & (logs.Rho < coal))\n",
    "flag=np.zeros(np.shape(logs.Vsh))\n",
    "flag[oil.values]=1\n",
    "flag[ssd.values]=2\n",
    "flag[sh.values]=3\n",
    "flag[brine.values]=4\n",
    "flag[coal.values]=5\n",
    "logs['fac']=flag"
   ]
  },
  {
   "cell_type": "code",
   "execution_count": null,
   "id": "ab589682",
   "metadata": {
    "scrolled": false
   },
   "outputs": [],
   "source": [
    "print(logs.fac.head(20))"
   ]
  },
  {
   "cell_type": "markdown",
   "id": "05213b50",
   "metadata": {},
   "source": [
    "__Tahap-6__\n",
    "<br>\n",
    "Menampilkan histogram log elastik untuk masing-masing fasies. Statistik yang dihasilkan dapat digunakan sebagai input half space model, e.g. layered atau blocky AVO"
   ]
  },
  {
   "cell_type": "code",
   "execution_count": null,
   "id": "971694ca",
   "metadata": {
    "scrolled": false
   },
   "outputs": [],
   "source": [
    "exec(open('f02showhistogram.py').read())\n",
    "# plt.savefig('02_elasticlogs_013.png', dpi=200)"
   ]
  },
  {
   "cell_type": "code",
   "execution_count": null,
   "id": "5936e385",
   "metadata": {
    "scrolled": false
   },
   "outputs": [],
   "source": [
    "import matplotlib.colors as colors\n",
    "warna = ['gray','green','orange','olive','blue', 'black']\n",
    "skala_fasies = colors.ListedColormap(warna[0:len(warna)], 'indexed')\n",
    "plt.figure(figsize=(6,4))\n",
    "plt.scatter(logs.Vp,logs.Rho,80,logs.fac,marker='o',\n",
    "            edgecolors='none',alpha=0.5,cmap=skala_fasies,vmin=0,vmax=5)\n",
    "plt.xlim(2,4.6); plt.ylim(1,3); plt.grid(color='grey', linestyle=':'); \n",
    "plt.xlabel('Vp', size=20); plt.ylabel('Rho', size=20)\n",
    "cbar=plt.colorbar()\n",
    "cbar.set_label((6*' ').join(['n/a','oil', 'ssd', 'sh', 'brine','coal']))\n",
    "cbar.set_ticks(range(0,1)); cbar.set_ticklabels('')"
   ]
  },
  {
   "cell_type": "markdown",
   "id": "2695b69f",
   "metadata": {},
   "source": [
    "__Tahap-7__\n",
    "<br>\n",
    "Menghitung log moduli atau log elastik lain yang diperlukan seperti impedansi akustik, impedansi elastik, vp/vs rasio dsb"
   ]
  },
  {
   "cell_type": "code",
   "execution_count": null,
   "id": "869e0757",
   "metadata": {
    "scrolled": false
   },
   "outputs": [],
   "source": [
    "logs['Vp']=logs.Vp\n",
    "logs['Vs']=logs.Vs\n",
    "logs['Rho']=logs.Rho\n",
    "logs['AI']=round((logs.Vp*logs.Rho),2)\n",
    "logs['SI']=round((logs.Vs*logs.Rho),2)\n",
    "logs['VpVs']=round((logs.Vp/logs.Vs),2)\n",
    "print(logs.head(10))"
   ]
  },
  {
   "cell_type": "code",
   "execution_count": null,
   "id": "bb1d6d35",
   "metadata": {},
   "outputs": [],
   "source": [
    "print('AI min: {}, AI max: {}'.format(logs.AI.min(), logs.AI.max()))\n",
    "print('SI min: {}, SI max: {}'.format(logs.SI.min(), logs.SI.max()))\n",
    "print('VpVs min: {}, VpVs max: {}'.format(logs.VpVs.min(), logs.VpVs.max()))"
   ]
  },
  {
   "cell_type": "code",
   "execution_count": null,
   "id": "754cf6e6",
   "metadata": {
    "scrolled": false
   },
   "outputs": [],
   "source": [
    "f, ax = plt.subplots(nrows=1, ncols=3, figsize=(14, 4))\n",
    "ax[0].scatter(logs.Phit,logs.Vp,80,logs.fac,marker='o',edgecolors='none',alpha=0.5,cmap=skala_fasies,vmin=0,vmax=5)\n",
    "ax[1].scatter(logs.AI,logs.SI,80,logs.fac,marker='o',edgecolors='none',alpha=0.5,cmap=skala_fasies,vmin=0,vmax=5)\n",
    "ax[2].scatter(logs.AI,logs.VpVs,80,logs.fac,marker='o',edgecolors='none',alpha=0.5,cmap=skala_fasies,vmin=0,vmax=5)\n",
    "ax[0].set_xlim(0,0.3); ax[0].set_ylim(2,4.6);\n",
    "ax[1].set_xlim(2,12); ax[1].set_ylim(0.5,8);\n",
    "ax[2].set_xlim(2,12); ax[2].set_ylim(0.5,3);\n",
    "ax[0].set_title('Vp-Phit', size=20), ax[0].set_xlabel('Phit', size=14), ax[0].set_ylabel('Vp', size=14);\n",
    "ax[1].set_title('AI-SI', size=20), ax[1].set_xlabel('AI', size=14), ax[1].set_ylabel('SI', size=14);\n",
    "ax[2].set_title('AI-Vp/Vs', size=20), ax[2].set_xlabel('AI', size=14), ax[2].set_ylabel('VpVs', size=14);\n",
    "for i in ax: i.grid(color='grey', linestyle=':')"
   ]
  },
  {
   "cell_type": "markdown",
   "id": "3c937590",
   "metadata": {},
   "source": [
    "<h1><center>-Akhir Program Latihan-2-<center></h1>"
   ]
  }
 ],
 "metadata": {
  "kernelspec": {
   "display_name": "Python 3",
   "language": "python",
   "name": "python3"
  },
  "language_info": {
   "codemirror_mode": {
    "name": "ipython",
    "version": 3
   },
   "file_extension": ".py",
   "mimetype": "text/x-python",
   "name": "python",
   "nbconvert_exporter": "python",
   "pygments_lexer": "ipython3",
   "version": "3.9.5"
  }
 },
 "nbformat": 4,
 "nbformat_minor": 5
}
