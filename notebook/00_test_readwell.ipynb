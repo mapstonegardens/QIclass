{
 "cells": [
  {
   "cell_type": "markdown",
   "id": "49d3df2b",
   "metadata": {},
   "source": [
    "# 00 Reading and visualize adi02wells.csv"
   ]
  },
  {
   "cell_type": "markdown",
   "id": "e98cf80d",
   "metadata": {},
   "source": [
    "Halaman ini untuk testing memanggil dataset yang akan digunakan untuk latihan-latihan selanjutnya. Diskusikan dengan intruktur jika mengalami kesulitan atan tampilan di layar tidak muncul seperti pada gambar yang ditunjukkan oleh instruktur"
   ]
  },
  {
   "cell_type": "markdown",
   "id": "8ec34be9",
   "metadata": {},
   "source": [
    "### menggunakan pre-defined libraries"
   ]
  },
  {
   "cell_type": "code",
   "execution_count": null,
   "id": "68ced7e5",
   "metadata": {},
   "outputs": [],
   "source": [
    "%matplotlib inline\n",
    "%config InlineBackend.figure_format = 'png'\n",
    "import numpy as np\n",
    "import matplotlib.pyplot as plt\n",
    "import pandas as pd\n",
    "import matplotlib as mpl\n",
    "import math"
   ]
  },
  {
   "cell_type": "markdown",
   "id": "987d91e0",
   "metadata": {},
   "source": [
    "### menggunakan input eksternal, memanggil file"
   ]
  },
  {
   "cell_type": "code",
   "execution_count": null,
   "id": "d1efd5fb",
   "metadata": {},
   "outputs": [],
   "source": [
    "# adi2=pd.read_csv('/content/adi02logs.csv') #jika menggunakan google colab' local\n",
    "adi2=pd.read_csv('adi02logs.csv')\n",
    "adi2.rename(columns={'Depth_m':'Depth', 'Vp_km/s':'Vp', 'Vs_km/s':'Vs','GammaRay_api':'GR',\n",
    "                      'Density_g/cc':'Rho','Caliper_m':'Cal','Swt_v/v':'Swt','Phit_v/v':'Phit', \n",
    "                      'Vsh_v/v':'Vsh'}, inplace=True)\n",
    "#quick look plot log elastik\n",
    "mpl.style.use('default') # default, seaborn"
   ]
  },
  {
   "cell_type": "markdown",
   "id": "89961335",
   "metadata": {},
   "source": [
    "### menggunakan, memilih, memodifikasi, mendefiniskan dataframe"
   ]
  },
  {
   "cell_type": "code",
   "execution_count": null,
   "id": "a79fa01a",
   "metadata": {},
   "outputs": [],
   "source": [
    "adi2.head(4)"
   ]
  },
  {
   "cell_type": "code",
   "execution_count": null,
   "id": "b2251c02",
   "metadata": {},
   "outputs": [],
   "source": [
    "z=adi2.Depth\n",
    "vsh=adi2.Vsh\n",
    "vp=adi2.Vp\n",
    "vs=adi2.Vs\n",
    "rho=adi2.Rho\n",
    "phit=adi2.Phit\n",
    "ai=vp*rho\n",
    "vpvs=vp/vs"
   ]
  },
  {
   "cell_type": "markdown",
   "id": "d69af6f5",
   "metadata": {},
   "source": [
    "### melakukan internal operasi atau membuat fungsi operator"
   ]
  },
  {
   "cell_type": "code",
   "execution_count": null,
   "id": "a84a5392",
   "metadata": {},
   "outputs": [],
   "source": [
    "surface = 20\n",
    "Vp0 = vp.max()\n",
    "Phi = phit.mean()\n",
    "Interval = np.zeros(surface + 1)\n",
    "Decline = np.arange(surface + 1)\n",
    "for i in range(surface + 1):\n",
    "    Interval[i] = Vp0*(5-i*Phi)**i"
   ]
  },
  {
   "cell_type": "code",
   "execution_count": null,
   "id": "845ad64b",
   "metadata": {},
   "outputs": [],
   "source": [
    "plt.figure(figsize=(4,2))\n",
    "plt.plot(Decline, Interval, \"ro\", ls=\"-\")\n",
    "plt.xlabel(\"Decline\", size=12); plt.ylabel(\"Interval\", size=12)\n",
    "plt.grid(linestyle=':'); plt.gca().invert_yaxis()"
   ]
  },
  {
   "cell_type": "markdown",
   "id": "8659db67",
   "metadata": {},
   "source": [
    "### melakukan visualisasi seperti well section plotting"
   ]
  },
  {
   "cell_type": "code",
   "execution_count": null,
   "id": "6e0de451",
   "metadata": {},
   "outputs": [],
   "source": [
    "fig, (ax1, ax2, ax3, ax4) = plt.subplots(1,4, figsize=(6,5), sharey=True, dpi=100) \n",
    "ax1.plot(vsh, z, 'k'), ax1.set_xlabel('Vsh', size=20); ax1.invert_yaxis()\n",
    "ax1.fill_betweenx(z,vsh,vsh.max(), facecolor='yellow', alpha=0.2)\n",
    "ax2.plot(phit, z, 'k'), ax2.set_xlabel('Phit', size=20);\n",
    "ax2.fill_betweenx(z,phit.min(), phit, facecolor='yellow', alpha=0.2)\n",
    "ax3.plot(ai, z, 'k'), ax3.set_xlabel('AI', size=20)\n",
    "ax4.plot(vpvs, z, 'k'), ax4.set_xlabel('Vp/Vs', size=20);\n",
    "for axes in (ax1, ax2, ax3, ax4):\n",
    "    axes.xaxis.set_ticks_position('top')\n",
    "    axes.xaxis.set_label_position('top')\n",
    "fig.tight_layout()"
   ]
  },
  {
   "cell_type": "code",
   "execution_count": null,
   "id": "7437d0a5",
   "metadata": {},
   "outputs": [],
   "source": [
    "fig = plt.figure(figsize=(4,2))\n",
    "ax = fig.add_subplot(1, 1, 1, projection='polar')\n",
    "theta = np.linspace(0, 2 * np.pi, 10)\n",
    "r = np.linspace(1, 5, 10)\n",
    "ax.plot(theta, r, \"r\", lw=5);"
   ]
  },
  {
   "cell_type": "code",
   "execution_count": null,
   "id": "deb6d197",
   "metadata": {},
   "outputs": [],
   "source": [
    "x = np.linspace(2, 10, 10)\n",
    "y = np.linspace(2, 4, 10)\n",
    "z = np.cos(y[:, np.newaxis])*x\n",
    "fig, ax = plt.subplots(figsize=(4,2))\n",
    "im = ax.contourf(x, y, z, 5, cmap=plt.cm.jet)\n",
    "im2 = ax.contour(x, y, z, extend='both', colors='k', linewidths=1)\n",
    "fig.colorbar(im, ax=ax);"
   ]
  },
  {
   "cell_type": "code",
   "execution_count": null,
   "id": "658cd3ff",
   "metadata": {},
   "outputs": [],
   "source": [
    "x = np.random.random(10)\n",
    "y = np.random.random(10)\n",
    "c = np.random.random(10)  # color of points\n",
    "s = 1000 * np.random.random(10)  # size of points\n",
    "fig, ax = plt.subplots(figsize=(4,2))\n",
    "im = ax.scatter(x, y, c=c, s=s, cmap=plt.cm.jet)\n",
    "fig.colorbar(im, ax=ax);"
   ]
  },
  {
   "cell_type": "markdown",
   "id": "38eeb17b",
   "metadata": {},
   "source": [
    "### Sumber-sumber utama geophysical python codes yang digunakan dalam kelas ini"
   ]
  },
  {
   "cell_type": "markdown",
   "id": "51a00a84",
   "metadata": {},
   "source": [
    "<font size=4><br>\n",
    "1. https://wiki.seg.org/wiki/A_user_guide_to_the_geophysical_tutorials\n",
    "<br><br>\n",
    "2. https://agilescientific.com/blog/tag/modeling\n",
    "<br><br>\n",
    "3. https://github.com/\n",
    "    \n",
    " </font>"
   ]
  }
 ],
 "metadata": {
  "kernelspec": {
   "display_name": "Python 3",
   "language": "python",
   "name": "python3"
  },
  "language_info": {
   "codemirror_mode": {
    "name": "ipython",
    "version": 3
   },
   "file_extension": ".py",
   "mimetype": "text/x-python",
   "name": "python",
   "nbconvert_exporter": "python",
   "pygments_lexer": "ipython3",
   "version": "3.9.5"
  }
 },
 "nbformat": 4,
 "nbformat_minor": 5
}
