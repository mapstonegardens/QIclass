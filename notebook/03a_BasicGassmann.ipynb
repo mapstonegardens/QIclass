{
 "cells": [
  {
   "cell_type": "markdown",
   "metadata": {},
   "source": [
    "# Latihan-3a Basic Gassmann"
   ]
  },
  {
   "cell_type": "markdown",
   "metadata": {},
   "source": [
    "Latihan ini fokus terhadap diskusi Gassmann sebagai salahsatu alurkerja inti estimasi shear velocity, pemodelan, perturbasi properti yang akan sering dilakukan pada latihan-latihan selanjutnya\n",
    "<br><br> _citation for this page: \"Adi Widyantoro, 2021, Pertamina Seismic QI Course, Latihan-3a Basic Gassmann.ipynb, accessed MM DD, YYYY.\"_  \n",
    "<br>\n",
    ">(update terakhir tanggal 1 Juli 2021 oleh Adi Widyantoro)\n",
    "<hr>"
   ]
  },
  {
   "cell_type": "markdown",
   "metadata": {},
   "source": [
    "__Tahap-1__ \n",
    "<br> Tetap menggunakan pre-built libraries dasar seperti numpy, matplotlib dan pandas. Serta tambahan fungsi yang telah dibuat untuk latihan sebelumnya\n",
    "<br> \n",
    "        \n",
    "        special notes_: brugeslibrary adalah kumpulan pre-defined functions oleh Agile Geoscience bruges:\n",
    "        https://github.com/agile-geoscience/bruges\n",
    "        \n",
    "        The bruges library's credits go to contributors: Evan Bianco, Ben Bougher, Matt Hall, Alessandro Amato del Monte, \n",
    "        Wes Hamlyn, Sean Ross-Ross"
   ]
  },
  {
   "cell_type": "code",
   "execution_count": null,
   "metadata": {},
   "outputs": [],
   "source": [
    "%matplotlib inline\n",
    "%config InlineBackend.figure_format = 'png'\n",
    "import numpy as np\n",
    "import matplotlib.pyplot as plt\n",
    "import matplotlib as mpl\n",
    "import pandas as pd\n",
    "import math\n",
    "from brugeslibrary import backus\n",
    "mpl.style.use('default') # default, seaborn"
   ]
  },
  {
   "cell_type": "markdown",
   "metadata": {},
   "source": [
    "__Tahap-2__\n",
    "<br>Tetap menggunakan data sumur yang sama untuk melakukan analisis pada real samples"
   ]
  },
  {
   "cell_type": "code",
   "execution_count": null,
   "metadata": {},
   "outputs": [],
   "source": [
    "# adi2=pd.read_csv('/content/adi02logs.csv') #jika menggunakan google colab' local\n",
    "adi02=pd.read_csv('adi02logs.csv', warn_bad_lines=True, index_col=0)\n",
    "adi02.rename(columns={'Depth_m':'Depth', 'Vp_km/s':'Vp', 'Vs_km/s':'Vs','GammaRay_api':'GR',\n",
    "                      'Density_g/cc':'Rho','Caliper_m':'Cal','Swt_v/v':'Swt','Phit_v/v':'Phit', \n",
    "                      'Vsh_v/v':'Vsh'}, inplace=True)"
   ]
  },
  {
   "cell_type": "code",
   "execution_count": null,
   "metadata": {},
   "outputs": [],
   "source": [
    "# adi02tops=pd.read_csv('/content/adi02markers.csv') #jika menggunakan google colab' local\n",
    "adi02tops=pd.read_csv('adi02markers.csv')\n",
    "adi02tops.rename(columns={'Tops':'marker','Depth_m':'markerdep'}, inplace=True)\n",
    "marker=np.array(adi02tops['marker'])\n",
    "markerdep=np.array(adi02tops['markerdep'])"
   ]
  },
  {
   "cell_type": "markdown",
   "metadata": {},
   "source": [
    "__Tahap-3__\n",
    "<br>Refresh fungsi dasar dan konstanta yang digunakan"
   ]
  },
  {
   "cell_type": "markdown",
   "metadata": {},
   "source": [
    "#### Basic Elastic\n",
    "<br>Signifikansi hubungan elastic properties dasar yang akan didiskusikan, perlu dipahami dan akan digunakan berulang dalam gassmann\n",
    "Hubungan moduli dan velocities:\n",
    "\n",
    "<font size=4>$V_p = \\sqrt{{M} / {\\rho}}$; $M = K+4/3\\mu$ \n",
    "<br><br> $V_s = \\sqrt{\\mu /{\\rho}}$</font>\n",
    "\n",
    "K adalah _Bulk Modulus_, M adalah ekspresi _Compressional Modulus_, dan $\\mu$ adalah Shear Modulus\n",
    "\n",
    "Hubungan dasar ini memberikan dasar perhitungan K dan $\\mu$ dalam gassmann ika velocity diketahui, sehingga dapat dituliskan kembali sbb: \n",
    "<br><br>\n",
    "<font size=4>$\\mu = V_s^2.\\rho$</font>, dan <font size=4>$K = V_p^2.\\rho - 4/3\\mu$</font>, atau <font size=4>$K=\\rho.(V_p^2 - 4/3 V_s^2)$</font>"
   ]
  },
  {
   "cell_type": "code",
   "execution_count": null,
   "metadata": {},
   "outputs": [],
   "source": [
    "\"---jika vp, vs dan bulk densitas rho diketahui:---\"\n",
    "vp1 = 2.4; rho1 = 2.65; vs1=1.2\n",
    "\n",
    "\"---maka mu dapat dihitung---\"\n",
    "mu1 = rho1*vs1**2\n",
    "K1 = rho1*(vp1**2 - (4/3)*mu1)\n",
    "\n",
    "print('K=%.2f'%K1, 'mu=%.2f'%mu1)"
   ]
  },
  {
   "cell_type": "code",
   "execution_count": null,
   "metadata": {},
   "outputs": [],
   "source": [
    "\"---jika K, mu dan bulk densitas rho diketahui:---\"\n",
    "K2=8.3; mu2=5.92; rho2=2.78\n",
    "\n",
    "\"---maka vp,vs baru dapat dihitung ulang:---\"\n",
    "M2 = K2 + (4/3)*mu2\n",
    "vp2 = np.sqrt(M2/rho2)\n",
    "vs2 = np.sqrt(mu2/rho2)\n",
    "\n",
    "print('vp=%.2f'%vp2, 'vs=%.2f'%vs2)"
   ]
  },
  {
   "cell_type": "markdown",
   "metadata": {},
   "source": [
    ">kerangka proses di atas adalah konsep fluid replacement gassmann"
   ]
  },
  {
   "cell_type": "markdown",
   "metadata": {},
   "source": [
    "#### Basic Solid Phase\n",
    "\n",
    "pemodelan rock physics akan melibatkan campuran litologi utama, umumnya dimodelkan sebagai dua elemn dasar seperti sand - shale atau calcite-shale, dsb. Campuran litologi memberikan effective modulus yang merupakan pendekatan volume rata-rata dari kedua kontituen, di representasikan dalam tiga model komposit, Voigt, Reuss dan Hill yang akan sering digunakan dalam gassmann:\n",
    "<br>\n",
    "   \n",
    "<font size=4>$K_{Voigt} = (V_{sd} \\cdot K_{qz}) + (V_{sh} \\cdot K_{sh})$</font>\n",
    "    \n",
    "volume fraksi total dari dua elemen $V_{sd} + V_{sh} = 1 $\n",
    "<br><br>\n",
    "\n",
    "<font size=4>$K_{Reuss}=$</font> <font size=5>$({\\frac{V_{sd}}{K_{sd}}}+{\\frac{V_{sh}}{K_{sh}}})^{-1}$</font> \n",
    "<br><br>\n",
    "\n",
    "<font size=4>$K_{Hill} =$</font><font size=5>$\\frac {(K_{Voigt} + K_{Reuss})}{2}$</font> \n",
    "\n",
    "hubungan ini juga berlaku untuk shear modulus $\\mu$\n",
    "\n",
    "\n",
    "Bulk density diekspresikan sebagai fraksi fluida pengisi pori dan densitas matriks: <br>\n",
    "<font size=4>$\\rho_{b} = \\rho_{ma}.(1-\\phi) + \\rho_{fl}.\\phi$</font>\n",
    "\n",
    "dengan campuran dua elemen batuan, misalnya sand dan shale maka, densitas matriks multimineral di atas adalah volume weighted average dari dua tipe batuan:<br>\n",
    "<font size=4>$\\rho_{ma} = V_{sh}.\\rho_{sh} + V_{sd}.\\rho_{sd}$</font>, volume fraksi total dari dua elemen $V_{sd} + V_{sh} = 1 $\n",
    "<br><br>\n"
   ]
  },
  {
   "cell_type": "markdown",
   "metadata": {},
   "source": [
    "#### Basic Fluid Phase\n",
    "\n",
    "Demikian juga dengan campuran dua fasa fluida menggunakan pendekatan yang sama, dengan asumsi konsisten pressure maka modulus fluida dari campuran fluid element minyak dan air dalam kondisi isostress adalah representasi Reuss effective fluid model sbb:\n",
    "\n",
    "<font size=4>$K_{fluid}=$</font><font size=5>$({\\frac{S_w}{K_{brine}}}+{\\frac{S_{oil}}{K_{oil}}})^{-1}$</font>, dimana $S_w + S_{oil} = 1$\n",
    "<br><br> tiga fasa fluida dimungkinkan dengan : <font size=5>${\\frac{1}{K_{fluid}}}={\\frac{S_w}{K_w}}+{\\frac{S_o}{K_o}}+{\\frac{S_g}{K_g}}$ </font>\n",
    "\n",
    "#### basic patchy fluid\n",
    "<br> effective moduli dengan variasi spasial dalam batuan dapat didekati dengan Voigt model:\n",
    "<br> <font size=4>$K_{fluid}=(S_w.K_{brine}+S_{oil}.K_{oil})$</font>\n",
    "\n",
    "<br> Brie et.al. mengusulkan mixing fluid secara empiris sebagai berikut:\n",
    "<br> <font size=4>$K_{brie}= (K_{liquid}-K_{gas})(1-S_{gas})^e+K_{gas})$</font>, e adalah Brie's exponent=1,2,3<br>\n",
    "<br> <font size=4>$K_{liquid}=$</font><font size=5>$({\\frac{S_w}{K_{brine}}}+{\\frac{S_{oil}}{K_{oil}}})^{-1}$</font>"
   ]
  },
  {
   "cell_type": "markdown",
   "metadata": {},
   "source": [
    "#### common values\n",
    "beberapa konstanta penting yang akan digunakan dalam beberapa latihan ke depan adalah sebagai berikut:\n",
    "\n",
    "\n",
    "|Mineral   |bulk modulus(k)  |shear modulus (mu)   |density (rho)   |\n",
    "|:-        |----  |----: |:--:  |\n",
    "|Quartz    |36.6  |44 |2.65|\n",
    "|Clay      |20.9  |5  |2.58|\n",
    "|Calcite   |76.8  |32 |2.71|\n",
    "|Dolomite  |94.9  |45 |2.87|\n",
    "\n",
    "|fluid |bulk modulus(k)  |density (rho)   |\n",
    "|:-    |---- |:--:|\n",
    "|brine |2.8  |1.09|\n",
    "|oil   |0.94 |0.78|\n",
    "|gas   |0.06 |0.25|"
   ]
  },
  {
   "cell_type": "markdown",
   "metadata": {},
   "source": [
    "__Tahap-4__\n",
    "<br>Perbedaan efek bound theories (Voigt-Reuss) terhadap solid dan fluid properties"
   ]
  },
  {
   "cell_type": "code",
   "execution_count": null,
   "metadata": {},
   "outputs": [],
   "source": [
    "rho_qz=2.65;  k_qz=37;  mu_qz=44    # mineral properties, quartz (i.e., sands)\n",
    "rho_sh=2.81;  k_sh=15;  mu_sh=5     # mineral properties, clay (i.e., shales)\n",
    "rho_b=1.09;   k_b=2.8               # fluid properties, brine\n",
    "rho_o=0.78;   k_o=0.94              # fluid properties, oil\n",
    "rho_g=0.25;   k_g=0.06              # fluid properties, gas"
   ]
  },
  {
   "cell_type": "code",
   "execution_count": null,
   "metadata": {},
   "outputs": [],
   "source": [
    "vshk= np.linspace(0,1,10)\n",
    "vsdk= 1-vshk\n",
    "kvoigt = vshk*k_sh + vsdk*k_qz\n",
    "kreuss = 1/(vshk/k_sh + vsdk/k_qz)\n",
    "# plt.plot\n",
    "plt.rcParams[\"figure.figsize\"] = (4,4)\n",
    "plt.plot(vshk,kvoigt, label=\"voigt\", color='C1')\n",
    "plt.plot(vshk,kreuss, label=\"reuss\", color='C2')\n",
    "plt.xlabel('Vsh (clay content)'); plt.ylabel('Bulk Modulus')\n",
    "plt.legend(loc = 'upper right', frameon=False, fontsize=12)\n",
    "plt.xlim(0.0,1.0); plt.grid(color='gray', linestyle=':')"
   ]
  },
  {
   "cell_type": "code",
   "execution_count": null,
   "metadata": {},
   "outputs": [],
   "source": [
    "vpvr= np.linspace(2,4,100)\n",
    "vshvr= np.linspace(0,1,10)\n",
    "vsdvr= 1-vshvr\n",
    "vp_sh=np.sqrt(k_sh/rho_sh)\n",
    "vp_qz=np.sqrt(k_qz/rho_qz)\n",
    "vpvoigt = vshvr*vp_sh + vsdvr*vp_qz\n",
    "vpreuss = 1/(vshvr/vp_sh + vsdvr/vp_qz)\n",
    "# plt.plot\n",
    "plt.rcParams[\"figure.figsize\"] = (4,4)\n",
    "plt.plot(vshvr,vpvoigt, label=\"voigt\", color='C1')\n",
    "plt.plot(vshvr,vpreuss, label=\"reuss\", color='C2')\n",
    "plt.xlabel('Vsh (clay content)'); plt.ylabel('Vp (km/s)')\n",
    "plt.legend(loc = 'upper right', frameon=False, fontsize=12)\n",
    "plt.xlim(0.0,1.0); plt.grid(color='gray', linestyle=':')"
   ]
  },
  {
   "cell_type": "code",
   "execution_count": null,
   "metadata": {},
   "outputs": [],
   "source": [
    "sws1= np.linspace(0,1,100)\n",
    "sos1= 1-sws1 # oil and brine mixing\n",
    "sgs1= 1-sws1 # gas and brine mixing\n",
    "k_b_o = 1/(sos1/k_o + sws1/k_b)\n",
    "k_b_g = 1/(sgs1/k_g + sws1/k_b)\n",
    "# plt.plot\n",
    "plt.rcParams[\"figure.figsize\"] = (4,4)\n",
    "plt.plot(sws1,k_b_o, label=\"oil-brine\", color='g', lw=2)\n",
    "plt.plot(sws1,k_b_g, label=\"gas-brine\", color='r', lw=2)\n",
    "plt.xlabel('Swt'); plt.ylabel('Bulk modulus')\n",
    "plt.legend(loc = 'upper left', frameon=False, fontsize=12)\n",
    "plt.xlim(0.0,1.0); plt.grid(color='gray', linestyle=':')"
   ]
  },
  {
   "cell_type": "code",
   "execution_count": null,
   "metadata": {
    "scrolled": false
   },
   "outputs": [],
   "source": [
    "sw_b= np.linspace(0,1,100)\n",
    "b=1 # brie exponent practical range: [2,3]\n",
    "patchy_oil=0.4\n",
    "so_b= patchy_oil*(1-sw_b)\n",
    "sg_b= 1-sw_b-so_b\n",
    "k_voigt = so_b*k_o + sw_b*k_b + sg_b*k_g\n",
    "k_liq = 1/(so_b/k_o + sw_b/k_b)\n",
    "k_brie = (k_liq-k_g)* ((1-sg_b)**b) + k_g\n",
    "k_reussb = 1/((1-sw_b)/k_o + sw_b/k_b + sg_b/k_g)\n",
    "# plt.plot\n",
    "plt.rcParams[\"figure.figsize\"] = (4,4)\n",
    "plt.plot(sw_b,k_voigt, label=\"voigt\", color='C1', lw=2)\n",
    "plt.plot(sw_b,k_reussb, label=\"reuss\", color='C2', lw=2)\n",
    "k_brie2 = (k_liq-k_g)* ((1-sg_b)**2) + k_g\n",
    "k_brie3 = (k_liq-k_g)* ((1-sg_b)**3) + k_g\n",
    "plt.plot(sw_b,k_brie, label=\"brie=1\", color='b', lw=0.2)\n",
    "plt.plot(sw_b,k_brie2, label=\"brie=2\", color='b', lw=2, linestyle=\":\")\n",
    "plt.plot(sw_b,k_brie3, label=\"brie=3\", color='b', lw=2, linestyle=\"--\")\n",
    "plt.xlabel('Swt'); plt.ylabel('Bulk modulus')\n",
    "plt.legend(loc = 'upper left', frameon=False, fontsize=10)\n",
    "plt.xlim(0.0,1.0); plt.grid(color='gray', linestyle=':')"
   ]
  },
  {
   "cell_type": "markdown",
   "metadata": {},
   "source": [
    "__Tahap-5__\n",
    "<br>Langkah gassmann isotropik melalui tahap demi tahap"
   ]
  },
  {
   "cell_type": "markdown",
   "metadata": {},
   "source": [
    "### isotropic gassmann fluid replacement modeling\n",
    "\n",
    "pemahaman alurkerja dasar gassmann dalam pemodelan dan umumnya seismic QI diperlukan karena menjadi salahsatu proses wajib yang harus dilakukan. Teori biot-gassmann menunjukkan prediksi bahwa pada setiap increment pressure yang terjadi (misalnya gelombang seismik) yang melewati batuan akan menyebabkan momen peningkatan pore pressure untuk menahan eksternal pressure yang terjadi, dan secara umum menjadikan batuan lebih stiff dari sebelumya. Prediksi ini mengaitkan hubungan saturated state dengan _dry + fluid_ elemen dari batuan, atau secara umum _saturated = dry + fluid_, dan digunakan dalam memprediksi kondisi batuan tersaturasi vs batuan tidak tersaturasi (dry) serta batuan dengan saturasi berbeda. prediksi teori ini mengambil bentuk sbb:\n",
    "<br><br>\n",
    "<font size=5>\n",
    "$\\frac {k_{sat}} {k_{ma}-k_{sat}} = \\frac {k_{dry}} {k_{ma}-k_{dry}} + \\frac {k_{fluid}} {k_{ma}-k_{fluid}}$\n",
    "</font>\n",
    "<br><br>\n",
    "\n",
    "####  Tahap-1 : $K_{dry}$ \n",
    "<br>tahapan alurkerja gassmann dibagi menjadi dua. Pertama, memprediksi kondisi batuan dry dari batuan tersaturasi:\n",
    "\n",
    "\n",
    "$k_{dry} =$ <font size=5>$\\frac{k_{sat}(\\frac{\\phi k_{ma}}{k_{fluid}} + 1-\\phi) - k_{ma}}{\\frac {\\phi k_{ma}}{k_{fluid}} + \\frac{k_{sat}}{k_{ma}} -1-\\phi} $ </font>\n",
    "\n",
    "<br>\n",
    "dimana, $k_{sat}$ adalah modulus batuan tersaturasi fluida, $k_{ma}$ modulus matriks, dan $k_{fluid}$ adalah modulud fasa fluida atau campuran fluida seperti dijelaskan sebelumnya\n",
    "\n",
    "####   Tahap-2 : $K_{sat}$ \n",
    "<br>setelah  $k_{dry}$ didapatkan, maka dapat digunakan untuk memprediksi $k_{sat}$ yang mengandung $k_{fluid}$ baru, sbb:\n",
    "\n",
    "\n",
    "$k_{sat} = k_{dry} + $ <font size=5> $\\frac { (1-\\frac{k_{dry}}{k_{ma}})^2} { \\frac{\\phi}{k_{fluid}} + \\frac{1-\\phi}{k_{ma}} - \\frac{k_{dry}}{k_{ma}^2}}$ </font>\n",
    "\n",
    "dalam lingkup isotropik dan batuan dengan fasa fluida konvensional, shear modulus dianggap tidak berubah, atau: \n",
    "\n",
    "$\\mu_{sat} = \\mu_{fluid} = \\mu_{dry}$\n",
    "\n",
    "dari $k_{sat}$ yang baru dihitung, maka $vp_{sat}$, $vs_{sat}$, dan $\\rho_{sat}$ dapat dihitung dengan hubungan-hubungan di atas.\n",
    "\n",
    "$\\rho_{sat} = (1-\\phi).\\rho_{ma} + \\phi.\\rho_{fluid baru} $"
   ]
  },
  {
   "cell_type": "code",
   "execution_count": null,
   "metadata": {
    "scrolled": true
   },
   "outputs": [],
   "source": [
    "\"\"\"\n",
    "Replikasi Gassmann Exercise dari buku Mavko, et.al. The Rock Physics Handbook, 2nd ed., hal: 275<br>\n",
    "\"\"\"\n",
    "phi=0.2; kma=36\n",
    "kgas=0.133; rhogas=0.336\n",
    "kwater=3.013; rhowater=1.055\n",
    "\n",
    "ksatbrine=17.6 # water saturated rock\n",
    "\n",
    "\"\"\"\n",
    "tahap pertama, menentukan kdry dari batuan yang disaturasi water\n",
    "ksatbrine/(kma-ksatbrine) = kdry/(kma-kdry) + kwater/ phi*(kma-kwater)\n",
    "kdry/(kma-kdry) = ksatbrine/(kma-ksatbrine) - kwater/ phi*(kma-kwater)\n",
    "\n",
    "\"\"\"\n",
    "# solve the fluid and saturated constants\n",
    "A =round((ksatbrine/(kma-ksatbrine)),3)\n",
    "B =round(kwater/(phi*(kma-kwater)), 3)\n",
    "\n",
    "#solve kdry\n",
    "kdry = round((((A-B)*kma)/(1+A-B)),2)\n",
    "\n",
    "\"\"\"\n",
    "tahap kedua, menghitung ksatgas dari hasil kdry dan menggunakan kgas \n",
    "ksatgas/(kma-ksatgas) = kdry/(kma-kdry) + kwater/ phi*(kma-kwater)\n",
    "\"\"\"\n",
    "# solve dry dan fluid constants\n",
    "C = round((kdry/(kma-kdry)),3)\n",
    "D = round(kgas/(phi*(kma-kgas)), 3)\n",
    "\n",
    "# solve ksatgas\n",
    "ksatgas=round((((C+D)*kma)/(1+C+D)),2)\n",
    "\n",
    "print(A,B, kdry,\"|\", C, D, ksatgas)"
   ]
  },
  {
   "cell_type": "markdown",
   "metadata": {},
   "source": [
    "__Tahap-6__\n",
    "<br>Aplikasi basic gassmann terhadap data sumur adi02"
   ]
  },
  {
   "cell_type": "markdown",
   "metadata": {},
   "source": [
    "### contoh aplikasi untuk log sumur"
   ]
  },
  {
   "cell_type": "code",
   "execution_count": null,
   "metadata": {},
   "outputs": [],
   "source": [
    "\"---buat langkah gassmann di atas sebagai fungsi yang dapat dipanggil dan dijalankan---\"\n",
    "def gassmann(vp1, vs1, rho1, rho_fl1, k_fl1, rho_fl2, k_fl2, k0, phi):  \n",
    "    mu1 = rho1*vs1**2.\n",
    "    k1 = rho1*vp1**2-(4./3.)*mu1\n",
    "    kdry= (k1 * ((phi*k0)/k_fl1+1-phi)-k0) / ((phi*k0)/k_fl1+(k1/k0)-1-phi)\n",
    "    k2 = kdry + (1- (kdry/k0))**2 / ( (phi/k_fl2) + ((1-phi)/k0) - (kdry/k0**2) )\n",
    "    mu2 = mu1\n",
    "    rho2 = rho1 + phi*(rho_fl2-rho_fl1)\n",
    "    vp2 = np.sqrt(((k2+(4./3)*mu2))/rho2)\n",
    "    vs2 = np.sqrt((mu2/rho2))\n",
    "    return [vp2, vs2, rho2, kdry]"
   ]
  },
  {
   "cell_type": "code",
   "execution_count": null,
   "metadata": {},
   "outputs": [],
   "source": [
    "\" --- lihat Latihan-2 untuk visualisasi. Interval akan dibatasi sekitar 1700-1800m saja---\"\n",
    "logs=adi02\n",
    "top_plot=1720\n",
    "base_plot=1760\n",
    "dfrm=logs[(logs.index >= top_plot) & (logs.index <= base_plot)]\n",
    "z=dfrm.index\n",
    "vp_i=dfrm.Vp\n",
    "vs_i=dfrm.Vs\n",
    "rho_i=dfrm.Rho\n",
    "sw_i=dfrm.Swt\n",
    "phi=dfrm.Phit\n",
    "vsh=dfrm.Vsh\n",
    "vsd=1-vsh"
   ]
  },
  {
   "cell_type": "code",
   "execution_count": null,
   "metadata": {
    "scrolled": false
   },
   "outputs": [],
   "source": [
    "fig, axs = plt.subplots(ncols=5, figsize=(10, 6), sharey=True)\n",
    "ax1 = axs[0]; ax1.plot(vp_i, z, 'k', lw=0.5); ax1.set_xlim(2,4.2); \n",
    "ax1.set_xlabel(\"Vp\", color='k', size=16); ax1.invert_yaxis()\n",
    "ax2 = axs[1]; ax2.plot(vs_i, z, 'k', lw=0.5); ax2.set_xlim(1.2,3)\n",
    "ax2.set_xlabel(\"Vs\", color='k', size=16)\n",
    "ax3 = axs[2]; ax3.plot(rho_i,z, 'k', lw=0.5); ax3.set_xlim(2,2.6);\n",
    "ax3.set_xlabel(\"Rho\", color='k', size=16)\n",
    "ax4 = axs[3]; ax4.plot(sw_i,z, 'k', lw=0.5); ax4.set_xlim(0.,1);\n",
    "ax4.set_xlabel(\"Sw\", color='k', size=16)\n",
    "ax5 = axs[4]; ax5.plot(vsh,z, 'k', lw=0.5); ax5.set_xlim(0.,1);\n",
    "ax5.set_xlabel(\"Vsh\", color='k', size=16)\n",
    "for axes in axs:\n",
    "    axes.yaxis.grid(True, color=\"gray\", linestyle=':', lw=0.4)\n",
    "    axes.xaxis.grid(True, color=\"gray\", linestyle=':', lw=0.4)\n",
    "    axes.xaxis.set_ticks_position('bottom')\n",
    "    axes.xaxis.set_label_position('top')"
   ]
  },
  {
   "cell_type": "code",
   "execution_count": null,
   "metadata": {},
   "outputs": [],
   "source": [
    "kvoigt=(vsh*k_sh) + (vsd*k_qz)\n",
    "kreuss=1/(vsh/k_sh + vsd/k_qz)\n",
    "kvrh=0.5*(kvoigt+kreuss)\n",
    "k0=kvoigt\n",
    "vp1=vp_i; vs1=vs_i; rho1=rho_i\n",
    "rho_fl1=rho_o; rho_fl2=rho_b\n",
    "k_fl1=k_o; k_2=k_b\n",
    "final_sat=1 # final saturation fraction\n",
    "k_fl2=1/((final_sat/k_2)+((1-final_sat)/k_fl1))\n",
    "frm=gassmann(vp1, vs1, rho1, rho_fl1, k_fl1, rho_fl2, k_fl2, k0, phi)\n",
    "vp_f1=frm[0]; vs_f1=frm[1]; rho_f1=frm[2]\n",
    "# print(rho_f.max())"
   ]
  },
  {
   "cell_type": "code",
   "execution_count": null,
   "metadata": {
    "scrolled": false
   },
   "outputs": [],
   "source": [
    "fig, axs = plt.subplots(ncols=5, figsize=(10, 6), sharey=True)\n",
    "ax11 = axs[0]; ax11.set_xlim(2.6,4.2) \n",
    "ax11.plot(vp_i, z, 'k', lw=0.5, label=\"insitu\")\n",
    "ax11.set_xlabel(\"Vp\", color='k', size=16); ax11.invert_yaxis()\n",
    "ax12 = axs[0]; ax12.set_xlim(2.6,4.2) \n",
    "ax12.plot(vp_f1, z, 'b', lw=0.5, label=\"final\")\n",
    "ax21 = axs[1]; ax21.set_xlim(1.2,3)\n",
    "ax21.plot(vs_i, z, 'k', lw=0.5, label=\"insitu\")\n",
    "ax21.set_xlabel(\"Vs\", color='k', size=16)\n",
    "ax22 = axs[1]; ax22.set_xlim(1.2,3)\n",
    "ax22.plot(vs_f1, z, 'b', lw=0.5, label=\"final\")\n",
    "ax31 = axs[2]; ax31.set_xlim(2,2.6)\n",
    "ax31.plot(rho_i,z, 'k', lw=0.5, label=\"insitu\")\n",
    "ax31.set_xlabel(\"Rho\", color='k', size=16)\n",
    "ax32 = axs[2]; ax32.set_xlim(2,2.6)\n",
    "ax32.plot(rho_f1, z, 'b',lw=0.5, label=\"final\")\n",
    "ax4 = axs[3]; ax4.plot(sw_i,z, 'k', lw=0.5, label=\"insitu\");\n",
    "ax4.set_xlabel(\"Sw\", color='k', size=16)\n",
    "ax5 = axs[4]; ax5.plot(vsh,z, 'k', lw=0.5, label=\"insitu\");\n",
    "ax5.set_xlabel(\"Vsh\", color='k', size=16)\n",
    "for axes in axs:\n",
    "    axes.yaxis.grid(True, color=\"gray\", linestyle=':', lw=0.4)\n",
    "    axes.xaxis.grid(True, color=\"gray\", linestyle=':', lw=0.4)\n",
    "    axes.xaxis.set_ticks_position('bottom')\n",
    "    axes.xaxis.set_label_position('top')\n",
    "    axes.legend(loc = 'lower right', frameon=False, fontsize=10)\n",
    "# plt.savefig('03agassmann_01.png', dpi=200)"
   ]
  },
  {
   "cell_type": "markdown",
   "metadata": {},
   "source": [
    "### Kdry Modeling Review"
   ]
  },
  {
   "cell_type": "markdown",
   "metadata": {},
   "source": [
    "Kdry modeling dapat menggunakan beberapa format empiris tergantung tren dari data itu sendiri. Beberapa piranti lunak menggunakan graphical approaches untuk mendapatkan hubungan Kdry/Kma dan porosity, misalnya dengan pendekatan sbb:\n",
    "<br>\n",
    "<font size=4> $\\frac {k_{dry}} {k_{ma}} = - \\frac{\\phi}{\\phi_c}$</font> + 1 \n",
    "<br><br>\n",
    "<font size=4> $\\frac {k_{dry}} {k_{ma}} = - \\frac{1}{1+c.\\phi}$</font>\n",
    "<br><br>\n",
    "<font size=4> $\\frac {k_{dry}} {k_{ma}} = exp^{-c.\\phi}$</font>\n",
    "<br><br>\n",
    "<font size=4> $\\frac {k_{dry}} {k_{ma}} = (1-\\phi)^{\\frac {x}{1-\\phi}}$</font>"
   ]
  },
  {
   "cell_type": "code",
   "execution_count": null,
   "metadata": {},
   "outputs": [],
   "source": [
    "kdry=frm[3]\n",
    "dfkdry=pd.DataFrame(zip(kdry,k0,phi), columns=['kdry','kma','phi'])\n",
    "dfkdry['kdry'].clip(lower=0)\n",
    "dfkdry.kdry = np.where(dfkdry.kdry < 0, 0, dfkdry.kdry)\n",
    "dfkdry.head(10)"
   ]
  },
  {
   "cell_type": "code",
   "execution_count": null,
   "metadata": {},
   "outputs": [],
   "source": [
    "#----plot-----\n",
    "f, axes = plt.subplots(figsize=(4,4))\n",
    "plt.scatter(dfkdry.kdry, dfkdry.kma, s=20, facecolors='none', edgecolors='gray')\n",
    "plt.xlabel(\"Kdry\", size=14); plt.ylabel(\"Kma\", size=14)\n",
    "plt.axvline(0, color='r',linestyle=\"--\")\n",
    "plt.show()"
   ]
  },
  {
   "cell_type": "code",
   "execution_count": null,
   "metadata": {
    "scrolled": false
   },
   "outputs": [],
   "source": [
    "f, axes = plt.subplots(figsize=(4,4))\n",
    "kdrykma=dfkdry.kdry/dfkdry.kma\n",
    "plt.scatter(dfkdry.phi, kdrykma, s=20, facecolors='none', edgecolors='gray')\n",
    "isofit=1/(1+7.643*dfkdry.phi)\n",
    "adifit=9.65652036* np.exp(-31.02718472 *dfkdry.phi)+0.3426115\n",
    "plt.plot(dfkdry.phi,isofit,'r', lw=2)\n",
    "plt.plot(dfkdry.phi,adifit,'g', linestyle=\"--\", lw=2)\n",
    "plt.xlabel(\"$\\phi$\", size=14); plt.ylabel(\"Kdry/Kma\", size=14)\n",
    "plt.show()"
   ]
  },
  {
   "cell_type": "code",
   "execution_count": null,
   "metadata": {},
   "outputs": [],
   "source": [
    "#curve fitting review\n",
    "from scipy.optimize import curve_fit\n",
    "from matplotlib import pyplot\n",
    "\n",
    "def fit(x, c):\n",
    "    return 1/(1+c*x)\n",
    "# curve fit\n",
    "popt,_ = curve_fit(fit, dfkdry.phi, kdrykma)\n",
    "print(popt)"
   ]
  },
  {
   "cell_type": "code",
   "execution_count": null,
   "metadata": {},
   "outputs": [],
   "source": [
    "# adi fit\n",
    "def adifit(x, a, b, c):\n",
    "    return a * np.exp(-b * x)+c\n",
    "popt, _ = curve_fit(adifit, dfkdry.phi, kdrykma)\n",
    "print(popt)"
   ]
  },
  {
   "cell_type": "code",
   "execution_count": null,
   "metadata": {},
   "outputs": [],
   "source": [
    "# gassmann with kdry model\n",
    "mu1 = rho1*vs1**2.\n",
    "k1 = rho1*vp1**2-(4./3.)*mu1\n",
    "\"---use kdry modeling---\"\n",
    "kdrymodel= (k0/(1+7.64*phi))\n",
    "\"-----------------------\"\n",
    "k2model = kdrymodel + (1- (kdrymodel/k0))**2 / ( (phi/k_fl2) + ((1-phi)/k0) - (kdrymodel/k0**2) )\n",
    "mu2 = mu1\n",
    "rho2model = rho1 + phi*(rho_fl2-rho_fl1)\n",
    "vp2model = np.sqrt(((k2model+(4./3)*mu2))/rho2model)\n",
    "vs2model = np.sqrt((mu2/rho2model))\n",
    "print(len(vp2model))"
   ]
  },
  {
   "cell_type": "code",
   "execution_count": null,
   "metadata": {},
   "outputs": [],
   "source": [
    "# gassmann with alternative kdry model\n",
    "\"---use kdry modeling---\"\n",
    "kdryadimodel= k0*(9.65652036 * np.exp(-31.02718472 *phi) + 0.3426115)\n",
    "\"-----------------------\"\n",
    "k2adimodel = kdryadimodel + (1- (kdryadimodel/k0))**2 / ( (phi/k_fl2) + ((1-phi)/k0) - (kdryadimodel/k0**2) )\n",
    "mu2 = mu1\n",
    "rho2adimodel = rho1 + phi*(rho_fl2-rho_fl1)\n",
    "vp2adimodel = np.sqrt(((k2adimodel+(4./3)*mu2))/rho2adimodel)\n",
    "vs2adimodel = np.sqrt((mu2/rho2adimodel))\n",
    "\n",
    "print(len(vp2adimodel))"
   ]
  },
  {
   "cell_type": "code",
   "execution_count": null,
   "metadata": {},
   "outputs": [],
   "source": [
    "vp_f1=frm[0]; vs_f1=frm[1]; rho_f1=frm[2]\n",
    "f, axes = plt.subplots(figsize=(4,4))\n",
    "plt.scatter(vp2model, vp_f1, s=40, facecolors='none', edgecolors='r')\n",
    "plt.scatter(vp2adimodel, vp_f1, s=20, facecolors='g', edgecolors='g')\n",
    "plt.xlabel(\"vp2model\", size=14); plt.ylabel(\"vp_gassmann\", size=14)\n",
    "plt.plot(vp_f1,vp_f1,'k')\n",
    "plt.grid(linestyle=\":\", color=\"gray\")\n",
    "plt.show()"
   ]
  },
  {
   "cell_type": "markdown",
   "metadata": {},
   "source": [
    "# HOMEWORK"
   ]
  },
  {
   "cell_type": "markdown",
   "metadata": {},
   "source": [
    "fluid replacement menggunakan isotropic gassmann mempunyai asumsi dan limitasi, karena itu harus dibatasi pada reservoir boundaries seperti: depth interval, sand interval, higher porosity interval dan sebagainya.\n",
    "<br><br> Latihan dapat dilanjutkan dengan melakukan ekplorasi opsi membatasi depth interval atau sand interval saja dengan menggunakan vsh cut off (misalnya hanya dilakukan pada depth interval 1720-1740m dan vsh <=0.45 saja)\n",
    "<br><br> Gunakan pilihan salahsatu cara di bawah atau temukan cara sendiri untuk membatasi interval gassmann, kemudian plot overlay hasilnya dibandingkan dengan gambar di atas,... _good luck !_"
   ]
  },
  {
   "cell_type": "code",
   "execution_count": null,
   "metadata": {},
   "outputs": [],
   "source": [
    "import warnings\n",
    "warnings.filterwarnings(\"ignore\")\n",
    "\n",
    "\"----------contoh menggunakan filtering/mask pada dataframe------\"\n",
    "\n",
    "# membuat kolom baru temporary yang tidak perlu disimpan tetapi mempunyai array konsisten agar dapat diplot\n",
    "df_baru=dfrm\n",
    "df_baru.loc[:,'vp_repl']=vp_i\n",
    "mask = (df_baru.index>=1720) & (df_baru.index<=1740)\n",
    "vp_replaced=df_baru.Vp; vs_replaced=df_baru.Vs; rho_replaced=df_baru.Rho\n",
    "replace_by_brine=gassmann(vp_replaced, vs_replaced, rho_replaced, rho_fl1, k_fl1, rho_fl2, k_fl2, k0, phi)\n",
    "vp_f2=replace_by_brine[0]\n",
    "df_baru.loc[mask,'vp_repl']=round(vp_f2,2)\n",
    "print(df_baru)\n",
    "# df_baru.drop(['vp_repl'], axis=1, inplace=True)"
   ]
  },
  {
   "cell_type": "markdown",
   "metadata": {},
   "source": [
    "___________________________"
   ]
  },
  {
   "cell_type": "code",
   "execution_count": null,
   "metadata": {
    "scrolled": false
   },
   "outputs": [],
   "source": [
    "import warnings\n",
    "warnings.filterwarnings(\"ignore\")\n",
    "\n",
    "\" ---------contoh penggunaan pembatasan vsh--------\"\n",
    "df_cut=dfrm\n",
    "mask2 = (df_cut.index>=1720) & (df_cut.index<=1740)\n",
    "df_cut.loc[:,'vp_cutoff']=vp_i\n",
    "vp3=df_cut.Vp[mask2]; vs3=df_cut.Vs[mask2]; rho3=df_cut.Rho[mask2]\n",
    "vshcut=df_cut.Vsh[mask2]\n",
    "for row in vshcut[:]:\n",
    "    if row <= 0.4:\n",
    "        frm3=gassmann(vp3, vs3, rho3, rho_fl1, k_fl1, rho_fl2, k_fl2, k0, phi)\n",
    "        vp_f3=frm3[0]\n",
    "    else:\n",
    "        vp_f3=vp_i\n",
    "df_cut.loc[mask2,'vp_cutoff']=round(vp_f3,2)\n",
    "print(df_cut)\n",
    "# df_cut.drop(['vp_repl', 'vp_cutoff'], axis=1, inplace=True)"
   ]
  },
  {
   "cell_type": "markdown",
   "metadata": {},
   "source": [
    "<h1><center>-Akhir Program Latihan-3a-<center></h1>"
   ]
  }
 ],
 "metadata": {
  "kernelspec": {
   "display_name": "Python 3",
   "language": "python",
   "name": "python3"
  },
  "language_info": {
   "codemirror_mode": {
    "name": "ipython",
    "version": 3
   },
   "file_extension": ".py",
   "mimetype": "text/x-python",
   "name": "python",
   "nbconvert_exporter": "python",
   "pygments_lexer": "ipython3",
   "version": "3.9.5"
  }
 },
 "nbformat": 4,
 "nbformat_minor": 2
}
