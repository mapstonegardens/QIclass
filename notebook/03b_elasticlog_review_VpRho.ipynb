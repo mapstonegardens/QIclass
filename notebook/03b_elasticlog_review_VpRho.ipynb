{
 "cells": [
  {
   "cell_type": "markdown",
   "id": "da77ddeb",
   "metadata": {
    "slideshow": {
     "slide_type": "slide"
    }
   },
   "source": [
    "# Latihan-3b Elastic Logs Review (Vp-Rho)"
   ]
  },
  {
   "cell_type": "markdown",
   "id": "f255a347",
   "metadata": {},
   "source": [
    "Latihan ini fokus terhadap review dan modifikasi log elastik. Asumsi koreksi invasi fluid dan borehole telah dilakukan atau akan dilakukan. Pembahasan koreksi borehole dan invasi dilakukan pada latihan berbeda\n",
    "<br><br> _citation for this page: \"Adi Widyantoro, 2021, Pertamina Seismic QI Course, Latihan-3b Elastic Logs Review (Vp-Rho).ipynb, accessed MM DD, YYYY.\"_  \n",
    "<br>\n",
    ">(update terakhir tanggal 1 Juli 2021 oleh Adi Widyantoro)\n",
    "<hr>"
   ]
  },
  {
   "cell_type": "markdown",
   "id": "5404d584",
   "metadata": {},
   "source": [
    "__Tahap-1__ \n",
    "<br> Tetap menggunakan pre-built libraries dasar seperti numpy, matplotlib dan pandas. Sehingga kita tidak perlu membuat semua fungsi yang kita perlukan dari awal/scratch\n",
    "<br> \n",
    "        \n",
    "        special notes_: brugeslibrary adalah kumpulan pre-defined functions oleh Agile Geoscience bruges:\n",
    "        https://github.com/agile-geoscience/bruges\n",
    "        \n",
    "        The bruges library's credits go to contributors: Evan Bianco, Ben Bougher, Matt Hall, Alessandro Amato del Monte, \n",
    "        Wes Hamlyn, Sean Ross-Ross"
   ]
  },
  {
   "cell_type": "code",
   "execution_count": null,
   "id": "109aafac",
   "metadata": {},
   "outputs": [],
   "source": [
    "%matplotlib inline\n",
    "%config InlineBackend.figure_format = 'png'\n",
    "import numpy as np\n",
    "import matplotlib.pyplot as plt\n",
    "import pandas as pd\n",
    "import math\n",
    "from scipy.optimize import curve_fit\n",
    "from scipy.stats import linregress\n",
    "from f03elastic import elastic_sect, linerbackus\n",
    "from brugeslibrary import backus, moving_average, moving_avg_fft\n",
    "import matplotlib.colors as colors"
   ]
  },
  {
   "cell_type": "markdown",
   "id": "8c93a0d6",
   "metadata": {},
   "source": [
    "__Tahap-2__\n",
    "<br>Sama dengan Latihan-2, menggunakan file lokal atau yang tersimpan online untuk analisis. File path untuk lokal perlu diperhatikan dan diperbaiki jika perlu, menggunakan full path e.g. \"C:/Users/Guest/Documents/python/well02logs.csv\". Kemudian fungsi selanjutnya melakukan modifikasi header, pengaturan kolom, dan operasi lain, jika memang diperlukan agar mudah dibaca sebagai input analisis berikutnya. Menambahkan marker dari tabel untuk pembuatan zonasi. Karena jumlahnya yang sedikit, maka penambahan marker dapat juga menggunakan array secara manual\n",
    "<br><br>_catatan_: library pandas (pd) dapat menggunakan tipe file lain seperti excel dengan command pd.read_excel('well02logs.xlsx'). Kemudian atribut fungsi reading file tersebut dapat dipelajari pada website pandas"
   ]
  },
  {
   "cell_type": "code",
   "execution_count": null,
   "id": "42ba5741",
   "metadata": {
    "scrolled": true
   },
   "outputs": [],
   "source": [
    "# adi2=pd.read_csv('/content/adi02logs.csv') #jika menggunakan google colab' local\n",
    "adi02=pd.read_csv('adi02logs.csv', warn_bad_lines=True, index_col=0)\n",
    "adi02.rename(columns={'Depth_m':'Depth', 'Vp_km/s':'Vp', 'Vs_km/s':'Vs','GammaRay_api':'GR',\n",
    "                      'Density_g/cc':'Rho','Caliper_m':'Cal','Swt_v/v':'Swt','Phit_v/v':'Phit', \n",
    "                      'Vsh_v/v':'Vsh'}, inplace=True)"
   ]
  },
  {
   "cell_type": "code",
   "execution_count": null,
   "id": "a3d9adaa",
   "metadata": {
    "scrolled": false
   },
   "outputs": [],
   "source": [
    "# adi02tops=pd.read_csv('/content/adi02markers.csv') #jika menggunakan google colab' local\n",
    "adi02tops=pd.read_csv('adi02markers.csv')\n",
    "adi02tops.rename(columns={'Tops':'marker','Depth_m':'markerdep'}, inplace=True)\n",
    "marker=np.array(adi02tops['marker'])\n",
    "markerdep=np.array(adi02tops['markerdep'])\n",
    "#print(adi02tops, \" \", sep='\\n')\n",
    "#printmarker=marker.transpose()\n",
    "#printmarkerdep=markerdep.transpose()"
   ]
  },
  {
   "cell_type": "markdown",
   "id": "11050068",
   "metadata": {},
   "source": [
    "Menampilkan elastic logs yang dapat digunakan agar fokus terhadap interval of interest saja"
   ]
  },
  {
   "cell_type": "code",
   "execution_count": null,
   "id": "74ad00a2",
   "metadata": {
    "scrolled": false
   },
   "outputs": [],
   "source": [
    "datawell=adi02\n",
    "top_plot=1650\n",
    "base_plot=1900\n",
    "marker=marker\n",
    "markerdepth=markerdep\n",
    "#elastic_sect(datawell,top_plot,base_plot,marker,markerdepth)"
   ]
  },
  {
   "cell_type": "markdown",
   "id": "70b93cb0",
   "metadata": {},
   "source": [
    "__Tahap-3__"
   ]
  },
  {
   "cell_type": "markdown",
   "id": "2321b398",
   "metadata": {},
   "source": [
    "#### Diskusi khusus : Backus Averaging untuk menghilangkan atau mengurangi spikes dan outliers"
   ]
  },
  {
   "cell_type": "markdown",
   "id": "e853480d",
   "metadata": {},
   "source": [
    "Menggunakan fungsi backus averaging dari bruges library. Catatan dari bruges mengenai fungsi backus, sbb:\n",
    "    \n",
    "    Backus averaging. Using Liner's algorithm (2014):\n",
    "    input:\n",
    "        vp (ndarray): P-wave interval velocity.\n",
    "        vs (ndarray): S-wave interval velocity.\n",
    "        rho (ndarray): Bulk density.\n",
    "        lb (float): The Backus averaging length in m.\n",
    "        dz (float): The depth sample interval in m.\n",
    "    output:\n",
    "        The smoothed logs vp, vs, rho. Useful for computing other elastic parameters at a seismic scale.\n",
    "    Reference:\n",
    "        Liner, C (2014), Long-wave elastic attenuation produced by horizontal layering. \n",
    "        The Leading Edge, June 2014, p 634-638."
   ]
  },
  {
   "cell_type": "code",
   "execution_count": null,
   "id": "6efcf593",
   "metadata": {},
   "outputs": [],
   "source": [
    "logs=adi02\n",
    "z=logs.index\n",
    "vp0=logs.Vp # log original\n",
    "vs0=logs.Vs # log original\n",
    "rho0=logs.Rho # log original\n",
    "length=50\n",
    "sample=10\n",
    "vpba,vsba,rhoba=backus(vp0, vs0, rho0, length, sample) # menjalankan fungsi backus bruges dg penjelasan di atas\n",
    "vpfilt=np.zeros(np.shape(vp0))\n",
    "vsfilt=np.zeros(np.shape(vs0))\n",
    "rhofilt=np.zeros(np.shape(rho0))\n",
    "logs['Vpfilt']=np.round(vpba,2); logs['Vsfilt']=np.round(vsba,2); logs['Rhofilt']=np.round(rhoba,2)\n",
    "#with pd.option_context('expand_frame_repr', False):\n",
    "#    print(logs.head(2))\n",
    "#exec(open('f03plotbackus.py').read())"
   ]
  },
  {
   "cell_type": "markdown",
   "id": "d8e02d3f",
   "metadata": {},
   "source": [
    "contoh penerapan Moving Average dan Moving Average with FFT dari bruges library yang sama"
   ]
  },
  {
   "cell_type": "code",
   "execution_count": null,
   "id": "51fda208",
   "metadata": {},
   "outputs": [],
   "source": [
    "length=10\n",
    "vpmv=moving_average(vp0,length,mode=\"same\")\n",
    "vpmvfft=moving_avg_fft(vp0, length)\n",
    "#exec(open('f03plotmvavg.py').read())"
   ]
  },
  {
   "cell_type": "markdown",
   "id": "1a37ad7d",
   "metadata": {},
   "source": [
    "__Tahap-4__\n",
    "<br>\n",
    "Membuat zonasi litofasies, berdasarkan marker, cutoff vsh, porositas, saturasi. Misalnya:<br>\n",
    "\n",
    "\n",
    "    sh shales 1\n",
    "    sd sand   2"
   ]
  },
  {
   "cell_type": "code",
   "execution_count": null,
   "id": "4f5e8efc",
   "metadata": {},
   "outputs": [],
   "source": [
    "pd.options.mode.chained_assignment = None\n",
    "top_plot=1650\n",
    "base_plot=1800\n",
    "worklogs=logs[(logs.index >= top_plot) & (logs.index <= base_plot)]\n",
    "sand=0.3; shale=0.7\n",
    "sh=((worklogs.Vsh >= shale)); sd=((worklogs.Vsh <= sand))\n",
    "ssflag=np.zeros(np.shape(worklogs.Vsh))\n",
    "ssflag[sd.values]=1\n",
    "ssflag[sh.values]=2\n",
    "worklogs['ssfac']=ssflag\n",
    "worklogs['AI']=round((worklogs.Vp*worklogs.Rho),2)\n",
    "worklogs['SI']=round((worklogs.Vs*worklogs.Rho),2)\n",
    "worklogs['VpVs']=round((worklogs.Vp/worklogs.Vs),2)\n",
    "AIfilt=np.zeros(np.shape(worklogs.Vpfilt))\n",
    "SIfilt=np.zeros(np.shape(worklogs.Vpfilt))\n",
    "VpVsfilt=np.zeros(np.shape(worklogs.Vpfilt))\n",
    "worklogs['AIfilt']=round((worklogs.Vpfilt*worklogs.Rhofilt),2)\n",
    "worklogs['SIfilt']=round((worklogs.Vsfilt*worklogs.Rhofilt),2)\n",
    "worklogs['VpVsfilt']=round((worklogs.Vpfilt/worklogs.Vsfilt),2)\n",
    "#with pd.option_context('expand_frame_repr', False):\n",
    "#    print(worklogs.head(2));"
   ]
  },
  {
   "cell_type": "code",
   "execution_count": null,
   "id": "754cf6e6",
   "metadata": {
    "scrolled": false
   },
   "outputs": [],
   "source": [
    "warna = ['yellow','olive']\n",
    "skala_fasies=colors.ListedColormap(warna[0:len(warna)], 'indexed')\n",
    "f, ax = plt.subplots(nrows=1, ncols=2, figsize=(14, 6))\n",
    "ax[0].scatter(worklogs.Vp,worklogs.Rho,80,worklogs.ssfac,marker='o',\n",
    "              edgecolors='k',alpha=1,cmap=skala_fasies,vmin=1,vmax=2)\n",
    "ax[1].scatter(worklogs.Vpfilt,worklogs.Rhofilt,80,worklogs.ssfac,marker='o',\n",
    "              edgecolors='k',alpha=1,cmap=skala_fasies,vmin=1,vmax=2)\n",
    "ax[0].set_title('Vp-Rho raw', size=20)\n",
    "ax[1].set_title('Vp-Rho backus filtered', size=20)\n",
    "vp1=0.9*worklogs.Vp.min(); vp2=1.1*worklogs.Vp.max()\n",
    "rho1=0.95*worklogs.Rho.min(); rho2=1.05*worklogs.Rho.max()\n",
    "for aa in ax: \n",
    "    aa.grid(color='grey', linestyle=':')\n",
    "    aa.set_xlim(vp1,vp2); aa.set_ylim(rho1,rho2)\n",
    "    aa.set_xlabel('Vp', size=16); aa.set_ylabel('Rho', size=16);"
   ]
  },
  {
   "cell_type": "markdown",
   "id": "2ff579c2",
   "metadata": {},
   "source": [
    "## Gardner Vp-Rho (Acoustic Logs)"
   ]
  },
  {
   "cell_type": "markdown",
   "id": "f4ba6783",
   "metadata": {},
   "source": [
    "__Tahap-4__\n",
    "<br> Hubungan empiris Power Law Gardner(1974) Vp-Rho menjelaskan hubungan rata-rata untuk banyak tipe litologi:\n",
    "<br>Power Law: $ \\rho = a \\cdot V_p^b $\n",
    "<br>Polynomial: $ \\rho = a \\cdot V_p^2 + b \\cdot V_p + c $\n",
    "<br>Ref: _(The Rock Physics Handbook, 2nd ed., p 380-381)_\n",
    "\n",
    "Power Law (Vp.km/s dan Rho.g/cc) |\n",
    "----------|\n",
    "\n",
    "|Litho     |a    |b     |\n",
    "|:-        |---: |:-:   |\n",
    "|rata-rata |1.741|0.250 |\n",
    "|shale     |1.75 |0.265 |\n",
    "|sandstone |1.66 |0.261 |\n",
    "|limestone |1.36 |0.386 |\n",
    "|dolomite  |1.74 |0.252 |\n",
    "\n",
    "\n",
    "Polynomial (Vp.km/s dan Rho.g/cc)|\n",
    "-----------|\n",
    "\n",
    "|Litho     |a    |b     |c   |\n",
    "|:-        |---- |----: |:--:|\n",
    "|shale     |-0.0261 |0.373 |1.458|\n",
    "|sandstone |-0.0115 |0.261 |1.515|\n",
    "|limestone |-0.0296 |0.461 |0.963|\n",
    "|dolomite  |-0.0235 |0.390 |1.242|\n",
    "\n",
    "\n",
    "\n"
   ]
  },
  {
   "cell_type": "code",
   "execution_count": null,
   "id": "733c3f47",
   "metadata": {},
   "outputs": [],
   "source": [
    "vpref=worklogs.Vpfilt\n",
    "rhoref=worklogs.Rhofilt\n",
    "litho=worklogs.ssfac\n",
    "shale=[1.75,0.265]\n",
    "sand=[1.66,0.261]\n",
    "vpGshale=np.linspace(1, 6, 50)\n",
    "rhoGshale=shale[0]*vpGshale**shale[1]\n",
    "rhoGsand=sand[0]*vpGshale**sand[1]\n",
    "# QC plot original fit\n",
    "f, ax = plt.subplots(nrows=1, figsize=(8,6))\n",
    "ax.scatter(vpref,rhoref,80,litho,marker='o', edgecolors='none',alpha=0.5,cmap=skala_fasies,vmin=1,vmax=2)\n",
    "ax.plot(vpGshale,rhoGshale,'darkgreen', lw=4, label=\"Gardner shale\"); \n",
    "ax.plot(vpGshale,rhoGsand,'orange', lw=4, label=\"Gardner sand\"); \n",
    "ax.legend(loc=\"lower right\", frameon=False)\n",
    "ax.set_title('Gardner Power Law', size=20)\n",
    "ax.text(3.5,1.9,'Gardner Shale a=1.75, b=0.265',color='k', size=12);\n",
    "ax.text(3.5,1.8,'Gardner Sand a=1.66, b=0.261',color='k', size=12);\n",
    "vp1=0.95*vpref.min(); vp2=1.05*vpref.max()\n",
    "rho1=0.95*rhoref.min(); rho2=1.05*rhoref.max()\n",
    "ax.grid(color='grey', linestyle=':');\n",
    "ax.set_xlim(vp1,vp2); ax.set_ylim(rho1,rho2)\n",
    "ax.set_xlabel('Vp', size=16); ax.set_ylabel('Rho', size=16);"
   ]
  },
  {
   "cell_type": "code",
   "execution_count": null,
   "id": "814c4ffc",
   "metadata": {},
   "outputs": [],
   "source": [
    "newshale=[1.92,0.215]\n",
    "newsand=[1.63,0.296]\n",
    "vpGshale=np.linspace(1, 6, 50)\n",
    "newrhoGshale=newshale[0]*vpGshale**newshale[1]\n",
    "newrhoGsand=newsand[0]*vpGshale**newsand[1]\n",
    "# QC plot new fits\n",
    "f, ax = plt.subplots(nrows=1, figsize=(8, 6))\n",
    "ax.scatter(vpref,rhoref,80,litho,marker='o', edgecolors='none',alpha=0.5,cmap=skala_fasies,vmin=1,vmax=2)\n",
    "ax.plot(vpGshale,newrhoGshale,'darkgreen', linestyle='dashed', lw=4, label=\"Fitting shale\")\n",
    "ax.plot(vpGshale,newrhoGsand,'orange', linestyle='dashed', lw=4, label=\"Fitting sand\")\n",
    "ax.legend(loc=\"lower right\", frameon=False)\n",
    "ax.set_title('Gardner Power Law', size=20)\n",
    "labelsh=f\"Shale fit a={newshale[0]:.2f}, b={newshale[1]:.2f}\"\n",
    "labelsd=f\"Sand fit a={newsand[0]:.2f}, b={newsand[1]:.2f}\"\n",
    "ax.text(3.5,1.9,labelsh,color='k', size=12);\n",
    "ax.text(3.5,1.8,labelsd,color='k', size=12);\n",
    "vp1=0.95*vpref.min(); vp2=1.05*vpref.max()\n",
    "rho1=0.95*rhoref.min(); rho2=1.05*rhoref.max()\n",
    "ax.grid(color='grey', linestyle=':')\n",
    "ax.set_xlim(vp1,vp2); ax.set_ylim(rho1,rho2)\n",
    "ax.set_xlabel('Vp', size=16); ax.set_ylabel('Rho', size=16);"
   ]
  },
  {
   "cell_type": "markdown",
   "id": "b9675400",
   "metadata": {},
   "source": [
    "Visual fitting with varying a and b"
   ]
  },
  {
   "cell_type": "code",
   "execution_count": null,
   "id": "31a47b00",
   "metadata": {},
   "outputs": [],
   "source": [
    "def gard(vp, a, b):\n",
    "    rho = a*vp**b\n",
    "    return rho\n",
    "ashale=np.linspace(1.6,1.9,6)\n",
    "asand=np.linspace(0.12,0.32,6)\n",
    "vp=np.linspace(1, 6, 50)\n",
    "f, ax = plt.subplots(nrows=1, ncols=2, figsize=(14,6))\n",
    "for i in ashale:\n",
    "    rhoi = gard(vp,i,0.265)\n",
    "    ax1=ax[0]\n",
    "    ax1.plot(vp, rhoi, '-k', linestyle='dashed', \n",
    "            lw=2, label='{:.2f}'.format(i), alpha=i-1)\n",
    "    ax1.scatter(vpref,rhoref,80,litho, marker='o', \n",
    "               edgecolors='none',alpha=0.5,cmap=skala_fasies,vmin=1,vmax=2)\n",
    "    ax1.set_xlim(vp1,vp2); ax1.set_ylim(rho1,rho2)\n",
    "    ax1.legend(loc=\"lower right\", frameon=False)\n",
    "    ax1.set_xlabel('Vp')\n",
    "    ax1.set_ylabel('Rho')\n",
    "ax1.set_title('Fitting Gardner a');\n",
    "for j in asand:\n",
    "    rhoj = gard(vp,1.9,j)\n",
    "    ax2=ax[1]\n",
    "    ax2.plot(vp, rhoj, '-k', linestyle='dashed', \n",
    "            lw=2, label='{:.2f}'.format(j), alpha=j+0.4)\n",
    "    ax2.scatter(vpref,rhoref,80,litho, marker='o', \n",
    "               edgecolors='none', alpha=0.5,cmap=skala_fasies,vmin=1,vmax=2)\n",
    "    ax2.set_xlim(vp1,vp2); ax2.set_ylim(rho1,rho2)\n",
    "    ax2.legend(loc=\"lower right\", frameon=False)\n",
    "    ax2.set_xlabel('Vp')\n",
    "    ax2.set_ylabel('Rho')\n",
    "ax2.set_title('Fitting Gardner b');"
   ]
  },
  {
   "cell_type": "markdown",
   "id": "1a10538d",
   "metadata": {},
   "source": [
    "Curve fitting Power Law Gardner dan Polynomial Gardner (Numpy, non ML)"
   ]
  },
  {
   "cell_type": "code",
   "execution_count": null,
   "id": "d0501a1b",
   "metadata": {},
   "outputs": [],
   "source": [
    "df=worklogs\n",
    "dfsh=df.loc[df['ssfac'] == 2]; dfsd=df.loc[df['ssfac'] == 1]\n",
    "dfsh.head(5); #remove semicolon"
   ]
  },
  {
   "cell_type": "code",
   "execution_count": null,
   "id": "5aa8a7c3",
   "metadata": {},
   "outputs": [],
   "source": [
    "Vpsh1=dfsh['Vpfilt']; Rhosh1=dfsh['Rhofilt']\n",
    "Vpsd1=dfsd['Vpfilt']; Rhosd1=dfsd['Rhofilt']\n",
    "def powgardner(vp, a, b):\n",
    "    return (a*(vp**b))\n",
    "#shale power law fitting\n",
    "ash1, pcov = curve_fit(powgardner,Vpsh1,Rhosh1)\n",
    "a1_sh=ash1[0].round(2); b1_sh=ash1[1].round(2)\n",
    "rhoshgard1=a1_sh*(vpGshale**b1_sh)\n",
    "#sand power law fitting\n",
    "asd1, pcov = curve_fit(powgardner,Vpsd1,Rhosd1)\n",
    "a1_sd=asd1[0].round(2); b1_sd=asd1[1].round(2)\n",
    "rhosdgard1=a1_sd*(vpGshale**b1_sd)\n",
    "fig, axs = plt.subplots(ncols=2, figsize=(8, 4), sharey=True)\n",
    "for bb in axs:\n",
    "    bb.set_xticks([])\n",
    "    bb.grid(color='grey', linestyle=':')\n",
    "ax11 = axs[0].twiny(); ax11.plot(Vpsh1, Rhosh1, 'go')\n",
    "ax11.set_title('Shale Fit', size=12)\n",
    "ax12 = axs[0].twiny(); ax12.plot(vpGshale, rhoshgard1,'darkgreen', lw=2)\n",
    "ax21 = axs[1].twiny(); ax21.plot(Vpsd1, Rhosd1, 'yo')\n",
    "ax21.set_title('Sand Fit', size=12)\n",
    "ax22 = axs[1].twiny(); ax22.plot(vpGshale, rhosdgard1,'orange', lw=2)\n",
    "for cc in [ax12, ax22]:\n",
    "    cc.xaxis.set_ticklabels([])\n",
    "autosh=f\"Shale curve fit a={a1_sh:.2f}, b={b1_sh:.2f}\"\n",
    "autosd=f\"Sand curve fit a={a1_sd:.2f}, b={b1_sd:.2f}\"\n",
    "plt.text(8,3,autosh,color='k', size=14);\n",
    "plt.text(8,2.8,autosd,color='k', size=14);\n",
    "plt.show()\n",
    "#print(f'  |  a_sh:{a1_sh:.2f}',f'b_sh:{b1_sh:.2f}', f'a_sd:{a1_sd:.2f}',f'b_sd:{b1_sd:.2f}  |  ', sep=\"  |  \")"
   ]
  },
  {
   "cell_type": "code",
   "execution_count": null,
   "id": "8e4bd2d4",
   "metadata": {},
   "outputs": [],
   "source": [
    "from numpy.polynomial import polynomial as P\n",
    "Vpsh1=dfsh['Vpfilt']; Rhosh1=dfsh['Rhofilt']\n",
    "Vpsd1=dfsd['Vpfilt']; Rhosd1=dfsd['Rhofilt']\n",
    "#poly fitting numpy format: p(x)=c0 + c1.X + c2.X**2...cn.X**n\n",
    "testcoeff, stats = P.polyfit(Vpsh1,Rhosh1,2,full=True)\n",
    "print(f'diskusi: menggunakan numpy poly fit masih tidak tepat... :{testcoeff}')"
   ]
  },
  {
   "cell_type": "markdown",
   "id": "3c937590",
   "metadata": {},
   "source": [
    "<h1><center>-Akhir Program Latihan-3b-<center></h1>"
   ]
  }
 ],
 "metadata": {
  "kernelspec": {
   "display_name": "Python 3",
   "language": "python",
   "name": "python3"
  },
  "language_info": {
   "codemirror_mode": {
    "name": "ipython",
    "version": 3
   },
   "file_extension": ".py",
   "mimetype": "text/x-python",
   "name": "python",
   "nbconvert_exporter": "python",
   "pygments_lexer": "ipython3",
   "version": "3.9.5"
  }
 },
 "nbformat": 4,
 "nbformat_minor": 5
}
