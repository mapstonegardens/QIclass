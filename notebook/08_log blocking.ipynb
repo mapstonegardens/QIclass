{
 "cells": [
  {
   "cell_type": "markdown",
   "id": "da77ddeb",
   "metadata": {},
   "source": [
    "# Latihan-8 Blocking Logs"
   ]
  },
  {
   "cell_type": "markdown",
   "id": "491bb797",
   "metadata": {},
   "source": [
    "Latihan ini untuk pembuatan zonasi dan latihan pembuatan blok log elastik yang dapat digunakan untuk input pemodelan half space dan 1D\n",
    "<br><br> _citation for this page: \"Adi Widyantoro, 2021, Pertamina Seismic QI Course, Latihan-8 Blocking Logs.ipynb, accessed MM DD, YYYY.\"_  \n",
    "<br>\n",
    ">(update terakhir tanggal 1 Juli 2021 oleh Adi Widyantoro)\n",
    "<hr>"
   ]
  },
  {
   "cell_type": "markdown",
   "id": "5404d584",
   "metadata": {},
   "source": [
    "__Tahap-1__ \n",
    "<br> Program setup dan display sama seperti latihan sebelumnya. Lihat Latihan-1 dan Latihan-2"
   ]
  },
  {
   "cell_type": "code",
   "execution_count": null,
   "id": "109aafac",
   "metadata": {},
   "outputs": [],
   "source": [
    "%matplotlib inline\n",
    "%config InlineBackend.figure_format = 'png'\n",
    "import numpy as np\n",
    "import matplotlib.pyplot as plt\n",
    "import pandas as pd\n",
    "from matplotlib import cm\n",
    "# adi2=pd.read_csv('/content/adi02logs.csv') #jika menggunakan google colab' local\n",
    "adi02=pd.read_csv('adi02logs.csv', warn_bad_lines=True, index_col=0)\n",
    "adi02.rename(columns={'Depth_m':'Depth', 'Vp_km/s':'Vp', 'Vs_km/s':'Vs','GammaRay_api':'GR',\n",
    "                      'Density_g/cc':'Rho','Caliper_m':'Cal','Swt_v/v':'Swt','Phit_v/v':'Phit', \n",
    "                      'Vsh_v/v':'Vsh'}, inplace=True)\n",
    "# adi02tops=pd.read_csv('/content/adi02markers.csv') #jika menggunakan google colab' local\n",
    "adi02tops=pd.read_csv('adi02markers.csv')\n",
    "adi02tops.rename(columns={'Tops':'marker','Depth_m':'markerdep'}, inplace=True)\n",
    "marker=np.array(adi02tops['marker'])\n",
    "markerdep=np.array(adi02tops['markerdep'])\n",
    "#print(adi02tops)"
   ]
  },
  {
   "cell_type": "code",
   "execution_count": null,
   "id": "37f2122b",
   "metadata": {},
   "outputs": [],
   "source": [
    "pd.options.mode.chained_assignment = None\n",
    "top_plot=1650\n",
    "base_plot=1800\n",
    "logs=adi02[(adi02.index >= top_plot) & (adi02.index <= base_plot)]\n",
    "z=logs.index\n",
    "f, ax = plt.subplots(nrows=1, ncols=4, figsize=(12,6), sharey=True)\n",
    "f.subplots_adjust(top=0.8,wspace=0.1)\n",
    "for axes in ax:\n",
    "    axes.set_ylim(top_plot, base_plot)\n",
    "    axes.invert_yaxis()\n",
    "    axes.yaxis.grid(True)\n",
    "    axes.xaxis.grid(True)\n",
    "    axes.xaxis.set_ticks_position('bottom')\n",
    "    axes.xaxis.set_label_position('top')\n",
    "    axes.grid(True,linestyle=':', color='gray')\n",
    "    for (i,j) in zip(markerdep,marker):\n",
    "        if ((i>=top_plot) and (i<=base_plot)):\n",
    "            axes.axhline(y=i, linewidth=0.5, color='r')\n",
    "            ax[0].text(0.1, i ,j, color='r',size=20)\n",
    "ax[0].plot(logs.Vsh,z,'-k')\n",
    "ax[0].set_xlabel('Vsh',size=16), ax[0].set_xlim(0,1)\n",
    "ax[0].set_ylim(base_plot,top_plot)\n",
    "ax[0].set_ylabel('Depth', color='k', size=20)\n",
    "ax[0].fill_betweenx(z,logs.Vsh,logs.Vsh.max(), facecolor='k', alpha=0.2)\n",
    "ax[1].plot(logs.Vp,z,'-k')\n",
    "ax[1].set_xlabel('Vp',size=16), ax[1].set_xlim(2,4.5)\n",
    "ax[1].fill_betweenx(z,logs.Vp,logs.Vp.max(), facecolor='k', alpha=0.2)\n",
    "ax[2].plot(logs.Vs,z,'k')\n",
    "ax[2].set_xlabel('Vs',size=16),  ax[2].set_xlim(0.5,3.5)\n",
    "ax[2].fill_betweenx(z,logs.Vs,logs.Vs.max(), facecolor='k', alpha=0.2)\n",
    "ax[3].plot(logs.Rho,z,'-k')\n",
    "ax[3].set_xlabel('Rho',size=16)\n",
    "ax[3].fill_betweenx(z,logs.Rho,logs.Rho.max(), facecolor='k', alpha=0.2)\n",
    "f.tight_layout() "
   ]
  },
  {
   "cell_type": "markdown",
   "id": "11050068",
   "metadata": {},
   "source": [
    "__Tahap-2__\n",
    "<br>\n",
    "Tujuan melakukan log blocking untuk mendapatkan representasi interval average di antara zonasi yang diinginkan sehingga dapat digunakan untuk melakukan half space model, mempermudah melakukan analisis pemodelan substitusi atau perturbasi, atau untuk mengurangi jumlah interfaces jika melakukan wellties atau membuat synthetic seismogram atau fullwave forward modeling. Catatan: ideal log blocking untuk welties dan fullwave modeling yang masih mempertahankan nilai moduli keseluruhan interval secara umum, adalah menggunakan backus averaging"
   ]
  },
  {
   "cell_type": "markdown",
   "id": "4a9b2951",
   "metadata": {},
   "source": [
    "Tentukan top interval blok maksimum sejumlah 4 tops dalam depth(meter). Top plot dan Base plot picks secara otomatis diikutsertakan dalam perhitungan bloking. Diskusikan dengan instruktur untuk latihan mendapatkan interval yang berbeda-beda"
   ]
  },
  {
   "cell_type": "code",
   "execution_count": null,
   "id": "99a5cb31",
   "metadata": {
    "scrolled": true
   },
   "outputs": [],
   "source": [
    "pick1=1680\n",
    "pick2=1720\n",
    "pick3=1740\n",
    "pick4=1770\n",
    "search_window=10"
   ]
  },
  {
   "cell_type": "markdown",
   "id": "0fcd6895",
   "metadata": {},
   "source": [
    "Perhitungan bloking menggunakan file lain di luar halaman ini. Prosesnya secara sederhana menggunakan batasan top picks di atas dan menghitung input Vsh, Vp, Vs, Rho. <br>\n",
    "_catatan_: diskusikan dengan instruktur jika memerlukan perubahan"
   ]
  },
  {
   "cell_type": "code",
   "execution_count": null,
   "id": "c6078aab",
   "metadata": {
    "scrolled": true
   },
   "outputs": [],
   "source": [
    "# exec(open('f08runblocking.py').read())"
   ]
  },
  {
   "cell_type": "markdown",
   "id": "9747ce50",
   "metadata": {},
   "source": [
    "Command line di bawah mengumpulkan log yang telah dilakukan bloking dan menyimpannya sebagai dataset baru agar tidak tumpang tindih dengan yang lama"
   ]
  },
  {
   "cell_type": "code",
   "execution_count": null,
   "id": "090ea943",
   "metadata": {
    "scrolled": false
   },
   "outputs": [],
   "source": [
    "logs_blocked=logs\n",
    "Vp_blk=np.zeros(np.shape(logs_blocked.Vp))\n",
    "Vs_blk=np.zeros(np.shape(logs_blocked.Vs))\n",
    "Rho_blk=np.zeros(np.shape(logs_blocked.Rho))\n",
    "Vsh_blk=np.zeros(np.shape(logs_blocked.Vsh))\n",
    "Phit_blk=np.zeros(np.shape(logs_blocked.Phit))\n",
    "Swt_blk=np.zeros(np.shape(logs_blocked.Swt))\n",
    "Vp_blk=vp_new\n",
    "Vs_blk=vs_new\n",
    "Rho_blk=rho_new\n",
    "Vsh_blk=vsh_new\n",
    "Phit_blk=phit_new\n",
    "Swt_blk=swt_new\n",
    "logs_blocked['Vp_blk']=Vp_blk.round(3)\n",
    "logs_blocked['Vs_blk']=Vs_blk.round(3)\n",
    "logs_blocked['Rho_blk']=Rho_blk.round(3)\n",
    "logs_blocked['Vsh_blk']=Vsh_blk.round(3)\n",
    "logs_blocked['Phit_blk']=Phit_blk.round(3)\n",
    "logs_blocked['Swt_blk']=Swt_blk.round(3)\n",
    "with pd.option_context('expand_frame_repr', False):\n",
    "    print(logs_blocked.head(10))"
   ]
  },
  {
   "cell_type": "markdown",
   "id": "fe643fc6",
   "metadata": {},
   "source": [
    "Dataset baru kemudian ditampilkan sebagai wellsection menggunakan file eksternal untuk dilakukan iterasi pemilihan top interval baru jika diperlukan. Diskusikan dengan instruktur mengenai hasilnya dan proses iterasi"
   ]
  },
  {
   "cell_type": "code",
   "execution_count": null,
   "id": "d2e0bb08",
   "metadata": {},
   "outputs": [],
   "source": [
    "# exec(open('f08qcblocking.py').read())"
   ]
  },
  {
   "cell_type": "markdown",
   "id": "a97acbee",
   "metadata": {},
   "source": [
    "__Tahap-3__ \n",
    "<br>Dataset baru dapat disimpan agar latihan pemodelan berikutnya tidak perlu mengulangi keseluruhan proses di atas"
   ]
  },
  {
   "cell_type": "code",
   "execution_count": null,
   "id": "a35b3feb",
   "metadata": {},
   "outputs": [],
   "source": [
    "log_new={'Depth':zlb, 'Vp_blk': lb.Vp_blk, 'Vs_blk': lb.Vs_blk, 'Rho_blk': lb.Rho_blk, 'Vsh_blk': lb.Vsh_blk}\n",
    "data_out=pd.DataFrame(data=log_new)\n",
    "with pd.option_context('expand_frame_repr', False):\n",
    "    print(data_out.head(10))\n",
    "#data_out.to_csv('C:/Users/HP/Documents/python/01_pheclass/adi02block.csv', index=False)"
   ]
  },
  {
   "cell_type": "markdown",
   "id": "4ae14016",
   "metadata": {},
   "source": [
    "<h1><center>-Akhir Program Latihan-8-<center></h1>"
   ]
  }
 ],
 "metadata": {
  "kernelspec": {
   "display_name": "Python 3",
   "language": "python",
   "name": "python3"
  },
  "language_info": {
   "codemirror_mode": {
    "name": "ipython",
    "version": 3
   },
   "file_extension": ".py",
   "mimetype": "text/x-python",
   "name": "python",
   "nbconvert_exporter": "python",
   "pygments_lexer": "ipython3",
   "version": "3.9.5"
  }
 },
 "nbformat": 4,
 "nbformat_minor": 5
}
