{
 "cells": [
  {
   "cell_type": "markdown",
   "id": "49d3df2b",
   "metadata": {},
   "source": [
    "# 00 Reading and visualize adi02wells.csv"
   ]
  },
  {
   "cell_type": "code",
   "execution_count": null,
   "id": "4343cfe6",
   "metadata": {},
   "outputs": [],
   "source": [
    "#pip install -r requirements.txt"
   ]
  },
  {
   "cell_type": "markdown",
   "id": "e98cf80d",
   "metadata": {},
   "source": [
    ">Halaman ini untuk testing memanggil dataset yang akan digunakan untuk latihan-latihan selanjutnya. Diskusikan dengan intruktur jika mengalami kesulitan atan tampilan di layar tidak muncul seperti pada gambar yang ditunjukkan oleh instruktur"
   ]
  },
  {
   "cell_type": "code",
   "execution_count": null,
   "id": "68ced7e5",
   "metadata": {},
   "outputs": [],
   "source": [
    "%matplotlib inline\n",
    "%config InlineBackend.figure_format = 'svg'\n",
    "import numpy as np\n",
    "import matplotlib.pyplot as plt\n",
    "import pandas as pd\n",
    "import matplotlib as mpl\n",
    "adi2=pd.read_csv('adi02logs.csv')\n",
    "adi2.rename(columns={'Depth_m':'Depth', 'Vp_km/s':'Vp', 'Vs_km/s':'Vs','GammaRay_api':'GR',\n",
    "                      'Density_g/cc':'Rho','Caliper_m':'Cal','Swt_v/v':'Swt','Phit_v/v':'Phit', \n",
    "                      'Vsh_v/v':'Vsh'}, inplace=True)\n",
    "#quick look plot log elastik\n",
    "mpl.style.use('seaborn')\n",
    "z=adi2.Depth\n",
    "vsh = adi2.Vsh\n",
    "vp = adi2.Vp\n",
    "vs = adi2.Vs\n",
    "rho = adi2.Rho\n",
    "ai = vp*rho\n",
    "vpvs = vp/vs\n",
    "fig, (ax1, ax2, ax3, ax4, ax5, ax6) = plt.subplots(1,6, figsize=(16,8), sharey=True, dpi=100) \n",
    "ax1.plot(vsh, z, 'C0'), ax1.set_xlabel('Vsh', size=20);\n",
    "ax2.plot(vp, z, 'C1'), ax2.set_xlabel('Vp', size=20);\n",
    "ax3.plot(vs, z, 'C2'), ax3.set_xlabel('Vs', size=20);\n",
    "ax4.plot(rho, z, 'C3'), ax4.set_xlabel('Rho', size=20);\n",
    "ax5.plot(ai, z,'C4'), ax5.set_xlabel('AI', size=20);\n",
    "ax6.plot(vpvs, z, 'C5'), ax6.set_xlabel('Vp/Vs', size=20);\n",
    "for axes in (ax1, ax2, ax3, ax4, ax5, ax6):\n",
    "    axes.invert_yaxis()\n",
    "    axes.xaxis.set_ticks_position('top')\n",
    "    axes.xaxis.set_label_position('top')\n",
    "fig.tight_layout()"
   ]
  },
  {
   "cell_type": "code",
   "execution_count": null,
   "id": "e19b1014",
   "metadata": {},
   "outputs": [],
   "source": []
  }
 ],
 "metadata": {
  "kernelspec": {
   "display_name": "Python 3",
   "language": "python",
   "name": "python3"
  },
  "language_info": {
   "codemirror_mode": {
    "name": "ipython",
    "version": 3
   },
   "file_extension": ".py",
   "mimetype": "text/x-python",
   "name": "python",
   "nbconvert_exporter": "python",
   "pygments_lexer": "ipython3",
   "version": "3.9.5"
  }
 },
 "nbformat": 4,
 "nbformat_minor": 5
}
