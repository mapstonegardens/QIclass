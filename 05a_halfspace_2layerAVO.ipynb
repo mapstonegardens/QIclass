{
 "cells": [
  {
   "cell_type": "markdown",
   "id": "04355d85",
   "metadata": {},
   "source": [
    "# Latihan-5a Half Space 2-Layer AVO Variations"
   ]
  },
  {
   "cell_type": "markdown",
   "id": "60e249c2",
   "metadata": {},
   "source": [
    "Latihan ini untuk pemodelan half space atau disebut juga blocky model, atau interface model yang terdiri dari 2-3 block layers digunakan untuk menganalisis respon amplitudo terhadap interface antara top dan bottom layers\n",
    "<br><br> _citation for this page: \"Adi Widyantoro, 2021, Pertamina Seismic QI Course, Latihan-5a Half Space 2-Layer AVO Variations.ipynb, accessed MM DD, YYYY.\"_  \n",
    "<br>\n",
    ">(update terakhir tanggal 1 Juli 2021 oleh Adi Widyantoro)\n",
    "<hr>"
   ]
  },
  {
   "cell_type": "markdown",
   "id": "f104f7b6",
   "metadata": {},
   "source": [
    "__Tahap-1__ \n",
    "<br> Program setup dan display sama seperti latihan sebelumnya. Gunakan hasil dari Latihan-2 data untuk latihan selanjutnya\n",
    "<br> \n",
    "\n",
    "        special notes: brugeslibrary adalah kumpulan pre-defined functions oleh Agile Geoscience bruges:\n",
    "        https://github.com/agile-geoscience/bruges\n",
    "        \n",
    "        the library's credits go to bruges contributors: Evan Bianco, Ben Bougher, Matt Hall, Alessandro Amato del Monte, \n",
    "        Wes Hamlyn, Sean Ross-Ross"
   ]
  },
  {
   "cell_type": "code",
   "execution_count": null,
   "id": "4557b311",
   "metadata": {
    "scrolled": true
   },
   "outputs": [],
   "source": [
    "%matplotlib inline\n",
    "%config InlineBackend.figure_format = 'png'\n",
    "import numpy as np\n",
    "import matplotlib.pyplot as plt\n",
    "import matplotlib as mpl\n",
    "import pandas as pd\n",
    "import math\n",
    "from matplotlib import cm\n",
    "from brugeslibrary import shuey, akirichards\n",
    "from f05avostyleplot import avoplot1, avoplot2, avoplot3"
   ]
  },
  {
   "cell_type": "markdown",
   "id": "dce34de5",
   "metadata": {},
   "source": [
    "__Tahap-2__ \n",
    "<br> Mendapatkan nilai rata-rata untuk masing-masing interval<br>\n",
    "data dari Latihan-2 sebelumnya adalah sbb:"
   ]
  },
  {
   "cell_type": "code",
   "execution_count": null,
   "id": "84e9fc3c",
   "metadata": {},
   "outputs": [],
   "source": [
    "oil_min = np.array([2.77,1.39,2.11])\n",
    "ssd_min = np.array([2.24,0.98,1.38])\n",
    "sh_min = np.array([2.31,1.05,1.82])\n",
    "brine_min = np.array([2.76,1.45,1.96])\n",
    "coal_min = np.array([2.26,0.90,1.23])"
   ]
  },
  {
   "cell_type": "code",
   "execution_count": null,
   "id": "267fd7cf",
   "metadata": {},
   "outputs": [],
   "source": [
    "oil_max = np.array([4.09,2.36,2.47])\n",
    "ssd_max = np.array([4.49,3.19,2.73])\n",
    "sh_max = np.array([4.05,2.84,2.67])\n",
    "brine_max = np.array([4.23,2.61,2.52])\n",
    "coal_max = np.array([2.98,2.51,1.68])"
   ]
  },
  {
   "cell_type": "code",
   "execution_count": null,
   "id": "9dc96895",
   "metadata": {},
   "outputs": [],
   "source": [
    "oil_mean = np.array([3.260,1.860,2.29])\n",
    "ssd_mean = np.array([3.440,1.970,2.37])\n",
    "sh_mean = np.array([3.310,1.730,2.51])\n",
    "brine_mean = np.array([3.500,2.050,2.35])\n",
    "coal_mean = np.array([2.450,1.660,1.37])"
   ]
  },
  {
   "cell_type": "code",
   "execution_count": null,
   "id": "ca71e627",
   "metadata": {},
   "outputs": [],
   "source": [
    "oil_std = np.array([0.28,0.21,0.07])\n",
    "ssd_std = np.array([0.44,0.31,0.29])\n",
    "sh_std = np.array([0.34,0.26,0.12])\n",
    "brine_std = np.array([0.34,0.22,0.10])\n",
    "coal_std = np.array([0.32,0.67,0.13])"
   ]
  },
  {
   "cell_type": "code",
   "execution_count": null,
   "id": "4e10cf78",
   "metadata": {},
   "outputs": [],
   "source": [
    "oil_p50 = np.array([3.31,1.94,2.30])\n",
    "ssd_p50 = np.array([3.54,2.01,2.48])\n",
    "sh_p50 = np.array([3.37,1.74,2.55])\n",
    "brine_p50 = np.array([3.51,2.04,2.36])\n",
    "coal_p50 = np.array([2.37,1.79,1.33])"
   ]
  },
  {
   "cell_type": "markdown",
   "id": "a98f0ff0",
   "metadata": {},
   "source": [
    "__Tahap-3__ \n",
    "<br>Menghitung reflektivitas dengan pendekatan AVO sederhana, e.g.: 2-term Shuey atau Aki Richard. Gunakan salahsatu contoh input di atas dan diskusikan dalam kelas. Gunakan simple zerophase Ricker wavelet seperti pada Latihan-4. Diskusikan di dalam kelas untuk rotasi wavelet"
   ]
  },
  {
   "cell_type": "raw",
   "id": "164b9bfa",
   "metadata": {},
   "source": [
    "Perhitungan reflektivitas menggunakan bruges library sbb:\n",
    "    \n",
    "    func: shuey(vp1, vs1, rho1, vp2, vs2, rho2, theta1=0,terms=False,return_gradient=False)\n",
    "    func: akirichards(vp1, vs1, rho1, vp2, vs2, rho2, theta1=0, terms=False)\n",
    "    \"\"\"\n",
    "    :param vp1: The p-wave velocity of the upper medium.\n",
    "    :param vs1: The s-wave velocity of the upper medium.\n",
    "    :param rho1: The density of the upper medium.\n",
    "    :param vp2: The p-wave velocity of the lower medium.\n",
    "    :param vs2: The s-wave velocity of the lower medium.\n",
    "    :param rho2: The density of the lower medium.\n",
    "    :param theta1: An array of incident angles to use for reflectivity calculation [degrees].\n",
    "    :param terms: boolean. Return reflectivities of the terms: Shuey(term1, term2, term3); AkiRichards(term1, term2, term3)\n",
    "    :param return_gradient: boolean. Return a tuple of any other terms: Shuey(r0, g)\n",
    "    :returns: a vector of len(theta1) containing the reflectivity value corresponding to each angle.\n",
    "    \"\"\"   "
   ]
  },
  {
   "cell_type": "markdown",
   "id": "9251f088",
   "metadata": {},
   "source": [
    "Tentukan properti dari dua lapisan atas dan bawah, serta rentang angles. Note QC nilainya di bawah"
   ]
  },
  {
   "cell_type": "code",
   "execution_count": null,
   "id": "4c6db83b",
   "metadata": {},
   "outputs": [],
   "source": [
    "# Lapisan pertama\n",
    "vp1=sh_max[0]\n",
    "vs1=sh_max[1]\n",
    "rho1=sh_max[2]\n",
    "\n",
    "# Lapisan kedua\n",
    "vp2=ssd_max[0]\n",
    "vs2=ssd_max[1]\n",
    "rho2=ssd_max[2]\n",
    "\n",
    "# sudut data theta dalam deg\n",
    "thetamin=0  # angle minimum\n",
    "thetamax=50 # angle maximum\n",
    "\n",
    "print(vp1,vs1,rho1,vp2,vs2,rho2)"
   ]
  },
  {
   "cell_type": "markdown",
   "id": "5b97f0d1",
   "metadata": {},
   "source": [
    "Pilihan pemodelan AVO menggunakan Shuey atau Aki-Richard. Kemudian gunakan variasi tampilan AVO display menggunakan fungsi avoplot1, avoplot2, avoplot3. Catatan: model sederhana di bawah menggunakan zero phase wavelet, central frequency 20Hz, untuk pemodelan dengan wavelet lain dapat dilakukan dengan mengubah fungsi avoplot nya."
   ]
  },
  {
   "cell_type": "markdown",
   "id": "115eb9f4",
   "metadata": {},
   "source": [
    "### Plot pilihan tampilan fungsi avoplot1 - analisis variasi AI dan Vp/Vs terhadap AVO dan AVO Classes"
   ]
  },
  {
   "cell_type": "code",
   "execution_count": null,
   "id": "88eb41f9",
   "metadata": {
    "scrolled": false
   },
   "outputs": [],
   "source": [
    "avoplot1(vp1,vs1,rho1,vp2,vs2,rho2,thetamin,thetamax, opt=\"shuey\") #opt=\"shuey\" for Shuey, \"aki\" for Aki-Richard"
   ]
  },
  {
   "cell_type": "markdown",
   "id": "73adad5b",
   "metadata": {},
   "source": [
    "### Plot pilihan tampilan fungsi avoplot2 - analisis variasi AI dan Vp/Vs terhadap AVO dan IG Plot (Shuey)"
   ]
  },
  {
   "cell_type": "code",
   "execution_count": null,
   "id": "24ea8482",
   "metadata": {
    "scrolled": false
   },
   "outputs": [],
   "source": [
    "avoplot2(vp1,vs1,rho1,vp2,vs2,rho2,thetamin,thetamax, opt=\"shuey\")  # ONLY opt=\"shuey\" for Intercept - Gradient plot"
   ]
  },
  {
   "cell_type": "markdown",
   "id": "5ec8808f",
   "metadata": {},
   "source": [
    "### Plot pilihan tampilan fungsi avoplot3 - Highlight Partial Stack terutama variasi Near dan Far traces"
   ]
  },
  {
   "cell_type": "code",
   "execution_count": null,
   "id": "e4ea5ab5",
   "metadata": {
    "scrolled": false
   },
   "outputs": [],
   "source": [
    "avoplot3(vp1,vs1,rho1,vp2,vs2,rho2,thetamin,thetamax, opt=\"aki\") #opt=\"shuey\" for Shuey, \"aki\" for Aki-Richard"
   ]
  },
  {
   "cell_type": "markdown",
   "id": "d5b106ae",
   "metadata": {},
   "source": [
    "<h1><center>-Akhir Program Latihan-5a-<center></h1>"
   ]
  }
 ],
 "metadata": {
  "kernelspec": {
   "display_name": "Python 3",
   "language": "python",
   "name": "python3"
  },
  "language_info": {
   "codemirror_mode": {
    "name": "ipython",
    "version": 3
   },
   "file_extension": ".py",
   "mimetype": "text/x-python",
   "name": "python",
   "nbconvert_exporter": "python",
   "pygments_lexer": "ipython3",
   "version": "3.9.5"
  }
 },
 "nbformat": 4,
 "nbformat_minor": 5
}
