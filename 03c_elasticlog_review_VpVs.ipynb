{
 "cells": [
  {
   "cell_type": "markdown",
   "id": "da77ddeb",
   "metadata": {
    "slideshow": {
     "slide_type": "slide"
    }
   },
   "source": [
    "# Latihan-3c Elastic Logs Review (Vp-Vs)"
   ]
  },
  {
   "cell_type": "markdown",
   "id": "f255a347",
   "metadata": {},
   "source": [
    "Latihan ini fokus terhadap review dan modifikasi Vp-Vs menggunakan hubungan empiris dan alurkerja iterasi Greenberg-Castagna. Prediksi Vs dilakukan dalam dua tahap untuk multimineral rocks dengan constituents utama sand-shale (klastik). Diskusi karbonat dapat dilakukan tetapi latihan untuk karbonat lebih lanjut dilakukan pada kelas lain.\n",
    "<br><br> _citation for this page: \"Adi Widyantoro, 2021, Pertamina Seismic QI Course, # Latihan-3c Elastic Logs Review (Vp-Vs).ipynb, accessed MM DD, YYYY.\"_  \n",
    "<br>\n",
    ">(update terakhir tanggal 1 Juli 2021 oleh Adi Widyantoro)\n",
    "<hr>"
   ]
  },
  {
   "cell_type": "markdown",
   "id": "5404d584",
   "metadata": {},
   "source": [
    "__Tahap-1__ \n",
    "<br> Tetap menggunakan pre-built libraries dasar seperti numpy, matplotlib dan pandas. Sehingga kita tidak perlu membuat semua fungsi yang kita perlukan dari awal/scratch\n",
    "<br> \n",
    "        \n",
    "        special notes_: brugeslibrary adalah kumpulan pre-defined functions oleh Agile Geoscience bruges:\n",
    "        https://github.com/agile-geoscience/bruges\n",
    "        \n",
    "        The bruges library's credits go to contributors: Evan Bianco, Ben Bougher, Matt Hall, Alessandro Amato del Monte, \n",
    "        Wes Hamlyn, Sean Ross-Ross"
   ]
  },
  {
   "cell_type": "code",
   "execution_count": null,
   "id": "109aafac",
   "metadata": {},
   "outputs": [],
   "source": [
    "%matplotlib inline\n",
    "%config InlineBackend.figure_format = 'png'\n",
    "import numpy as np\n",
    "import matplotlib.pyplot as plt\n",
    "import pandas as pd\n",
    "import math\n",
    "from scipy.optimize import curve_fit\n",
    "from scipy import stats\n",
    "from scipy.stats import linregress\n",
    "from f03elastic import elastic_sect, linerbackus\n",
    "from brugeslibrary import backus\n",
    "import matplotlib.colors as colors"
   ]
  },
  {
   "cell_type": "markdown",
   "id": "8c93a0d6",
   "metadata": {},
   "source": [
    "__Tahap-2__\n",
    "<br>Sama dengan Latihan-2, menggunakan file lokal atau yang tersimpan online untuk analisis. File path untuk lokal perlu diperhatikan dan diperbaiki jika perlu, menggunakan full path e.g. \"C:/Users/Guest/Documents/python/well02logs.csv\". Kemudian fungsi selanjutnya melakukan modifikasi header, pengaturan kolom, dan operasi lain, jika memang diperlukan agar mudah dibaca sebagai input analisis berikutnya. Menambahkan marker dari tabel untuk pembuatan zonasi. Karena jumlahnya yang sedikit, maka penambahan marker dapat juga menggunakan array secara manual\n",
    "<br><br>_catatan_: library pandas (pd) dapat menggunakan tipe file lain seperti excel dengan command pd.read_excel('well02logs.xlsx'). Kemudian atribut fungsi reading file tersebut dapat dipelajari pada website pandas"
   ]
  },
  {
   "cell_type": "code",
   "execution_count": null,
   "id": "42ba5741",
   "metadata": {
    "scrolled": true
   },
   "outputs": [],
   "source": [
    "# adi2=pd.read_csv('/content/adi02logs.csv') #jika menggunakan google colab' local\n",
    "adi02=pd.read_csv('adi02logs.csv', warn_bad_lines=True, index_col=0)\n",
    "adi02.rename(columns={'Depth_m':'Depth', 'Vp_km/s':'Vp', 'Vs_km/s':'Vs','GammaRay_api':'GR',\n",
    "                      'Density_g/cc':'Rho','Caliper_m':'Cal','Swt_v/v':'Swt','Phit_v/v':'Phit', \n",
    "                      'Vsh_v/v':'Vsh'}, inplace=True)"
   ]
  },
  {
   "cell_type": "code",
   "execution_count": null,
   "id": "a3d9adaa",
   "metadata": {
    "scrolled": false
   },
   "outputs": [],
   "source": [
    "# adi02tops=pd.read_csv('/content/adi02markers.csv') #jika menggunakan google colab' local\n",
    "adi02tops=pd.read_csv('adi02markers.csv')\n",
    "adi02tops.rename(columns={'Tops':'marker','Depth_m':'markerdep'}, inplace=True)\n",
    "marker=np.array(adi02tops['marker'])\n",
    "markerdep=np.array(adi02tops['markerdep'])\n",
    "#print(adi02tops, \" \", sep='\\n')\n",
    "#printmarker=marker.transpose()\n",
    "#printmarkerdep=markerdep.transpose()"
   ]
  },
  {
   "cell_type": "markdown",
   "id": "70b93cb0",
   "metadata": {},
   "source": [
    "__Tahap-3__"
   ]
  },
  {
   "cell_type": "markdown",
   "id": "e853480d",
   "metadata": {},
   "source": [
    "#### Diskusi khusus : Backus Averaging untuk menghilangkan atau mengurangi spikes dan outliers\n",
    "\n",
    "Menggunakan fungsi backus averaging dari bruges library. Catatan dari bruges mengenai fungsi backus, sbb:\n",
    "    \n",
    "    Backus averaging. Using Liner's algorithm (2014):\n",
    "    input:\n",
    "        vp (ndarray): P-wave interval velocity.\n",
    "        vs (ndarray): S-wave interval velocity.\n",
    "        rho (ndarray): Bulk density.\n",
    "        lb (float): The Backus averaging length in m.\n",
    "        dz (float): The depth sample interval in m.\n",
    "    output:\n",
    "        The smoothed logs vp, vs, rho. Useful for computing other elastic parameters at a seismic scale.\n",
    "    Reference:\n",
    "        Liner, C (2014), Long-wave elastic attenuation produced by horizontal layering. \n",
    "        The Leading Edge, June 2014, p 634-638."
   ]
  },
  {
   "cell_type": "code",
   "execution_count": null,
   "id": "6efcf593",
   "metadata": {},
   "outputs": [],
   "source": [
    "logs=adi02\n",
    "z=logs.index\n",
    "vp0=logs.Vp # log original\n",
    "vs0=logs.Vs # log original\n",
    "rho0=logs.Rho # log original\n",
    "length=50\n",
    "sample=10\n",
    "vpba,vsba,rhoba=backus(vp0, vs0, rho0, length, sample) # menjalankan fungsi backus bruges dg penjelasan di atas\n",
    "vpfilt=np.zeros(np.shape(vp0))\n",
    "vsfilt=np.zeros(np.shape(vs0))\n",
    "rhofilt=np.zeros(np.shape(rho0))\n",
    "logs['Vpfilt']=np.round(vpba,2); logs['Vsfilt']=np.round(vsba,2); logs['Rhofilt']=np.round(rhoba,2)\n",
    "#with pd.option_context('expand_frame_repr', False):\n",
    "#    print(logs.head(2))\n",
    "#exec(open('f03plotbackus.py').read())"
   ]
  },
  {
   "cell_type": "markdown",
   "id": "1a28193a",
   "metadata": {},
   "source": [
    "## Greenberg-Castagna Vp-Vs (shear velocity)"
   ]
  },
  {
   "cell_type": "markdown",
   "id": "c80c361b",
   "metadata": {},
   "source": [
    "__Tahap-4__\n",
    "<br> Hubungan empiris Greenberg and Castagna (1992) memberikan hubungan Vp-Vs dalam kerangka multimineral dan brine saturated rocks berdasarkan hubungan polinomial\n",
    "<br>Ref: _(The Rock Physics handbook, 2nd ed., p375)_\n",
    "\n",
    "Untuk pure constituent litologi, hubungan empiris Vs dari Vp (dalam km/s):\n",
    "\n",
    "<font size=4>${V_s} = {a_{i2}}{V_p^2} + {a_{i1}}{V_p} + {a_{i0}}$</font>\n",
    "\n",
    "Untuk campuran litologi, menggunakan kerangka Voigt-Reuss-Hill average (dalam km/s):\n",
    "\n",
    "<font size=4>${V_s} = 0.5 * ( ({\\sum_{i=0}^{L}{X_i}}{\\sum_{j=0}^{N_i}{a_{ij}}{\\alpha_C^j}}) +  ({\\sum_{i=0}^{L}{X_i}}({\\sum_{j=0}^{N_i}{a_{ij}}{\\alpha_C^j}})^{-1})^{-1} )$</font>\n",
    "\n",
    "$X_i$ adalah lithology fraction, dan ${\\sum_{i=0}^{L}{X_i}}=1$\n",
    "\n",
    "\n",
    "|Litho     |ai2  |ai1   |ai0   |\n",
    "|:-        |---- |----: |:--:  |\n",
    "|shale     |0    |0.769 |-0.867|\n",
    "|sandstone |0    |0.804 |-0.855|\n",
    "|limestone |-0.055|1.016|-1.030|\n",
    "|dolomite  |0    |0.583 |-0.077|\n",
    "\n",
    "Hubungan average Vp-Vs dengan tabel empiris di atas (Castagna, 1993) dilakukan dalam konteks batuan berisi fluida brine 100%. Estimasi mixture fluida dilakukan melalui iterasi menggunakan poin Vp,Vs {brine} terhadap insitu mixture melalui iterasi, sbb:\n",
    "1. mulai dengan initial guess Vp{brine_guess} dari Vp{log}\n",
    "2. menghitung Vs{brine} dari Vp{brine_guess} menggunakan regresi empiris di atas\n",
    "3. melakukan substitusi fluida dari pasangan Vp,Vs{brine} menjadi Vp,Vs{fluid} melalui Gassmann\n",
    "4. hasil perhitungan Vs{fluida} dan Vp{log}, gunakan Gassmann untuk menghitung estimasi Vp{brine_new} baru.\n",
    "5. lakukan analisis minimasi error = Vp{brine_new} - Vp{brine_guess}. Kriteria konvergensi adalah error minimum yang dapat ditentukan. Jika kriteria tercapai maka iterasi dihentikan, jika tidak maka kembali ke langkah no.2\n"
   ]
  },
  {
   "cell_type": "markdown",
   "id": "be5f4313",
   "metadata": {},
   "source": [
    "Contoh step-by-step mixture dengan constituent utama klastik: Sand dan Shale. Setiap step dapat didiskusikan dalam kelas\n",
    "<br>\n",
    "\n",
    "    dari sebelumnya telah dibuat 2 litofasies\n",
    "    sh shales 1\n",
    "    sd sand   2\n",
    "    diperlukan br brine 3"
   ]
  },
  {
   "cell_type": "code",
   "execution_count": null,
   "id": "2b8203e4",
   "metadata": {},
   "outputs": [],
   "source": [
    "# reinisialisasi dataframe\n",
    "pd.options.mode.chained_assignment = None\n",
    "top_plot=1650\n",
    "base_plot=1800\n",
    "worklogs=logs[(logs.index >= top_plot) & (logs.index <= base_plot)]\n",
    "shale=0.65; sand=0.45; pay=0.9; phi=0.05; rho=1.8\n",
    "#litho\n",
    "clsd=((worklogs.Vsh <= sand) & (worklogs.Phit >= phi))\n",
    "#clsd=((worklogs.Vsh <= sand) & (worklogs.Rho <= rho))\n",
    "mfssh=((worklogs.Vsh >= shale) & (worklogs.Swt == 1.0))\n",
    "fflag=np.zeros(np.shape(worklogs.Vsh))\n",
    "fflag[mfssh.values]=1\n",
    "fflag[clsd.values]=2\n",
    "#fluid\n",
    "br=((clsd) & (worklogs.Swt == 1.0))\n",
    "oil=((clsd) & (worklogs.Swt <= pay))\n",
    "fflag[br.values]=3\n",
    "fflag[oil.values]=4\n",
    "worklogs['fflag']=fflag\n",
    "dfsh=worklogs.loc[worklogs['fflag'] == 1]\n",
    "dfsd=worklogs.loc[worklogs['fflag'] == 2]\n",
    "dfbr=worklogs.loc[worklogs['fflag'] == 3]\n",
    "dfoil=worklogs.loc[worklogs['fflag'] == 4]\n",
    "dfbr.head(2); #remove semi colon"
   ]
  },
  {
   "cell_type": "code",
   "execution_count": null,
   "id": "5456937e",
   "metadata": {},
   "outputs": [],
   "source": [
    "phiavg=dfoil.Phit.mean().round(3); vshavg=dfoil.Vsh.mean().round(3) #untuk future reference\n",
    "phiavg, vshavg"
   ]
  },
  {
   "cell_type": "markdown",
   "id": "4a36dd95",
   "metadata": {},
   "source": [
    "### Langkah-1 mixture monomineralic sand dan shale menggunakan hubungan polynomial Castagna"
   ]
  },
  {
   "cell_type": "code",
   "execution_count": null,
   "id": "08de478d",
   "metadata": {
    "scrolled": false
   },
   "outputs": [],
   "source": [
    "#--------------------------------------------SHALE FITTING----------------------------------------------------------\n",
    "dff=worklogs; z=dff.index; zsh=dfsh.index\n",
    "vpall=dff['Vpfilt']; vsall=dff['Vsfilt']\n",
    "vpsh=dfsh['Vpfilt']; vssh=dfsh['Vsfilt']\n",
    "def gcsdsh(vp, a1, a0):\n",
    "    return (a1*vp - a0)\n",
    "#castagna coeff\n",
    "a1sh=0.769; a0sh=0.867; a1sd=0.804; a0sd=0.855\n",
    "vs_shgc = np.zeros(np.shape(vpall))\n",
    "vs_shgc = gcsdsh(vpall, a1sh, a0sh)\n",
    "vs_sdgc = np.zeros(np.shape(vpall))\n",
    "vs_sdgc = gcsdsh(vpall, a1sd, a0sd)\n",
    "#------------ data fitting options (no ML)---------------\n",
    "# OPTION-1 curve fitting\n",
    "#a1sh, pcov = curve_fit(gcsdsh,vpsh, vssh)\n",
    "#a1_sh=a1sh[0].round(2); a0_sh=a1sh[1].round(2)\n",
    "#vs_shfit=gcsdsh(vpall, a1_sh, a0_sh)\n",
    "#OPTION-2 poly fitting option with deg=1 or ax+b format\n",
    "#a1_sh, a0_sh = np.polyfit(vpsh, vssh, 1)\n",
    "#vs_shfit=gcsdsh(vpall, a1_sh, a0_sh)\n",
    "#OPTION-3 linear regression scipy\n",
    "linregsh = stats.linregress(vpsh, vssh)\n",
    "a1_sh=linregsh[0]; a0_sh=linregsh[1]\n",
    "vs_shfit=gcsdsh(vpall, a1_sh, a0_sh)\n",
    "#OPTION-4 numpy linear matrix solution for least square\n",
    "#vpsharr = np.vstack([vpsh, np.ones(len(vpsh))]).T\n",
    "#a1_sh, a0_sh = np.linalg.lstsq(vpsharr, vssh, rcond=None)[0]\n",
    "#vs_shfit=gcsdsh(vpall, a1_sh, a0_sh)\n",
    "#--------------------------------------------------------\n",
    "# manual\n",
    "a1shm=0.701; a0shm=0.673\n",
    "vs_shman=gcsdsh(vpall, a1shm, a0shm)\n",
    "# QC plot for shale\n",
    "fig, axs = plt.subplots(ncols=3, figsize=(12, 4), sharey=True)\n",
    "for bb in axs:\n",
    "    bb.set_xticks([]); bb.set_xlabel(\"Vp\", size=14)\n",
    "    bb.grid(color='grey', linestyle=':')\n",
    "    bb.set_ylabel(\"Vs\", size=14)\n",
    "ax11 = axs[0].twiny(); ax11.plot(vpsh, vssh, 'go')\n",
    "ax11.set_title('Castagna coeff', size=12);\n",
    "ax11.set_ylim([1, 2.5]); ax11.set_xlim([2.0, 4.5])\n",
    "ax12 = axs[0].twiny(); ax12.plot(vpall, vs_shgc,'darkgreen', lw=2)\n",
    "ax21 = axs[1].twiny(); ax21.plot(vpsh, vssh, 'go')\n",
    "ax21.set_title('Shale fit', size=12)\n",
    "ax22 = axs[1].twiny(); ax22.plot(vpall, vs_shfit,'red', lw=2)\n",
    "ax31 = axs[2].twiny(); ax31.plot(vpsh, vssh, 'go')\n",
    "ax31.set_title('Manually Adjusted', size=12)\n",
    "ax32 = axs[2].twiny(); ax32.plot(vpall, vs_shman,'red', linestyle=\":\",lw=4)\n",
    "for cc in [ax12, ax22, ax32]:\n",
    "    cc.xaxis.set_ticklabels([])\n",
    "autosh=f\"Curve fit : a1={a1_sh:.3f}, a0={a0_sh:.3f}\"\n",
    "autosd=f\"Manual fit : a1={a1shm:.3f}, a0={a0shm:.3f}\"\n",
    "plt.text(4.6,2.4,autosh,color='k', size=10);\n",
    "plt.text(4.6,2.2,autosd,color='k', size=10);\n",
    "plt.text(4.6,1.4,\"Similar workflow for a1 and a0 sand !\",color='k', size=10);\n",
    "plt.show()"
   ]
  },
  {
   "cell_type": "markdown",
   "id": "b6ae96fd",
   "metadata": {},
   "source": [
    "Sand plot dengan Castagna coefficients"
   ]
  },
  {
   "cell_type": "code",
   "execution_count": null,
   "id": "56ccd3e9",
   "metadata": {},
   "outputs": [],
   "source": [
    "#------------------SAND FITTING----------------------------------------------------------\n",
    "vpbr=dfbr['Vpfilt']; vsbr=dfbr['Vsfilt']\n",
    "vpoil=dfoil['Vpfilt']; vsoil=dfoil['Vsfilt']\n",
    "#------------ data fitting options (no ML)---------------\n",
    "# OPTION-1 curve fitting\n",
    "a1br, pcov = curve_fit(gcsdsh,vpbr, vsbr)\n",
    "a1_br=a1br[0].round(2); a0_br=a1br[1].round(2)\n",
    "vs_brfit=gcsdsh(vpall, a1_br, a0_br)\n",
    "#OPTION-2 poly fitting option with deg=1 or ax+b format\n",
    "#a1_br, a0_br = np.polyfit(vpbr, vsbr, 1)\n",
    "#vs_brfit=gcsdsh(vpall, a1_br, a0_br)\n",
    "#OPTION-3 linear regression scipy\n",
    "#linregbr = stats.linregress(vpbr, vsbr)\n",
    "#a1_br=linregbr[0]; a0_br=linregbr[1]\n",
    "#vs_brfit=gcsdsh(vpall, a1_br, a0_br)\n",
    "#OPTION-4 numpy linear matrix solution for least square\n",
    "#vpbrarr = np.vstack([vpbr, np.ones(len(vpbr))]).T\n",
    "#a1_br, a0_br = np.linalg.lstsq(vpbrarr, vsbr, rcond=None)[0]\n",
    "#vs_brfit=gcsdsh(vpall, a1_br, a0_br)\n",
    "#--------------------------------------------------------\n",
    "# QC plot for sand\n",
    "fig, axs = plt.subplots(ncols=3, figsize=(12, 4), sharey=True)\n",
    "for bb in axs:\n",
    "    bb.set_xticks([]); bb.set_xlabel(\"Vp\", size=14)\n",
    "    bb.grid(color='grey', linestyle=':')\n",
    "    bb.set_ylabel(\"Vs\", size=14)\n",
    "ax11 = axs[0].twiny(); ax11.plot(vpbr, vsbr, 'bo')\n",
    "ax11.set_title('Castagna coeff', size=12)\n",
    "ax11.set_ylim([0.5, 3]); ax11.set_xlim([2.1, 3.1])\n",
    "ax12 = axs[0].twiny(); ax12.plot(vpall, vs_sdgc,'navy', lw=2)\n",
    "ax21 = axs[1].twiny(); ax21.plot(vpbr, vsbr,'bo')\n",
    "ax21.set_title('Sand fit', size=12)\n",
    "ax22 = axs[1].twiny(); ax22.plot(vpall, vs_brfit,'red', lw=2)\n",
    "for cc in [ax12, ax22]:\n",
    "    cc.xaxis.set_ticklabels([])\n",
    "plt.show()"
   ]
  },
  {
   "cell_type": "markdown",
   "id": "3bb5a571",
   "metadata": {},
   "source": [
    "# HOMEWORK"
   ]
  },
  {
   "cell_type": "markdown",
   "id": "1b4d4f78",
   "metadata": {},
   "source": [
    "Latihan dapat dilanjutkan dengan melakukan fitting dan plotting pada data sand points di atas.\n",
    "<br><br> Gunakan pilihan salahsatu cara di bawah atau temukan cara sendiri untuk membatasi interval gassmann, kemudian plot overlay hasilnya dibandingkan dengan gambar di atas,... _good luck !_"
   ]
  },
  {
   "cell_type": "markdown",
   "id": "60629364",
   "metadata": {},
   "source": [
    "#### QC hasil fitting terhadap log"
   ]
  },
  {
   "cell_type": "code",
   "execution_count": null,
   "id": "933a0113",
   "metadata": {},
   "outputs": [],
   "source": [
    "# QC Coefficient Fitting\n",
    "# input\n",
    "dfvs=worklogs\n",
    "vplog = dfvs.Vp.values\n",
    "vslog = dfvs.Vs.values\n",
    "rholog = dfvs.Rho.values\n",
    "vshlog = dfvs.Vsh.values\n",
    "phitlog = dfvs.Phit.values\n",
    "swtlog = dfvs.Swt.values\n",
    "z = dfvs.index.values\n",
    "def vs2litho(vsh, phi, vp, a1sh, a0sh, a1sd, a0sd):\n",
    "    vsd = np.zeros(np.shape(vsh))\n",
    "    vsd = 1 - vsh - phi\n",
    "    shfrac = vsh/(vsh+vsd)\n",
    "    sdfrac  = vsd/(vsh+vsd)\n",
    "    vs_shm = np.zeros(np.shape(vp))\n",
    "    vs_shm = a1sh*vp + (-a0sh)\n",
    "    vs_sdm = np.zeros(np.shape(vp))\n",
    "    vs_sdm = a1sd*vp + (-a0sd)\n",
    "    vsreuss = 1/((shfrac/vs_shm) + (sdfrac/vs_sdm))\n",
    "    vsvoigt = (vs_shm*shfrac + vs_sdm*sdfrac)\n",
    "    vsgc = 0.5 * (vsreuss + vsvoigt)\n",
    "    return vsgc"
   ]
  },
  {
   "cell_type": "code",
   "execution_count": null,
   "id": "4c1513bc",
   "metadata": {},
   "outputs": [],
   "source": [
    "# original Castagna\n",
    "vsgc1=vs2litho(vshlog,phitlog,vplog, a1sh, a0sh, a1sd, a0sd)\n",
    "res1=vsgc1-vslog\n",
    "plt.figure(figsize=(16,3))\n",
    "plt.title(\"sand shale mixture menggunakan greenberg-castagna polynomial\"); \n",
    "plt.tick_params(axis='x', which='both', bottom=True, labelbottom=True)\n",
    "plt.plot(z,vslog, 'k', lw=2, label=\"insitu\"); plt.plot(z, vsgc1, 'b', lw=1, label=\"GC\")\n",
    "plt.plot(z,res1, 'r', lw=0.5, label=\"res1\")\n",
    "plt.axhline(0, color='r', lw=0.8)\n",
    "plt.fill_between(z, vsgc1, vslog, color='blue', alpha=0.3)\n",
    "plt.legend(loc=\"lower right\",frameon=False, fontsize=10); plt.show()\n",
    "avgres1=res1.mean().round(3)\n",
    "print('rata rata residual:%.3f'% avgres1)"
   ]
  },
  {
   "cell_type": "code",
   "execution_count": null,
   "id": "9af02a48",
   "metadata": {},
   "outputs": [],
   "source": [
    "# curve fitting\n",
    "a1_br=0.8; a0_br=0.6   # placeholder untuk latihan sand fitting\n",
    "vsgc2=vs2litho(vshlog,phitlog,vplog, a1_sh, a0_sh, a1_br, a0_br)\n",
    "res2=vsgc2-vslog\n",
    "plt.figure(figsize=(16,3))\n",
    "plt.title(\"sand shale mixture menggunakan curve fitting thd data\"); \n",
    "plt.tick_params(axis='x', which='both', bottom=True, labelbottom=True)\n",
    "plt.plot(z,vslog, 'k', lw=2, label=\"insitu\"); plt.plot(z, vsgc2, 'b', lw=1, label=\"GC\")\n",
    "plt.plot(z,res2, 'r', lw=0.5, label=\"res2\")\n",
    "plt.axhline(0, color='r', lw=0.8)\n",
    "plt.fill_between(z, vsgc2, vslog, color='blue', alpha=0.3)\n",
    "plt.legend(loc=\"lower right\",frameon=False,fontsize=10); plt.show()\n",
    "avgres2=res2.mean().round(3)\n",
    "print('rata rata residual:%.3f'% avgres2)"
   ]
  },
  {
   "cell_type": "code",
   "execution_count": null,
   "id": "78a68b3c",
   "metadata": {},
   "outputs": [],
   "source": [
    "# manual fitting\n",
    "a1brm=0.6; a0brm=0.5   # placeholder untuk latihan sand fitting\n",
    "vsgc3=vs2litho(vshlog,phitlog,vplog, a1shm, a0shm, a1brm, a0brm) # sand coeff sama dengan Caastagna\n",
    "res3=vsgc3-vslog\n",
    "plt.figure(figsize=(16,3))\n",
    "plt.title(\"sand shale mixture menggunakan manual fitting thd data\"); \n",
    "plt.tick_params(axis='x', which='both', bottom=True, labelbottom=True)\n",
    "plt.plot(z,vslog, 'k', lw=2, label=\"insitu\"); plt.plot(z, vsgc2, 'b', lw=1, label=\"GC\")\n",
    "plt.plot(z,res2, 'r', lw=0.5, label=\"res3\")\n",
    "plt.axhline(0, color='r', lw=0.8)\n",
    "plt.fill_between(z, vsgc2, vslog, color='blue', alpha=0.3)\n",
    "plt.legend(loc=\"lower right\",frameon=False, fontsize=10); plt.show()\n",
    "avgres3=res3.mean().round(3)\n",
    "print('rata rata residual:%.3f'% avgres3)"
   ]
  },
  {
   "cell_type": "code",
   "execution_count": null,
   "id": "e0aeaf47",
   "metadata": {},
   "outputs": [],
   "source": [
    "# perbandingan error atau residual vs depth\n",
    "fig, axs = plt.subplots(ncols=3, figsize=(8,6), sharey=True)\n",
    "ax1 = axs[0]; ax1.plot(res1, z, 'k', lw=0.4, label=\"res1\");ax1.set_title(\"res1\") \n",
    "ax2 = axs[1];ax2.plot(res2, z, 'k', lw=0.4, label=\"res2\");ax2.set_title(\"res2\") \n",
    "ax3 = axs[2];ax3.plot(res3, z, 'k', lw=0.4, label=\"res3\");ax3.set_title(\"res3\")\n",
    "for aa in axs:\n",
    "    aa.xaxis.set_ticklabels([])\n",
    "    aa.axvline(0, color='r', lw=1)\n",
    "    aa.invert_yaxis()\n",
    "plt.show()"
   ]
  },
  {
   "cell_type": "markdown",
   "id": "1a71d6a9",
   "metadata": {},
   "source": [
    "### challenges: \n",
    "1) pelajari dan gunakan teknik error minimization e.g. terhadap rms error<br>\n",
    "2) pelajari dan gunakan Machine Learning (scikit.learn) untuk mencari a1 and a0 dan proses meminimumkan error"
   ]
  },
  {
   "cell_type": "markdown",
   "id": "66945052",
   "metadata": {},
   "source": [
    "### Langkah-2 iterasi hidrokarbon interval menggunakan Gassmann"
   ]
  },
  {
   "cell_type": "code",
   "execution_count": null,
   "id": "fee6b01a",
   "metadata": {},
   "outputs": [],
   "source": [
    "#recall input\n",
    "vplog = worklogs.Vpfilt.values\n",
    "vslog = worklogs.Vsfilt.values\n",
    "rholog = worklogs.Rhofilt.values\n",
    "vshlog = worklogs.Vsh.values\n",
    "phitlog = worklogs.Phit.values\n",
    "swtlog = worklogs.Swt.values\n",
    "z = worklogs.index.values\n",
    "vplogbrine=dfbr.Vpfilt.values"
   ]
  },
  {
   "cell_type": "markdown",
   "id": "5328db4c",
   "metadata": {},
   "source": [
    "## Bound Theories: Reuss, Voigt, Voigt-Reuss-Hill(VRH)"
   ]
  },
  {
   "cell_type": "code",
   "execution_count": null,
   "id": "afd8961e",
   "metadata": {},
   "outputs": [],
   "source": [
    "# -----------fungsi-fungsi yang akan dipakai berkali-kali dalam iterasi----------------\n",
    "# castagna's constants\n",
    "a1sh=0.769\n",
    "a0sh=0.867\n",
    "a1sd=0.804\n",
    "a0sd=0.855\n",
    "# Volume Fraction\n",
    "def vs2litho(vsh, phi, vp, a1sh, a0sh, a1sd, a0sd):\n",
    "    vsd = np.zeros(np.shape(vsh))\n",
    "    vsd = 1 - vsh - phi\n",
    "    shfrac = vsh/(vsh+vsd)\n",
    "    sdfrac  = vsd/(vsh+vsd)\n",
    "    vs_shm = np.zeros(np.shape(vp))\n",
    "    vs_shm = a1sh*vp + (-a0sh)\n",
    "    vs_sdm = np.zeros(np.shape(vp))\n",
    "    vs_sdm = a1sd*vp + (-a0sd)\n",
    "    vsreuss = 1/((shfrac/vs_shm) + (sdfrac/vs_sdm))\n",
    "    vsvoigt = (vs_shm*shfrac + vs_sdm*sdfrac)\n",
    "    vs_ssd = 0.5 * (vsreuss + vsvoigt)\n",
    "    return vs_ssd\n",
    "\n",
    "def mix2litho(vsh, phi, mod_sh, mod_qz):\n",
    "    vsd = np.zeros(np.shape(vsh))\n",
    "    vsd = 1 - vsh - phi\n",
    "    shfrac = vsh/(vsh+vsd)\n",
    "    sdfrac  = vsd/(vsh+vsd)\n",
    "    modreuss = 1/((shfrac/mod_sh) + (sdfrac/mod_qz))\n",
    "    modvoigt = (mod_sh*shfrac + mod_qz*sdfrac)\n",
    "    modvrh = 0.5 * (modreuss + modvoigt)\n",
    "    return modvrh\n",
    "\n",
    "def mix2any(f1, k1, k2):\n",
    "    f2 = 1 - f1\n",
    "    kreuss = 1/((f1/k1) + (f2/k2))\n",
    "    kvoigt = (f1*k1 + f2*k2)\n",
    "    kvrh = 0.5*(kreuss + kvoigt)\n",
    "    return kreuss,kvoigt,kvrh # 0: reuss, 1: voigt; 2: vrh"
   ]
  },
  {
   "cell_type": "code",
   "execution_count": null,
   "id": "dcc26ea0",
   "metadata": {},
   "outputs": [],
   "source": [
    "# fluid and mineral common values\n",
    "rho_qz=2.65;  k_qz=36.6;  mu_qz=44    # mineral properties, quartz (i.e., sands)\n",
    "rho_sh=2.58;  k_sh=20.9;  mu_sh=5     # mineral properties, clay (i.e., shales)\n",
    "rho_br=1.09;   k_br=2.8               # fluid properties, brine\n",
    "rho_oil=0.78;   k_oil=0.94              # fluid properties, oil\n",
    "rho_gas=0.25;   k_gas=0.06              # fluid properties, gas"
   ]
  },
  {
   "cell_type": "code",
   "execution_count": null,
   "id": "ab2912b2",
   "metadata": {},
   "outputs": [],
   "source": [
    "# Initial vp brine guess (SEED POINT)\n",
    "guess = np.random.uniform(0.001, 0.1)\n",
    "vguess = (1 + guess) * vplog\n",
    "print(guess)"
   ]
  },
  {
   "cell_type": "code",
   "execution_count": null,
   "id": "66e051cf",
   "metadata": {},
   "outputs": [],
   "source": [
    "# Vs brine dari initial Vp brine menggunakan simplifikasi polynomial Greenberg-Castagna utk 2 lithology\n",
    "a1sh=0.701; a0sh=0.673; a1sd=0.602; a0sd=0.625 # array-1\n",
    "#a1sh=0.769; a0sh=0.867; a1sd=0.804; a0sd=0.855 # array-2\n",
    "vsgc=vs2litho(vshlog,phitlog,vplog, a1sh, a0sh, a1sd, a0sd)"
   ]
  },
  {
   "cell_type": "markdown",
   "id": "01a58d1e",
   "metadata": {},
   "source": [
    "## Langkah Gassmann"
   ]
  },
  {
   "cell_type": "code",
   "execution_count": null,
   "id": "6ca4e0d7",
   "metadata": {},
   "outputs": [],
   "source": [
    "# input: Vp brine guess, Vs brine; output: Vs fluid\n",
    "def stepgasmn(vp1, vs1, vplog, vslog, rho_sh, rho_qz, k_sh, k_qz, rho_fl1, rho_fl2, k_fl1, k_fl2, phi, vsh, swt):\n",
    "    rho_ma=vsh*(rho_sh)+(1-vsh)*rho_qz                    # STEP-01 rho_ma\n",
    "    rho1 = (1-phi)*rho_ma + (phi*rho_fl1)                 # rho1 atau rho brine,i.e.fl1\n",
    "    mu1 = rho1*vs1**2                                     # dapat dihitung mu baik dari rholog maupun rho_br\n",
    "    k1 = rho1*vp1**2-(4/3)*mu1                            # dari mu1 bisa dihitung k1, brine\n",
    "    #insitu properties------------------------\n",
    "    kmixma=mix2any(vsh, k_sh, k_qz); k_ma=kmixma[2]       # k_ma 0: reuss, 1:voigt, 2: vrh\n",
    "    kfl=1/((swt/k_fl1+((1-swtlog)/k_fl2)))                # menggunakan insitu, swt log\n",
    "    rho_fl=swtlog*rho_fl1+(1-swtlog)*rho_fl2\n",
    "    rho_sat=(phi*rho_fl)+((1-phi)*rho_ma)\n",
    "    ksat=rho_sat*((vplog**2)-((4/3)*mu1))\n",
    "    #kdry------------------------\n",
    "    upper_kdry=k1*((phi*k_ma)/ksat+(1-phi))-k_ma\n",
    "    lower_kdry=(phi*k_ma)/ksat+(k1/k_ma)-1-phi\n",
    "    kdry=upper_kdry/lower_kdry                            # STEP-02 hitung Kdry\n",
    "    #replacement------------------------\n",
    "    upper_k2=(1-(kdry/k_ma))**2                           # hitung Kfluid2\n",
    "    lower_k2=(phi/ksat)+((1-phi)/k_ma)-(kdry/k_ma**2)\n",
    "    k2=kdry+(upper_k2/lower_k2)\n",
    "    #elastic properties------------------------\n",
    "    rho2 = np.zeros(np.shape(vp1))                        # STEP-03 output vp2, vs2, rho2\n",
    "    vp2 = np.zeros(np.shape(vp1))\n",
    "    vs2 = np.zeros(np.shape(vp1))\n",
    "    rho2 = (1-phi)*rho_ma + (phi*rho_fl1)\n",
    "    vp2 = np.sqrt(((k2+(4/3)*mu1))/rho2)\n",
    "    vs2 = np.sqrt((mu1/rho2))\n",
    "    return vp2, vs2                                       # output penting estimasi Vs dengan some unknown fluid"
   ]
  },
  {
   "cell_type": "code",
   "execution_count": null,
   "id": "96330a46",
   "metadata": {},
   "outputs": [],
   "source": [
    "# insitu properties dengan asumsi swtlog, philog, dan brine-oil mixture\n",
    "iterate=stepgasmn(vguess, vsgc, vplog, vslog, rho_sh, rho_qz, k_sh, k_qz, \n",
    "                rho_br, rho_oil, k_br, k_oil, phitlog, vshlog, swtlog)\n",
    "vpbrinew=iterate[0]; vsnew=iterate[1];\n",
    "vpdiff=(vpbrinew-vplog).round(3)\n",
    "vsdiff=(vsnew-vslog).round(3)\n",
    "print(vpdiff.mean(), vsdiff.mean())"
   ]
  },
  {
   "cell_type": "code",
   "execution_count": null,
   "id": "d69099e3",
   "metadata": {},
   "outputs": [],
   "source": [
    "dfoilz=dfoil.index.values \n",
    "dfoilvp=dfoil.Vpfilt.values; dfoilvs=dfoil.Vsfilt.values\n",
    "# QC Error\n",
    "fig, axs = plt.subplots(ncols=4, figsize=(14,10), sharey=True)\n",
    "ax1 = axs[0].twiny(); ax1.plot(vplog, z, 'k', lw=1, label=\"log\"); \n",
    "ax1.set_title(\"Vp\"); ax1.set_xlim(2.2,4.8)\n",
    "ax2 = axs[0].twiny(); ax2.plot(vpbrinew, z, 'b', lw=1, label=\"gc\")\n",
    "ax2.set_xlim(2.2,4.8)\n",
    "ax3 = axs[1]; ax3.plot(vpdiff, z, 'r', lw=1, label=\"diff\")\n",
    "ax3.set_title(\"diff\"); ax3.axvline(0, color='r', lw=1)\n",
    "ax4 = axs[2].twiny(); ax4.set_xlim(0.4,2.8)\n",
    "ax4.plot(vslog, z, 'k', lw=1, label=\"log\")\n",
    "ax4.plot(dfoilvs, dfoilz, 'go', alpha=0.2)\n",
    "ax4.set_title(\"Vs\"); ax5 = axs[2].twiny()\n",
    "ax5.plot(vsnew, z, 'b', lw=1, label=\"gc\"); ax5.set_xlim(0.4,2.8)\n",
    "ax5.fill_betweenx(z, vsnew, vslog, color='blue', alpha=0.2)\n",
    "ax6 = axs[3]; ax6.plot(vpdiff, z, 'r', lw=1, label=\"diff\")\n",
    "ax6.set_title(\"diff\"); ax6.axvline(0, color='r', lw=1)\n",
    "for aa in axs:\n",
    "    aa.invert_yaxis()\n",
    "    aa.xaxis.set_ticklabels([])\n",
    "for ab in [ax3, ax6]:\n",
    "    ab.set_xlim(-0.3,0.3)\n",
    "textvp=f\"Error: ={vpdiff.mean():.3f}\"\n",
    "textvs=f\"Error: ={vsdiff.mean():.3f}\"\n",
    "plt.text(-2.4,1800,textvp,color='k', size=12);\n",
    "plt.text(3.3,1800,textvs,color='k', size=12);\n",
    "plt.legend(loc=\"lower right\",frameon=False,fontsize=10)\n",
    "plt.show()"
   ]
  },
  {
   "cell_type": "markdown",
   "id": "8223bdbb",
   "metadata": {},
   "source": [
    "Contoh iterasi atau looping berikut - untuk diskusi dalam kelas dan project untuk dikembangkan lebih lanjut"
   ]
  },
  {
   "cell_type": "code",
   "execution_count": null,
   "id": "5e6ca68f",
   "metadata": {},
   "outputs": [],
   "source": [
    "# test ksat iterations\n",
    "k1=2.8;   k2=0.94\n",
    "def ksatiteration(f1, k1, k2):\n",
    "    f2 = 1 - f1\n",
    "    k_reuss = 1/((f1/k1) + (f2/k2))\n",
    "    k_voigt = (f1*k1 + f2*k2)\n",
    "    k_vrh = 0.5*(k_reuss + k_voigt)\n",
    "    return (k_vrh)\n",
    "f1 = 5\n",
    "for i in range(f1):\n",
    "    ksat = ksatiteration(0.1*i, k1, k2)\n",
    "print(ksat)"
   ]
  },
  {
   "cell_type": "markdown",
   "id": "21543053",
   "metadata": {},
   "source": [
    "parameter yang dapat dioptimisasi atau meminimumkan error: <br>\n",
    "__castagna coefficients, guess seed point, k_fluid mixture, rho_sat berdasarkan fluid mixture__, dsb."
   ]
  },
  {
   "cell_type": "markdown",
   "id": "85baf0d2",
   "metadata": {},
   "source": [
    "scipy documentation mempunyai banyak deskripsi mengenai fungsi minimisasi: <br> https://docs.scipy.org/doc/scipy/reference/tutorial/optimize.html<br>\n",
    "https://scipy-lectures.org/advanced/mathematical_optimization/"
   ]
  },
  {
   "cell_type": "markdown",
   "id": "3c937590",
   "metadata": {},
   "source": [
    "<h1><center>-Akhir Program Latihan-3c-<center></h1>"
   ]
  }
 ],
 "metadata": {
  "kernelspec": {
   "display_name": "Python 3",
   "language": "python",
   "name": "python3"
  },
  "language_info": {
   "codemirror_mode": {
    "name": "ipython",
    "version": 3
   },
   "file_extension": ".py",
   "mimetype": "text/x-python",
   "name": "python",
   "nbconvert_exporter": "python",
   "pygments_lexer": "ipython3",
   "version": "3.9.5"
  }
 },
 "nbformat": 4,
 "nbformat_minor": 5
}
