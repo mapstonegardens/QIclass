{
 "cells": [
  {
   "cell_type": "markdown",
   "id": "04355d85",
   "metadata": {},
   "source": [
    "# Latihan-6 Half Space in 1D (Angle, Thickness, Fluid)"
   ]
  },
  {
   "cell_type": "markdown",
   "id": "60e249c2",
   "metadata": {},
   "source": [
    "Latihan ini untuk pemodelan half space atau disebut juga blocky model, atau interface model yang terdiri dari 2-3 block layers dengan variasi ketebalan untuk memodelkan respon amplitudo terhadap interface antara layers\n",
    "<br><br> _citation for this page: \"Adi Widyantoro, 2021, Pertamina Seismic QI Course, Latihan-6 Halfspace in 1D - Angle Thickness Fluid.ipynb, accessed MM DD, YYYY.\"_  \n",
    "<br>\n",
    ">(update terakhir tanggal 1 Juli 2021 oleh Adi Widyantoro)\n",
    "<hr>"
   ]
  },
  {
   "cell_type": "markdown",
   "id": "f104f7b6",
   "metadata": {},
   "source": [
    "__Tahap-1__ \n",
    "<br> Program setup dan display sama seperti latihan sebelumnya. Gunakan hasil dari Latihan-2 data untuk latihan selanjutnya\n",
    "<br> \n",
    "\n",
    "        special notes_: brugeslibrary adalah kumpulan pre-defined functions oleh Agile Geoscience bruges:\n",
    "        https://github.com/agile-geoscience/bruges\n",
    "        \n",
    "        the library's credits go to bruges contributors: Evan Bianco, Ben Bougher, Matt Hall, Alessandro Amato del Monte, \n",
    "        Wes Hamlyn, Sean Ross-Ross"
   ]
  },
  {
   "cell_type": "code",
   "execution_count": null,
   "id": "4557b311",
   "metadata": {
    "scrolled": true
   },
   "outputs": [],
   "source": [
    "%matplotlib inline\n",
    "%config InlineBackend.figure_format = 'png'\n",
    "import numpy as np\n",
    "import matplotlib.pyplot as plt\n",
    "import matplotlib as mpl\n",
    "import pandas as pd\n",
    "import math\n",
    "from scipy.signal import hilbert\n",
    "from f07reflect import fullzoep, ei_norm\n",
    "from f07gassmann import fluidsub"
   ]
  },
  {
   "cell_type": "markdown",
   "id": "dce34de5",
   "metadata": {},
   "source": [
    "__Tahap-2__ \n",
    "<br> Mendapatkan nilai rata-rata untuk masing-masing interval. Data dari Latihan-2 sebelumnya adalah sbb:"
   ]
  },
  {
   "cell_type": "code",
   "execution_count": null,
   "id": "4c6db83b",
   "metadata": {},
   "outputs": [],
   "source": [
    "oil_mean = np.array([3.260,1.860,2.29])\n",
    "ssd_mean = np.array([3.440,1.970,2.37])\n",
    "sh_mean = np.array([3.310,1.730,2.51])\n",
    "brine_mean = np.array([3.500,2.050,2.35])\n",
    "coal_mean = np.array([2.450,1.660,1.37])"
   ]
  },
  {
   "cell_type": "markdown",
   "id": "a98f0ff0",
   "metadata": {},
   "source": [
    "__Tahap-3__ \n",
    "<br> Model konseptual thickness divisualisasikan dalam bentuk sample numbers (e.g. asumsi 1 sampel unit = 1 unit kedalaman) "
   ]
  },
  {
   "cell_type": "code",
   "execution_count": null,
   "id": "847ffe40",
   "metadata": {},
   "outputs": [],
   "source": [
    "\"\"\"\n",
    "Visualisasi ini tidak terlalu straightforward, memerlukan workaround dan akan diganti dengan yang lebih baik\n",
    "tetapi untuk saat ini, thickness dimodelkan dengan memanipulasi jumlah sampel = 500 unit\n",
    "lapisan pertama-kedua-ketiga adalah fraksi total jumlah sampel yang akan dipartisi sesuai dengan input fraksi nya\n",
    "\n",
    "misalnya fraksi lapisan pertama = 0.4, maka thickness nya menjadi 0.4 * 500 = 200 unit thickness\n",
    "jika fraksi lapisan kedua = 0.6, maka thickness lapisan kedua menjadi (0.6-0.4)*500 = 100 unit thickness\n",
    "contoh lain jika lapisan kedua adalah thin layer = 0.42, maka thickness lapisan kedua (0.42-0.4)*500 = 10 unit\n",
    "untuk lapisan ketiga tidak perlu ditentukan karena akan mengambil sisanya\n",
    "\"\"\"\n",
    "n_samples = 500\n",
    "interface1 = int(0.4*n_samples) # mis: 500*0.4 = 200, atau 200 unit pertama menjadi interface-1\n",
    "interface2 = int(0.6*n_samples) # mis: 500*0.6 = 300, atau 100 unit menjadi interface-2"
   ]
  },
  {
   "cell_type": "code",
   "execution_count": null,
   "id": "0ca908d2",
   "metadata": {},
   "outputs": [],
   "source": [
    "\"\"\"\n",
    "default wavelet yang digunakan adalah Ricker central frequency 20Hz, 200samples\n",
    "eksplorasi pilihan rotasi wavelet dengan mengubah ph=0 menjadi rotasi yang diinginkan misalnya ph=-90deg\n",
    "untuk apreasiasi visualisasi bandlimited amplitude responses  \n",
    "\"\"\"\n",
    "f, l, dt, ph = 20, 200, 0.4, 0\n",
    "t = np.linspace(-l/2, (l-dt)/2, int(l/dt))/1000\n",
    "zerophase = (1.0 - 2.0*(np.pi**2)*(f**2)*(t**2)) * np.exp(-(np.pi**2)*(f**2)*(t**2))\n",
    "h = hilbert (zerophase)\n",
    "theta = ph*np.pi/180\n",
    "wavelet = np.cos(theta)*h.real-np.sin(theta)*h.imag\n",
    "\n",
    "\n",
    "#----------pilihan rentang min/max theta (angles.deg)--------------\n",
    "thetamin=0; thetamax=50\n",
    "ang = np.arange(thetamin,thetamax+1,2)\n",
    "z = np.arange(n_samples)"
   ]
  },
  {
   "cell_type": "markdown",
   "id": "fe35bcc6",
   "metadata": {},
   "source": [
    "__Tahap-4__ \n",
    "<br> variasi fluida dengan konvolusi elastic impedance (angle dependence) terhadap wavelet\n",
    "\n",
    "\n",
    "_credit: codes are inspired by original aadm's program: //geophysical_notes_master/relationship-reflectivity-elastic-impedance_Simm-Bacon.ipynb_"
   ]
  },
  {
   "cell_type": "markdown",
   "id": "138a0aaf",
   "metadata": {},
   "source": [
    "### lapisan BRINE"
   ]
  },
  {
   "cell_type": "code",
   "execution_count": null,
   "id": "4410f6f1",
   "metadata": {},
   "outputs": [],
   "source": [
    "\"-----------------INPUT PROPERTIES-------------------------------------\"\n",
    "\n",
    "#------------Lapisan pertama dan ketiga--------------------------------\n",
    "vpsh=sh_mean[0]; vssh=sh_mean[1]; rhosh=sh_mean[2]\n",
    "aish=sh_mean[0]*sh_mean[2]\n",
    "norm = vpsh,vpsh,vpsh\n",
    "\n",
    "#------------Lapisan kedua---------------------------------------------\n",
    "vpbr=brine_mean[0]; vsbr=brine_mean[1]; rhobr=brine_mean[2]\n",
    "aibr=round((vpbr*rhobr),2)\n",
    "#----------------------------------------------------------------------"
   ]
  },
  {
   "cell_type": "code",
   "execution_count": null,
   "id": "73669fae",
   "metadata": {},
   "outputs": [],
   "source": [
    "\"\"\"\n",
    "model yang digunakan saat ini masih zero reflectivity untuk setiap angle\n",
    "dan bukan full gathers dari reflectivity equation. \n",
    "model ini akan diganti menjadi full gathers dalam waktu dekat, tetapi\n",
    "untuk saat ini cukup memberikan ilustrasi efek thickness, wavelet dan fluid\n",
    "\"\"\"\n",
    "#-------------layer model----------------------------------------------\n",
    "modelbr=np.zeros((n_samples,4))\n",
    "modelbr[:interface1,:]=[vpsh,vssh,rhosh, aish]\n",
    "modelbr[interface2:,:]=[vpsh,vssh,rhosh, aish]\n",
    "modelbr[interface1:interface2,:]=[vpbr,vsbr,rhobr,aibr]\n",
    "aibr=modelbr[:,3]\n",
    "#elastic impedance\n",
    "eibr, rcbr, synbr = (np.zeros((n_samples,ang.size)) for _ in range(3))\n",
    "for i,alpha in enumerate(ang):\n",
    "    eibr[:,i] = ei_norm(modelbr[:,0], modelbr[:,1], modelbr[:,2], alpha, norm)\n",
    "    rcbr = (eibr[1:,i] - eibr[:-1,i]) / (eibr[1:,i] + eibr[:-1,i])\n",
    "    rcbr = np.append(np.nan, rcbr)\n",
    "    rcbr = np.nan_to_num(rcbr)\n",
    "    synbr[:,i] = np.convolve(rcbr, wavelet, mode='same')"
   ]
  },
  {
   "cell_type": "code",
   "execution_count": null,
   "id": "36432007",
   "metadata": {},
   "outputs": [],
   "source": [
    "print(vpbr, vsbr, rhobr, aibr[1], sep=\" | \")"
   ]
  },
  {
   "cell_type": "markdown",
   "id": "240b5bd5",
   "metadata": {},
   "source": [
    "### lapisan HIDROKARBON"
   ]
  },
  {
   "cell_type": "code",
   "execution_count": null,
   "id": "4e6c9ff9",
   "metadata": {},
   "outputs": [],
   "source": [
    "\"-----------------INPUT PROPERTIES-------------------------------------\"\n",
    "\"\"\"\n",
    "jika menggunakan pilihan gassmann replacement, eksplorasi opsi variasi fluid mixture\n",
    "dengan mengubah f2mix dengan rentang 0.0 - 1.0 untuk melihat efeknya terhadap model\n",
    "eksplorasi opsi juga dapat dilakukan dengan mengganti mixture model dari isostress Reuss\n",
    "menjadi lebih patchy dengan Brie atau Voigt seperti yang telah dibahas pada Latihan-3\n",
    "\"\"\"\n",
    "#--------Lapisan pertama dan ketiga sama dengan brine di atas----------\n",
    "\n",
    "#-----------------Lapisan kedua (dari data sumur)----------------------\n",
    "#vphc=oil_mean[0]; vshc=oil_mean[1]; rhohc=oil_mean[2]\n",
    "\n",
    "#--------pilihan gassmann (use ctrl+ / for multiple hastags)-----------\n",
    "vp1=brine_mean[0]; vs1=brine_mean[1]; rho1=brine_mean[2]; \n",
    "ai1=brine_mean[0]*brine_mean[2]\n",
    "\n",
    "vsh=0.195; phi=0.207; rho_br=1.09; rho_oil=0.78; k_qz=36.6; k_sh=20.9  # dari latihan-3\n",
    "kmin = 0.5*((vsh*k_sh+(1-vsh)*k_qz)+(vsh/k_sh)+(1-vsh/k_qz))\n",
    "k_br=2.8; k_oil=0.94; k_gas=0.06 \n",
    "f2mix=0 # fluid mixture\n",
    "#----------------------------------------------------------------------"
   ]
  },
  {
   "cell_type": "code",
   "execution_count": null,
   "id": "01020b41",
   "metadata": {},
   "outputs": [],
   "source": [
    "#-------------layer model----------------------------------------------\n",
    "if f2mix==0:\n",
    "    rhof1=rho_br; rhof2=rhof1\n",
    "    kf1=k_br; kf2=kf1\n",
    "    kfl2=kf1\n",
    "    vphc=vp1; vshc=vs1; rhohc=rho1; aihc=ai1\n",
    "else:\n",
    "    f1mix=1-f2mix\n",
    "    rhof1=rho_br; rhof2=rho_oil\n",
    "    rhofl2=(f1mix*rhof1)+(f2mix*rhof2) # eff density\n",
    "    kf1=k_br; kf2=k_oil\n",
    "    kreuss=1/((f1mix/kf1)+(f2mix/kf2)) # eff modulus (Domenico, 1976)\n",
    "    kvoigt=(f1mix*kf1)+(f2mix*kf2) # patchy approach (Mavko and Mukerji, 1998)\n",
    "    kfl2=kreuss\n",
    "    gassmn=fluidsub(vp1, vs1, rho1, phi, rhof1, rhofl2, kmin, kf1, kfl2)\n",
    "    vphc=gassmn[0].round(2); vshc=gassmn[1].round(2); rhohc=gassmn[2].round(2)\n",
    "    aihc=round((vphc*rhohc),2)\n",
    "modelhc=np.zeros((n_samples,4))\n",
    "modelhc[:interface1,:]=[vpsh,vssh,rhosh,aish]\n",
    "modelhc[interface2:,:]=[vpsh,vssh,rhosh, aish]\n",
    "modelhc[interface1:interface2,:]=[vphc,vshc,rhohc,aihc]\n",
    "aihc=modelhc[:,3]\n",
    "\n",
    "#elastic impedance\n",
    "eihc, rchc, synhc = (np.zeros((n_samples,ang.size)) for _ in range(3))\n",
    "for i,alpha in enumerate(ang):\n",
    "    eihc[:,i] = ei_norm(modelhc[:,0], modelhc[:,1], modelhc[:,2], alpha, norm)\n",
    "    rchc = (eihc[1:,i] - eihc[:-1,i]) / (eihc[1:,i] + eihc[:-1,i])\n",
    "    rchc = np.append(np.nan, rchc)\n",
    "    rchc = np.nan_to_num(rchc)\n",
    "    synhc[:,i] = np.convolve(rchc, wavelet, mode='same')"
   ]
  },
  {
   "cell_type": "code",
   "execution_count": null,
   "id": "5c53dce6",
   "metadata": {},
   "outputs": [],
   "source": [
    "print(k_br, round(kfl2,4), sep=\" | \"); # QC jika Gassmann dan f2mix=0, maka seharusnya kfl2 = k_brine "
   ]
  },
  {
   "cell_type": "markdown",
   "id": "bbc89ccf",
   "metadata": {},
   "source": [
    "### Analisis dan iterasi perbandingan brine dan hidrokarbon layers dengan variasi angles"
   ]
  },
  {
   "cell_type": "code",
   "execution_count": null,
   "id": "5c289529",
   "metadata": {
    "scrolled": false
   },
   "outputs": [],
   "source": [
    "gain=5\n",
    "f=plt.subplots(figsize=(20, 5), sharey=True, facecolor='white')\n",
    "mpl.style.use('default')\n",
    "ax0 = plt.subplot2grid((1,15), (0,0), colspan=1)\n",
    "ax1 = plt.subplot2grid((1,15), (0,1), colspan=3)\n",
    "ax2 = plt.subplot2grid((1,15), (0,4), colspan=1)\n",
    "ax3 = plt.subplot2grid((1,15), (0,5), colspan=3)\n",
    "#------------brine--------------------------------------------\n",
    "ax0.plot(aibr, z, 'k', lw=1); ax0.set_xlabel('AI Brine', size=16)\n",
    "ax0.fill_betweenx(z, aibr, aibr.max(), facecolor='b')\n",
    "for i in range(ang.size):\n",
    "    tracebr=synbr[:,i]*gain\n",
    "    ax1.plot(tracebr+i,z,color='k', linewidth=1)\n",
    "    ax1.fill_betweenx(z,tracebr+i,i, where=tracebr+i>i, \n",
    "                      facecolor='darkblue', linewidth=0, alpha=0.6)\n",
    "    ax1.fill_betweenx(z,tracebr+i,i, where=tracebr+i<i, \n",
    "                      facecolor='r', linewidth=0, alpha=0.6)\n",
    "    ax1.set_xlim(-0.95,synbr.shape[1]-.1)\n",
    "#-----------replaced with HC-----------------------------------\n",
    "ax2.plot(aihc, z, 'k', lw=1); ax2.set_xlabel('AI HC', size=16)\n",
    "ax2.fill_betweenx(z, aihc, aihc.max(), facecolor='g', alpha=0.4)\n",
    "ax2.set_yticklabels([]); ax2.set_xlim(0.99*aihc.min(),1.01*aihc.max())    \n",
    "for j in range(ang.size):\n",
    "    tracehc = synhc[:,j]*gain\n",
    "    ax3.plot(tracehc+j,z,color='k', linewidth=1)\n",
    "    ax3.fill_betweenx(z,tracehc+j,j, where=tracehc+j>j, facecolor='darkblue', linewidth=0, alpha=0.6)\n",
    "    ax3.fill_betweenx(z,tracehc+j,j, where=tracehc+j<j, facecolor='r', linewidth=0, alpha=0.6)   \n",
    "    ax3.set_xlim(-0.95,synhc.shape[1]-.1)\n",
    "ticks=int((thetamax/2))\n",
    "for aa in [ax0, ax1, ax2, ax3]:\n",
    "    aa.set_ylim(100,350)\n",
    "    aa.invert_yaxis()\n",
    "    aa.xaxis.set_ticks_position('top')\n",
    "    aa.xaxis.set_label_position('top')\n",
    "for bb in [ax1, ax3]:    \n",
    "    bb.set_yticklabels([])\n",
    "    bb.set_xticks((0,ticks/2,ticks))\n",
    "    bb.set_xticklabels((0,ticks,thetamax))\n",
    "for cc in [ax0, ax2]: \n",
    "    cc.grid(color='lightgrey', linestyle=':')\n",
    "    cc.set_xlim(0.99*aihc.min(),1.01*aihc.max())"
   ]
  },
  {
   "cell_type": "markdown",
   "id": "02a22ba0",
   "metadata": {},
   "source": [
    "Prosedur di atas menggunakan pendekatan zero-offset reflectivity (EI2-EI1)/(E2+EI1) pada setiap angles. Bukan fully angle dependence reflectivities dengan relative amplitude dan frequency nya.<br>\n",
    "\n",
    "tetapi dapat digunakan sebagai konsep untuk menganalisis variasi besaran amplitudo terhadap angle, terhadap thickness, general fluid content, dan wavelet phase<br>\n",
    "<br>\n",
    "Diskusikan dengan intruktur untuk mengubah: SUDUT DATANG, KETEBALAN, SATURASI, ROTASI FASA WAVELET yang akan berpengaruh terhadap variasi amplitudo\n",
    "<br>\n",
    "\n",
    "    _catatan_: wavelet interference terhadap thickness tidak dimodelkan dalam latihan ini"
   ]
  },
  {
   "cell_type": "markdown",
   "id": "d7bd558d",
   "metadata": {},
   "source": [
    "<h1><center>-Akhir Program Latihan-6-<center></h1>"
   ]
  }
 ],
 "metadata": {
  "kernelspec": {
   "display_name": "Python 3",
   "language": "python",
   "name": "python3"
  },
  "language_info": {
   "codemirror_mode": {
    "name": "ipython",
    "version": 3
   },
   "file_extension": ".py",
   "mimetype": "text/x-python",
   "name": "python",
   "nbconvert_exporter": "python",
   "pygments_lexer": "ipython3",
   "version": "3.9.5"
  }
 },
 "nbformat": 4,
 "nbformat_minor": 5
}
